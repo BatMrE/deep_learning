{
  "nbformat": 4,
  "nbformat_minor": 0,
  "metadata": {
    "colab": {
      "provenance": []
    },
    "kernelspec": {
      "name": "python3",
      "display_name": "Python 3"
    },
    "language_info": {
      "name": "python"
    }
  },
  "cells": [
    {
      "cell_type": "markdown",
      "source": [
        "#Question#1"
      ],
      "metadata": {
        "id": "uvxYBNie62lV"
      }
    },
    {
      "cell_type": "markdown",
      "source": [
        "##Creating Dataset"
      ],
      "metadata": {
        "id": "XIpsHRWb6937"
      }
    },
    {
      "cell_type": "code",
      "execution_count": null,
      "metadata": {
        "colab": {
          "base_uri": "https://localhost:8080/"
        },
        "id": "O3oQRm1uvsZV",
        "outputId": "2b026376-45ce-435a-809e-48b321c310e8"
      },
      "outputs": [
        {
          "output_type": "stream",
          "name": "stdout",
          "text": [
            "Mounted at /content/drive/\n"
          ]
        }
      ],
      "source": [
        "from google.colab import drive\n",
        "drive.mount('/content/drive/')"
      ]
    },
    {
      "cell_type": "code",
      "source": [
        "%cd '/content/drive/MyDrive/COMP-8610/Datasets'\n",
        "%ls"
      ],
      "metadata": {
        "colab": {
          "base_uri": "https://localhost:8080/"
        },
        "id": "s1AgelnTv3xL",
        "outputId": "b0641c94-9678-4c95-8d1a-c5cee29fef2d"
      },
      "execution_count": null,
      "outputs": [
        {
          "output_type": "stream",
          "name": "stdout",
          "text": [
            "/content/drive/MyDrive/COMP-8610/Datasets\n"
          ]
        }
      ]
    },
    {
      "cell_type": "code",
      "source": [
        "import numpy as np\n",
        "import pandas as pd\n",
        "from sklearn.model_selection import train_test_split\n",
        "from sklearn.metrics import mean_squared_error"
      ],
      "metadata": {
        "id": "sTAO0OqY5HNf"
      },
      "execution_count": null,
      "outputs": []
    },
    {
      "cell_type": "code",
      "source": [
        "np.random.seed(1)\n",
        "x = np.random.normal(0, 1, 5000)\n",
        "eps = np.random.normal(0, np.sqrt(0.25), 5000)\n",
        "y = -1 + 0.5 * x - 2 * x**2 + 0.3 * x**3 + eps"
      ],
      "metadata": {
        "id": "0xa-y5fDwHMg"
      },
      "execution_count": null,
      "outputs": []
    },
    {
      "cell_type": "code",
      "source": [
        "len(x), len(y)"
      ],
      "metadata": {
        "colab": {
          "base_uri": "https://localhost:8080/"
        },
        "id": "glrG-cA6wsQV",
        "outputId": "2b197bf7-f7d1-451b-f5e4-ba56517fdd44"
      },
      "execution_count": null,
      "outputs": [
        {
          "output_type": "execute_result",
          "data": {
            "text/plain": [
              "(5000, 5000)"
            ]
          },
          "metadata": {},
          "execution_count": 594
        }
      ]
    },
    {
      "cell_type": "code",
      "source": [
        "x0 = [1]*5000"
      ],
      "metadata": {
        "id": "XR4x-Jfp6Ze2"
      },
      "execution_count": null,
      "outputs": []
    },
    {
      "cell_type": "code",
      "source": [
        "data = pd.DataFrame(x0, columns=['x0'])\n",
        "data[\"x\"]=x\n",
        "data[\"x2\"]=x**2\n",
        "data[\"x3\"]=x**3\n",
        "data[\"y\"]=y"
      ],
      "metadata": {
        "id": "In9YkiT_4_rd"
      },
      "execution_count": null,
      "outputs": []
    },
    {
      "cell_type": "code",
      "source": [
        "data"
      ],
      "metadata": {
        "colab": {
          "base_uri": "https://localhost:8080/",
          "height": 424
        },
        "id": "fozCMOFw5Vv5",
        "outputId": "351bd827-e1dc-4c22-f776-049fcb6add8c"
      },
      "execution_count": null,
      "outputs": [
        {
          "output_type": "execute_result",
          "data": {
            "text/plain": [
              "      x0         x        x2         x3         y\n",
              "0      1  1.624345  2.638498   4.285832 -4.641451\n",
              "1      1 -0.611756  0.374246  -0.228947 -1.558609\n",
              "2      1 -0.528172  0.278965  -0.147342 -2.430615\n",
              "3      1 -1.072969  1.151262  -1.235268 -4.571957\n",
              "4      1  0.865408  0.748930   0.648130 -1.558932\n",
              "...   ..       ...       ...        ...       ...\n",
              "4995   1  1.604546  2.574569   4.131014 -4.071081\n",
              "4996   1  0.566613  0.321050   0.181911 -1.059670\n",
              "4997   1 -0.775988  0.602157  -0.467267 -3.239560\n",
              "4998   1  1.084889  1.176983   1.276896 -2.459802\n",
              "4999   1  2.241989  5.026517  11.269398 -7.270154\n",
              "\n",
              "[5000 rows x 5 columns]"
            ],
            "text/html": [
              "\n",
              "  <div id=\"df-17d366f3-93d2-4941-b0be-2b26557737c6\" class=\"colab-df-container\">\n",
              "    <div>\n",
              "<style scoped>\n",
              "    .dataframe tbody tr th:only-of-type {\n",
              "        vertical-align: middle;\n",
              "    }\n",
              "\n",
              "    .dataframe tbody tr th {\n",
              "        vertical-align: top;\n",
              "    }\n",
              "\n",
              "    .dataframe thead th {\n",
              "        text-align: right;\n",
              "    }\n",
              "</style>\n",
              "<table border=\"1\" class=\"dataframe\">\n",
              "  <thead>\n",
              "    <tr style=\"text-align: right;\">\n",
              "      <th></th>\n",
              "      <th>x0</th>\n",
              "      <th>x</th>\n",
              "      <th>x2</th>\n",
              "      <th>x3</th>\n",
              "      <th>y</th>\n",
              "    </tr>\n",
              "  </thead>\n",
              "  <tbody>\n",
              "    <tr>\n",
              "      <th>0</th>\n",
              "      <td>1</td>\n",
              "      <td>1.624345</td>\n",
              "      <td>2.638498</td>\n",
              "      <td>4.285832</td>\n",
              "      <td>-4.641451</td>\n",
              "    </tr>\n",
              "    <tr>\n",
              "      <th>1</th>\n",
              "      <td>1</td>\n",
              "      <td>-0.611756</td>\n",
              "      <td>0.374246</td>\n",
              "      <td>-0.228947</td>\n",
              "      <td>-1.558609</td>\n",
              "    </tr>\n",
              "    <tr>\n",
              "      <th>2</th>\n",
              "      <td>1</td>\n",
              "      <td>-0.528172</td>\n",
              "      <td>0.278965</td>\n",
              "      <td>-0.147342</td>\n",
              "      <td>-2.430615</td>\n",
              "    </tr>\n",
              "    <tr>\n",
              "      <th>3</th>\n",
              "      <td>1</td>\n",
              "      <td>-1.072969</td>\n",
              "      <td>1.151262</td>\n",
              "      <td>-1.235268</td>\n",
              "      <td>-4.571957</td>\n",
              "    </tr>\n",
              "    <tr>\n",
              "      <th>4</th>\n",
              "      <td>1</td>\n",
              "      <td>0.865408</td>\n",
              "      <td>0.748930</td>\n",
              "      <td>0.648130</td>\n",
              "      <td>-1.558932</td>\n",
              "    </tr>\n",
              "    <tr>\n",
              "      <th>...</th>\n",
              "      <td>...</td>\n",
              "      <td>...</td>\n",
              "      <td>...</td>\n",
              "      <td>...</td>\n",
              "      <td>...</td>\n",
              "    </tr>\n",
              "    <tr>\n",
              "      <th>4995</th>\n",
              "      <td>1</td>\n",
              "      <td>1.604546</td>\n",
              "      <td>2.574569</td>\n",
              "      <td>4.131014</td>\n",
              "      <td>-4.071081</td>\n",
              "    </tr>\n",
              "    <tr>\n",
              "      <th>4996</th>\n",
              "      <td>1</td>\n",
              "      <td>0.566613</td>\n",
              "      <td>0.321050</td>\n",
              "      <td>0.181911</td>\n",
              "      <td>-1.059670</td>\n",
              "    </tr>\n",
              "    <tr>\n",
              "      <th>4997</th>\n",
              "      <td>1</td>\n",
              "      <td>-0.775988</td>\n",
              "      <td>0.602157</td>\n",
              "      <td>-0.467267</td>\n",
              "      <td>-3.239560</td>\n",
              "    </tr>\n",
              "    <tr>\n",
              "      <th>4998</th>\n",
              "      <td>1</td>\n",
              "      <td>1.084889</td>\n",
              "      <td>1.176983</td>\n",
              "      <td>1.276896</td>\n",
              "      <td>-2.459802</td>\n",
              "    </tr>\n",
              "    <tr>\n",
              "      <th>4999</th>\n",
              "      <td>1</td>\n",
              "      <td>2.241989</td>\n",
              "      <td>5.026517</td>\n",
              "      <td>11.269398</td>\n",
              "      <td>-7.270154</td>\n",
              "    </tr>\n",
              "  </tbody>\n",
              "</table>\n",
              "<p>5000 rows × 5 columns</p>\n",
              "</div>\n",
              "    <div class=\"colab-df-buttons\">\n",
              "\n",
              "  <div class=\"colab-df-container\">\n",
              "    <button class=\"colab-df-convert\" onclick=\"convertToInteractive('df-17d366f3-93d2-4941-b0be-2b26557737c6')\"\n",
              "            title=\"Convert this dataframe to an interactive table.\"\n",
              "            style=\"display:none;\">\n",
              "\n",
              "  <svg xmlns=\"http://www.w3.org/2000/svg\" height=\"24px\" viewBox=\"0 -960 960 960\">\n",
              "    <path d=\"M120-120v-720h720v720H120Zm60-500h600v-160H180v160Zm220 220h160v-160H400v160Zm0 220h160v-160H400v160ZM180-400h160v-160H180v160Zm440 0h160v-160H620v160ZM180-180h160v-160H180v160Zm440 0h160v-160H620v160Z\"/>\n",
              "  </svg>\n",
              "    </button>\n",
              "\n",
              "  <style>\n",
              "    .colab-df-container {\n",
              "      display:flex;\n",
              "      gap: 12px;\n",
              "    }\n",
              "\n",
              "    .colab-df-convert {\n",
              "      background-color: #E8F0FE;\n",
              "      border: none;\n",
              "      border-radius: 50%;\n",
              "      cursor: pointer;\n",
              "      display: none;\n",
              "      fill: #1967D2;\n",
              "      height: 32px;\n",
              "      padding: 0 0 0 0;\n",
              "      width: 32px;\n",
              "    }\n",
              "\n",
              "    .colab-df-convert:hover {\n",
              "      background-color: #E2EBFA;\n",
              "      box-shadow: 0px 1px 2px rgba(60, 64, 67, 0.3), 0px 1px 3px 1px rgba(60, 64, 67, 0.15);\n",
              "      fill: #174EA6;\n",
              "    }\n",
              "\n",
              "    .colab-df-buttons div {\n",
              "      margin-bottom: 4px;\n",
              "    }\n",
              "\n",
              "    [theme=dark] .colab-df-convert {\n",
              "      background-color: #3B4455;\n",
              "      fill: #D2E3FC;\n",
              "    }\n",
              "\n",
              "    [theme=dark] .colab-df-convert:hover {\n",
              "      background-color: #434B5C;\n",
              "      box-shadow: 0px 1px 3px 1px rgba(0, 0, 0, 0.15);\n",
              "      filter: drop-shadow(0px 1px 2px rgba(0, 0, 0, 0.3));\n",
              "      fill: #FFFFFF;\n",
              "    }\n",
              "  </style>\n",
              "\n",
              "    <script>\n",
              "      const buttonEl =\n",
              "        document.querySelector('#df-17d366f3-93d2-4941-b0be-2b26557737c6 button.colab-df-convert');\n",
              "      buttonEl.style.display =\n",
              "        google.colab.kernel.accessAllowed ? 'block' : 'none';\n",
              "\n",
              "      async function convertToInteractive(key) {\n",
              "        const element = document.querySelector('#df-17d366f3-93d2-4941-b0be-2b26557737c6');\n",
              "        const dataTable =\n",
              "          await google.colab.kernel.invokeFunction('convertToInteractive',\n",
              "                                                    [key], {});\n",
              "        if (!dataTable) return;\n",
              "\n",
              "        const docLinkHtml = 'Like what you see? Visit the ' +\n",
              "          '<a target=\"_blank\" href=https://colab.research.google.com/notebooks/data_table.ipynb>data table notebook</a>'\n",
              "          + ' to learn more about interactive tables.';\n",
              "        element.innerHTML = '';\n",
              "        dataTable['output_type'] = 'display_data';\n",
              "        await google.colab.output.renderOutput(dataTable, element);\n",
              "        const docLink = document.createElement('div');\n",
              "        docLink.innerHTML = docLinkHtml;\n",
              "        element.appendChild(docLink);\n",
              "      }\n",
              "    </script>\n",
              "  </div>\n",
              "\n",
              "\n",
              "<div id=\"df-981bbc47-1d50-4829-88af-dfba30046a3e\">\n",
              "  <button class=\"colab-df-quickchart\" onclick=\"quickchart('df-981bbc47-1d50-4829-88af-dfba30046a3e')\"\n",
              "            title=\"Suggest charts\"\n",
              "            style=\"display:none;\">\n",
              "\n",
              "<svg xmlns=\"http://www.w3.org/2000/svg\" height=\"24px\"viewBox=\"0 0 24 24\"\n",
              "     width=\"24px\">\n",
              "    <g>\n",
              "        <path d=\"M19 3H5c-1.1 0-2 .9-2 2v14c0 1.1.9 2 2 2h14c1.1 0 2-.9 2-2V5c0-1.1-.9-2-2-2zM9 17H7v-7h2v7zm4 0h-2V7h2v10zm4 0h-2v-4h2v4z\"/>\n",
              "    </g>\n",
              "</svg>\n",
              "  </button>\n",
              "\n",
              "<style>\n",
              "  .colab-df-quickchart {\n",
              "      --bg-color: #E8F0FE;\n",
              "      --fill-color: #1967D2;\n",
              "      --hover-bg-color: #E2EBFA;\n",
              "      --hover-fill-color: #174EA6;\n",
              "      --disabled-fill-color: #AAA;\n",
              "      --disabled-bg-color: #DDD;\n",
              "  }\n",
              "\n",
              "  [theme=dark] .colab-df-quickchart {\n",
              "      --bg-color: #3B4455;\n",
              "      --fill-color: #D2E3FC;\n",
              "      --hover-bg-color: #434B5C;\n",
              "      --hover-fill-color: #FFFFFF;\n",
              "      --disabled-bg-color: #3B4455;\n",
              "      --disabled-fill-color: #666;\n",
              "  }\n",
              "\n",
              "  .colab-df-quickchart {\n",
              "    background-color: var(--bg-color);\n",
              "    border: none;\n",
              "    border-radius: 50%;\n",
              "    cursor: pointer;\n",
              "    display: none;\n",
              "    fill: var(--fill-color);\n",
              "    height: 32px;\n",
              "    padding: 0;\n",
              "    width: 32px;\n",
              "  }\n",
              "\n",
              "  .colab-df-quickchart:hover {\n",
              "    background-color: var(--hover-bg-color);\n",
              "    box-shadow: 0 1px 2px rgba(60, 64, 67, 0.3), 0 1px 3px 1px rgba(60, 64, 67, 0.15);\n",
              "    fill: var(--button-hover-fill-color);\n",
              "  }\n",
              "\n",
              "  .colab-df-quickchart-complete:disabled,\n",
              "  .colab-df-quickchart-complete:disabled:hover {\n",
              "    background-color: var(--disabled-bg-color);\n",
              "    fill: var(--disabled-fill-color);\n",
              "    box-shadow: none;\n",
              "  }\n",
              "\n",
              "  .colab-df-spinner {\n",
              "    border: 2px solid var(--fill-color);\n",
              "    border-color: transparent;\n",
              "    border-bottom-color: var(--fill-color);\n",
              "    animation:\n",
              "      spin 1s steps(1) infinite;\n",
              "  }\n",
              "\n",
              "  @keyframes spin {\n",
              "    0% {\n",
              "      border-color: transparent;\n",
              "      border-bottom-color: var(--fill-color);\n",
              "      border-left-color: var(--fill-color);\n",
              "    }\n",
              "    20% {\n",
              "      border-color: transparent;\n",
              "      border-left-color: var(--fill-color);\n",
              "      border-top-color: var(--fill-color);\n",
              "    }\n",
              "    30% {\n",
              "      border-color: transparent;\n",
              "      border-left-color: var(--fill-color);\n",
              "      border-top-color: var(--fill-color);\n",
              "      border-right-color: var(--fill-color);\n",
              "    }\n",
              "    40% {\n",
              "      border-color: transparent;\n",
              "      border-right-color: var(--fill-color);\n",
              "      border-top-color: var(--fill-color);\n",
              "    }\n",
              "    60% {\n",
              "      border-color: transparent;\n",
              "      border-right-color: var(--fill-color);\n",
              "    }\n",
              "    80% {\n",
              "      border-color: transparent;\n",
              "      border-right-color: var(--fill-color);\n",
              "      border-bottom-color: var(--fill-color);\n",
              "    }\n",
              "    90% {\n",
              "      border-color: transparent;\n",
              "      border-bottom-color: var(--fill-color);\n",
              "    }\n",
              "  }\n",
              "</style>\n",
              "\n",
              "  <script>\n",
              "    async function quickchart(key) {\n",
              "      const quickchartButtonEl =\n",
              "        document.querySelector('#' + key + ' button');\n",
              "      quickchartButtonEl.disabled = true;  // To prevent multiple clicks.\n",
              "      quickchartButtonEl.classList.add('colab-df-spinner');\n",
              "      try {\n",
              "        const charts = await google.colab.kernel.invokeFunction(\n",
              "            'suggestCharts', [key], {});\n",
              "      } catch (error) {\n",
              "        console.error('Error during call to suggestCharts:', error);\n",
              "      }\n",
              "      quickchartButtonEl.classList.remove('colab-df-spinner');\n",
              "      quickchartButtonEl.classList.add('colab-df-quickchart-complete');\n",
              "    }\n",
              "    (() => {\n",
              "      let quickchartButtonEl =\n",
              "        document.querySelector('#df-981bbc47-1d50-4829-88af-dfba30046a3e button');\n",
              "      quickchartButtonEl.style.display =\n",
              "        google.colab.kernel.accessAllowed ? 'block' : 'none';\n",
              "    })();\n",
              "  </script>\n",
              "</div>\n",
              "    </div>\n",
              "  </div>\n"
            ],
            "application/vnd.google.colaboratory.intrinsic+json": {
              "type": "dataframe",
              "variable_name": "data",
              "summary": "{\n  \"name\": \"data\",\n  \"rows\": 5000,\n  \"fields\": [\n    {\n      \"column\": \"x0\",\n      \"properties\": {\n        \"dtype\": \"number\",\n        \"std\": 0,\n        \"min\": 1,\n        \"max\": 1,\n        \"num_unique_values\": 1,\n        \"samples\": [\n          1\n        ],\n        \"semantic_type\": \"\",\n        \"description\": \"\"\n      }\n    },\n    {\n      \"column\": \"x\",\n      \"properties\": {\n        \"dtype\": \"number\",\n        \"std\": 1.0026482589050647,\n        \"min\": -3.253034234976619,\n        \"max\": 3.9586027040379634,\n        \"num_unique_values\": 5000,\n        \"samples\": [\n          -0.3123921151914365\n        ],\n        \"semantic_type\": \"\",\n        \"description\": \"\"\n      }\n    },\n    {\n      \"column\": \"x2\",\n      \"properties\": {\n        \"dtype\": \"number\",\n        \"std\": 1.413451403048493,\n        \"min\": 5.6433468069895163e-11,\n        \"max\": 15.670535368416676,\n        \"num_unique_values\": 5000,\n        \"samples\": [\n          0.09758883363377974\n        ],\n        \"semantic_type\": \"\",\n        \"description\": \"\"\n      }\n    },\n    {\n      \"column\": \"x3\",\n      \"properties\": {\n        \"dtype\": \"number\",\n        \"std\": 3.831996724033751,\n        \"min\": -34.424362112930005,\n        \"max\": 62.033423683136796,\n        \"num_unique_values\": 5000,\n        \"samples\": [\n          -0.030485982157921653\n        ],\n        \"semantic_type\": \"\",\n        \"description\": \"\"\n      }\n    },\n    {\n      \"column\": \"y\",\n      \"properties\": {\n        \"dtype\": \"number\",\n        \"std\": 3.188010942994938,\n        \"min\": -33.786563697152374,\n        \"max\": 0.6435231715928156,\n        \"num_unique_values\": 5000,\n        \"samples\": [\n          -0.17112505792980515\n        ],\n        \"semantic_type\": \"\",\n        \"description\": \"\"\n      }\n    }\n  ]\n}"
            }
          },
          "metadata": {},
          "execution_count": 597
        }
      ]
    },
    {
      "cell_type": "code",
      "source": [
        "X = data.iloc[:, :-1]\n",
        "y = data.iloc[:, -1]"
      ],
      "metadata": {
        "id": "RMu2j0DVQzlL"
      },
      "execution_count": null,
      "outputs": []
    },
    {
      "cell_type": "code",
      "source": [
        "data.to_csv('Q1Dataset.csv', index=False)"
      ],
      "metadata": {
        "id": "caNU9AUoxrwK"
      },
      "execution_count": null,
      "outputs": []
    },
    {
      "cell_type": "code",
      "source": [],
      "metadata": {
        "id": "LApFOgiXx0aC"
      },
      "execution_count": null,
      "outputs": []
    },
    {
      "cell_type": "markdown",
      "source": [
        "#Importing Dataset"
      ],
      "metadata": {
        "id": "kTPRhMdOyMld"
      }
    },
    {
      "cell_type": "code",
      "source": [
        "data = pd.read_csv('/content/Q1Dataset.csv')\n",
        "data"
      ],
      "metadata": {
        "colab": {
          "base_uri": "https://localhost:8080/",
          "height": 423
        },
        "id": "kHiOtujtyO65",
        "outputId": "3f7bfcb9-a6c2-4101-faf1-71e065c9a7c8"
      },
      "execution_count": null,
      "outputs": [
        {
          "output_type": "execute_result",
          "data": {
            "text/plain": [
              "      x0         x        x2         x3         y\n",
              "0      1  1.624345  2.638498   4.285832 -4.641451\n",
              "1      1 -0.611756  0.374246  -0.228947 -1.558609\n",
              "2      1 -0.528172  0.278965  -0.147342 -2.430615\n",
              "3      1 -1.072969  1.151262  -1.235268 -4.571957\n",
              "4      1  0.865408  0.748930   0.648130 -1.558932\n",
              "...   ..       ...       ...        ...       ...\n",
              "4995   1  1.604546  2.574569   4.131014 -4.071081\n",
              "4996   1  0.566613  0.321050   0.181911 -1.059670\n",
              "4997   1 -0.775988  0.602157  -0.467267 -3.239560\n",
              "4998   1  1.084889  1.176983   1.276896 -2.459802\n",
              "4999   1  2.241989  5.026517  11.269398 -7.270154\n",
              "\n",
              "[5000 rows x 5 columns]"
            ],
            "text/html": [
              "\n",
              "  <div id=\"df-ea48f062-6f04-4e5b-93ea-4aaf1c4250ff\" class=\"colab-df-container\">\n",
              "    <div>\n",
              "<style scoped>\n",
              "    .dataframe tbody tr th:only-of-type {\n",
              "        vertical-align: middle;\n",
              "    }\n",
              "\n",
              "    .dataframe tbody tr th {\n",
              "        vertical-align: top;\n",
              "    }\n",
              "\n",
              "    .dataframe thead th {\n",
              "        text-align: right;\n",
              "    }\n",
              "</style>\n",
              "<table border=\"1\" class=\"dataframe\">\n",
              "  <thead>\n",
              "    <tr style=\"text-align: right;\">\n",
              "      <th></th>\n",
              "      <th>x0</th>\n",
              "      <th>x</th>\n",
              "      <th>x2</th>\n",
              "      <th>x3</th>\n",
              "      <th>y</th>\n",
              "    </tr>\n",
              "  </thead>\n",
              "  <tbody>\n",
              "    <tr>\n",
              "      <th>0</th>\n",
              "      <td>1</td>\n",
              "      <td>1.624345</td>\n",
              "      <td>2.638498</td>\n",
              "      <td>4.285832</td>\n",
              "      <td>-4.641451</td>\n",
              "    </tr>\n",
              "    <tr>\n",
              "      <th>1</th>\n",
              "      <td>1</td>\n",
              "      <td>-0.611756</td>\n",
              "      <td>0.374246</td>\n",
              "      <td>-0.228947</td>\n",
              "      <td>-1.558609</td>\n",
              "    </tr>\n",
              "    <tr>\n",
              "      <th>2</th>\n",
              "      <td>1</td>\n",
              "      <td>-0.528172</td>\n",
              "      <td>0.278965</td>\n",
              "      <td>-0.147342</td>\n",
              "      <td>-2.430615</td>\n",
              "    </tr>\n",
              "    <tr>\n",
              "      <th>3</th>\n",
              "      <td>1</td>\n",
              "      <td>-1.072969</td>\n",
              "      <td>1.151262</td>\n",
              "      <td>-1.235268</td>\n",
              "      <td>-4.571957</td>\n",
              "    </tr>\n",
              "    <tr>\n",
              "      <th>4</th>\n",
              "      <td>1</td>\n",
              "      <td>0.865408</td>\n",
              "      <td>0.748930</td>\n",
              "      <td>0.648130</td>\n",
              "      <td>-1.558932</td>\n",
              "    </tr>\n",
              "    <tr>\n",
              "      <th>...</th>\n",
              "      <td>...</td>\n",
              "      <td>...</td>\n",
              "      <td>...</td>\n",
              "      <td>...</td>\n",
              "      <td>...</td>\n",
              "    </tr>\n",
              "    <tr>\n",
              "      <th>4995</th>\n",
              "      <td>1</td>\n",
              "      <td>1.604546</td>\n",
              "      <td>2.574569</td>\n",
              "      <td>4.131014</td>\n",
              "      <td>-4.071081</td>\n",
              "    </tr>\n",
              "    <tr>\n",
              "      <th>4996</th>\n",
              "      <td>1</td>\n",
              "      <td>0.566613</td>\n",
              "      <td>0.321050</td>\n",
              "      <td>0.181911</td>\n",
              "      <td>-1.059670</td>\n",
              "    </tr>\n",
              "    <tr>\n",
              "      <th>4997</th>\n",
              "      <td>1</td>\n",
              "      <td>-0.775988</td>\n",
              "      <td>0.602157</td>\n",
              "      <td>-0.467267</td>\n",
              "      <td>-3.239560</td>\n",
              "    </tr>\n",
              "    <tr>\n",
              "      <th>4998</th>\n",
              "      <td>1</td>\n",
              "      <td>1.084889</td>\n",
              "      <td>1.176983</td>\n",
              "      <td>1.276896</td>\n",
              "      <td>-2.459802</td>\n",
              "    </tr>\n",
              "    <tr>\n",
              "      <th>4999</th>\n",
              "      <td>1</td>\n",
              "      <td>2.241989</td>\n",
              "      <td>5.026517</td>\n",
              "      <td>11.269398</td>\n",
              "      <td>-7.270154</td>\n",
              "    </tr>\n",
              "  </tbody>\n",
              "</table>\n",
              "<p>5000 rows × 5 columns</p>\n",
              "</div>\n",
              "    <div class=\"colab-df-buttons\">\n",
              "\n",
              "  <div class=\"colab-df-container\">\n",
              "    <button class=\"colab-df-convert\" onclick=\"convertToInteractive('df-ea48f062-6f04-4e5b-93ea-4aaf1c4250ff')\"\n",
              "            title=\"Convert this dataframe to an interactive table.\"\n",
              "            style=\"display:none;\">\n",
              "\n",
              "  <svg xmlns=\"http://www.w3.org/2000/svg\" height=\"24px\" viewBox=\"0 -960 960 960\">\n",
              "    <path d=\"M120-120v-720h720v720H120Zm60-500h600v-160H180v160Zm220 220h160v-160H400v160Zm0 220h160v-160H400v160ZM180-400h160v-160H180v160Zm440 0h160v-160H620v160ZM180-180h160v-160H180v160Zm440 0h160v-160H620v160Z\"/>\n",
              "  </svg>\n",
              "    </button>\n",
              "\n",
              "  <style>\n",
              "    .colab-df-container {\n",
              "      display:flex;\n",
              "      gap: 12px;\n",
              "    }\n",
              "\n",
              "    .colab-df-convert {\n",
              "      background-color: #E8F0FE;\n",
              "      border: none;\n",
              "      border-radius: 50%;\n",
              "      cursor: pointer;\n",
              "      display: none;\n",
              "      fill: #1967D2;\n",
              "      height: 32px;\n",
              "      padding: 0 0 0 0;\n",
              "      width: 32px;\n",
              "    }\n",
              "\n",
              "    .colab-df-convert:hover {\n",
              "      background-color: #E2EBFA;\n",
              "      box-shadow: 0px 1px 2px rgba(60, 64, 67, 0.3), 0px 1px 3px 1px rgba(60, 64, 67, 0.15);\n",
              "      fill: #174EA6;\n",
              "    }\n",
              "\n",
              "    .colab-df-buttons div {\n",
              "      margin-bottom: 4px;\n",
              "    }\n",
              "\n",
              "    [theme=dark] .colab-df-convert {\n",
              "      background-color: #3B4455;\n",
              "      fill: #D2E3FC;\n",
              "    }\n",
              "\n",
              "    [theme=dark] .colab-df-convert:hover {\n",
              "      background-color: #434B5C;\n",
              "      box-shadow: 0px 1px 3px 1px rgba(0, 0, 0, 0.15);\n",
              "      filter: drop-shadow(0px 1px 2px rgba(0, 0, 0, 0.3));\n",
              "      fill: #FFFFFF;\n",
              "    }\n",
              "  </style>\n",
              "\n",
              "    <script>\n",
              "      const buttonEl =\n",
              "        document.querySelector('#df-ea48f062-6f04-4e5b-93ea-4aaf1c4250ff button.colab-df-convert');\n",
              "      buttonEl.style.display =\n",
              "        google.colab.kernel.accessAllowed ? 'block' : 'none';\n",
              "\n",
              "      async function convertToInteractive(key) {\n",
              "        const element = document.querySelector('#df-ea48f062-6f04-4e5b-93ea-4aaf1c4250ff');\n",
              "        const dataTable =\n",
              "          await google.colab.kernel.invokeFunction('convertToInteractive',\n",
              "                                                    [key], {});\n",
              "        if (!dataTable) return;\n",
              "\n",
              "        const docLinkHtml = 'Like what you see? Visit the ' +\n",
              "          '<a target=\"_blank\" href=https://colab.research.google.com/notebooks/data_table.ipynb>data table notebook</a>'\n",
              "          + ' to learn more about interactive tables.';\n",
              "        element.innerHTML = '';\n",
              "        dataTable['output_type'] = 'display_data';\n",
              "        await google.colab.output.renderOutput(dataTable, element);\n",
              "        const docLink = document.createElement('div');\n",
              "        docLink.innerHTML = docLinkHtml;\n",
              "        element.appendChild(docLink);\n",
              "      }\n",
              "    </script>\n",
              "  </div>\n",
              "\n",
              "\n",
              "<div id=\"df-f9a38c84-2b85-4f31-867d-9b06545b46e0\">\n",
              "  <button class=\"colab-df-quickchart\" onclick=\"quickchart('df-f9a38c84-2b85-4f31-867d-9b06545b46e0')\"\n",
              "            title=\"Suggest charts\"\n",
              "            style=\"display:none;\">\n",
              "\n",
              "<svg xmlns=\"http://www.w3.org/2000/svg\" height=\"24px\"viewBox=\"0 0 24 24\"\n",
              "     width=\"24px\">\n",
              "    <g>\n",
              "        <path d=\"M19 3H5c-1.1 0-2 .9-2 2v14c0 1.1.9 2 2 2h14c1.1 0 2-.9 2-2V5c0-1.1-.9-2-2-2zM9 17H7v-7h2v7zm4 0h-2V7h2v10zm4 0h-2v-4h2v4z\"/>\n",
              "    </g>\n",
              "</svg>\n",
              "  </button>\n",
              "\n",
              "<style>\n",
              "  .colab-df-quickchart {\n",
              "      --bg-color: #E8F0FE;\n",
              "      --fill-color: #1967D2;\n",
              "      --hover-bg-color: #E2EBFA;\n",
              "      --hover-fill-color: #174EA6;\n",
              "      --disabled-fill-color: #AAA;\n",
              "      --disabled-bg-color: #DDD;\n",
              "  }\n",
              "\n",
              "  [theme=dark] .colab-df-quickchart {\n",
              "      --bg-color: #3B4455;\n",
              "      --fill-color: #D2E3FC;\n",
              "      --hover-bg-color: #434B5C;\n",
              "      --hover-fill-color: #FFFFFF;\n",
              "      --disabled-bg-color: #3B4455;\n",
              "      --disabled-fill-color: #666;\n",
              "  }\n",
              "\n",
              "  .colab-df-quickchart {\n",
              "    background-color: var(--bg-color);\n",
              "    border: none;\n",
              "    border-radius: 50%;\n",
              "    cursor: pointer;\n",
              "    display: none;\n",
              "    fill: var(--fill-color);\n",
              "    height: 32px;\n",
              "    padding: 0;\n",
              "    width: 32px;\n",
              "  }\n",
              "\n",
              "  .colab-df-quickchart:hover {\n",
              "    background-color: var(--hover-bg-color);\n",
              "    box-shadow: 0 1px 2px rgba(60, 64, 67, 0.3), 0 1px 3px 1px rgba(60, 64, 67, 0.15);\n",
              "    fill: var(--button-hover-fill-color);\n",
              "  }\n",
              "\n",
              "  .colab-df-quickchart-complete:disabled,\n",
              "  .colab-df-quickchart-complete:disabled:hover {\n",
              "    background-color: var(--disabled-bg-color);\n",
              "    fill: var(--disabled-fill-color);\n",
              "    box-shadow: none;\n",
              "  }\n",
              "\n",
              "  .colab-df-spinner {\n",
              "    border: 2px solid var(--fill-color);\n",
              "    border-color: transparent;\n",
              "    border-bottom-color: var(--fill-color);\n",
              "    animation:\n",
              "      spin 1s steps(1) infinite;\n",
              "  }\n",
              "\n",
              "  @keyframes spin {\n",
              "    0% {\n",
              "      border-color: transparent;\n",
              "      border-bottom-color: var(--fill-color);\n",
              "      border-left-color: var(--fill-color);\n",
              "    }\n",
              "    20% {\n",
              "      border-color: transparent;\n",
              "      border-left-color: var(--fill-color);\n",
              "      border-top-color: var(--fill-color);\n",
              "    }\n",
              "    30% {\n",
              "      border-color: transparent;\n",
              "      border-left-color: var(--fill-color);\n",
              "      border-top-color: var(--fill-color);\n",
              "      border-right-color: var(--fill-color);\n",
              "    }\n",
              "    40% {\n",
              "      border-color: transparent;\n",
              "      border-right-color: var(--fill-color);\n",
              "      border-top-color: var(--fill-color);\n",
              "    }\n",
              "    60% {\n",
              "      border-color: transparent;\n",
              "      border-right-color: var(--fill-color);\n",
              "    }\n",
              "    80% {\n",
              "      border-color: transparent;\n",
              "      border-right-color: var(--fill-color);\n",
              "      border-bottom-color: var(--fill-color);\n",
              "    }\n",
              "    90% {\n",
              "      border-color: transparent;\n",
              "      border-bottom-color: var(--fill-color);\n",
              "    }\n",
              "  }\n",
              "</style>\n",
              "\n",
              "  <script>\n",
              "    async function quickchart(key) {\n",
              "      const quickchartButtonEl =\n",
              "        document.querySelector('#' + key + ' button');\n",
              "      quickchartButtonEl.disabled = true;  // To prevent multiple clicks.\n",
              "      quickchartButtonEl.classList.add('colab-df-spinner');\n",
              "      try {\n",
              "        const charts = await google.colab.kernel.invokeFunction(\n",
              "            'suggestCharts', [key], {});\n",
              "      } catch (error) {\n",
              "        console.error('Error during call to suggestCharts:', error);\n",
              "      }\n",
              "      quickchartButtonEl.classList.remove('colab-df-spinner');\n",
              "      quickchartButtonEl.classList.add('colab-df-quickchart-complete');\n",
              "    }\n",
              "    (() => {\n",
              "      let quickchartButtonEl =\n",
              "        document.querySelector('#df-f9a38c84-2b85-4f31-867d-9b06545b46e0 button');\n",
              "      quickchartButtonEl.style.display =\n",
              "        google.colab.kernel.accessAllowed ? 'block' : 'none';\n",
              "    })();\n",
              "  </script>\n",
              "</div>\n",
              "\n",
              "  <div id=\"id_066976ca-9a2a-482f-99a2-0be910a6cd0e\">\n",
              "    <style>\n",
              "      .colab-df-generate {\n",
              "        background-color: #E8F0FE;\n",
              "        border: none;\n",
              "        border-radius: 50%;\n",
              "        cursor: pointer;\n",
              "        display: none;\n",
              "        fill: #1967D2;\n",
              "        height: 32px;\n",
              "        padding: 0 0 0 0;\n",
              "        width: 32px;\n",
              "      }\n",
              "\n",
              "      .colab-df-generate:hover {\n",
              "        background-color: #E2EBFA;\n",
              "        box-shadow: 0px 1px 2px rgba(60, 64, 67, 0.3), 0px 1px 3px 1px rgba(60, 64, 67, 0.15);\n",
              "        fill: #174EA6;\n",
              "      }\n",
              "\n",
              "      [theme=dark] .colab-df-generate {\n",
              "        background-color: #3B4455;\n",
              "        fill: #D2E3FC;\n",
              "      }\n",
              "\n",
              "      [theme=dark] .colab-df-generate:hover {\n",
              "        background-color: #434B5C;\n",
              "        box-shadow: 0px 1px 3px 1px rgba(0, 0, 0, 0.15);\n",
              "        filter: drop-shadow(0px 1px 2px rgba(0, 0, 0, 0.3));\n",
              "        fill: #FFFFFF;\n",
              "      }\n",
              "    </style>\n",
              "    <button class=\"colab-df-generate\" onclick=\"generateWithVariable('data')\"\n",
              "            title=\"Generate code using this dataframe.\"\n",
              "            style=\"display:none;\">\n",
              "\n",
              "  <svg xmlns=\"http://www.w3.org/2000/svg\" height=\"24px\"viewBox=\"0 0 24 24\"\n",
              "       width=\"24px\">\n",
              "    <path d=\"M7,19H8.4L18.45,9,17,7.55,7,17.6ZM5,21V16.75L18.45,3.32a2,2,0,0,1,2.83,0l1.4,1.43a1.91,1.91,0,0,1,.58,1.4,1.91,1.91,0,0,1-.58,1.4L9.25,21ZM18.45,9,17,7.55Zm-12,3A5.31,5.31,0,0,0,4.9,8.1,5.31,5.31,0,0,0,1,6.5,5.31,5.31,0,0,0,4.9,4.9,5.31,5.31,0,0,0,6.5,1,5.31,5.31,0,0,0,8.1,4.9,5.31,5.31,0,0,0,12,6.5,5.46,5.46,0,0,0,6.5,12Z\"/>\n",
              "  </svg>\n",
              "    </button>\n",
              "    <script>\n",
              "      (() => {\n",
              "      const buttonEl =\n",
              "        document.querySelector('#id_066976ca-9a2a-482f-99a2-0be910a6cd0e button.colab-df-generate');\n",
              "      buttonEl.style.display =\n",
              "        google.colab.kernel.accessAllowed ? 'block' : 'none';\n",
              "\n",
              "      buttonEl.onclick = () => {\n",
              "        google.colab.notebook.generateWithVariable('data');\n",
              "      }\n",
              "      })();\n",
              "    </script>\n",
              "  </div>\n",
              "\n",
              "    </div>\n",
              "  </div>\n"
            ],
            "application/vnd.google.colaboratory.intrinsic+json": {
              "type": "dataframe",
              "variable_name": "data",
              "summary": "{\n  \"name\": \"data\",\n  \"rows\": 5000,\n  \"fields\": [\n    {\n      \"column\": \"x0\",\n      \"properties\": {\n        \"dtype\": \"number\",\n        \"std\": 0,\n        \"min\": 1,\n        \"max\": 1,\n        \"num_unique_values\": 1,\n        \"samples\": [\n          1\n        ],\n        \"semantic_type\": \"\",\n        \"description\": \"\"\n      }\n    },\n    {\n      \"column\": \"x\",\n      \"properties\": {\n        \"dtype\": \"number\",\n        \"std\": 1.0026482589050647,\n        \"min\": -3.253034234976619,\n        \"max\": 3.958602704037963,\n        \"num_unique_values\": 5000,\n        \"samples\": [\n          -0.3123921151914365\n        ],\n        \"semantic_type\": \"\",\n        \"description\": \"\"\n      }\n    },\n    {\n      \"column\": \"x2\",\n      \"properties\": {\n        \"dtype\": \"number\",\n        \"std\": 1.413451403048493,\n        \"min\": 5.643346806989516e-11,\n        \"max\": 15.670535368416676,\n        \"num_unique_values\": 5000,\n        \"samples\": [\n          0.0975888336337797\n        ],\n        \"semantic_type\": \"\",\n        \"description\": \"\"\n      }\n    },\n    {\n      \"column\": \"x3\",\n      \"properties\": {\n        \"dtype\": \"number\",\n        \"std\": 3.831996724033751,\n        \"min\": -34.424362112930005,\n        \"max\": 62.0334236831368,\n        \"num_unique_values\": 5000,\n        \"samples\": [\n          -0.0304859821579216\n        ],\n        \"semantic_type\": \"\",\n        \"description\": \"\"\n      }\n    },\n    {\n      \"column\": \"y\",\n      \"properties\": {\n        \"dtype\": \"number\",\n        \"std\": 3.1880109429949384,\n        \"min\": -33.786563697152374,\n        \"max\": 0.6435231715928156,\n        \"num_unique_values\": 5000,\n        \"samples\": [\n          -0.1711250579298051\n        ],\n        \"semantic_type\": \"\",\n        \"description\": \"\"\n      }\n    }\n  ]\n}"
            }
          },
          "metadata": {},
          "execution_count": 2
        }
      ]
    },
    {
      "cell_type": "code",
      "source": [
        "weights = np.random.rand(data.shape[1]-1)\n",
        "weights"
      ],
      "metadata": {
        "colab": {
          "base_uri": "https://localhost:8080/"
        },
        "id": "UQy8uN-yyVL6",
        "outputId": "1cb54af4-e7ed-45fb-a5b5-9c929c648acf"
      },
      "execution_count": null,
      "outputs": [
        {
          "output_type": "execute_result",
          "data": {
            "text/plain": [
              "array([0.18505826, 0.25349828, 0.80876402, 0.04766132])"
            ]
          },
          "metadata": {},
          "execution_count": 7
        }
      ]
    },
    {
      "cell_type": "markdown",
      "source": [
        "##Adaline Neuron"
      ],
      "metadata": {
        "id": "c29FLNION4mt"
      }
    },
    {
      "cell_type": "markdown",
      "source": [
        "###BGD test 0.3"
      ],
      "metadata": {
        "id": "09vdsZbCPSAL"
      }
    },
    {
      "cell_type": "code",
      "source": [
        "learning_rate = 0.1\n",
        "epochs = 20"
      ],
      "metadata": {
        "id": "5a4TdyXDPVZf"
      },
      "execution_count": null,
      "outputs": []
    },
    {
      "cell_type": "code",
      "source": [],
      "metadata": {
        "id": "34sO3Y4BHBJY"
      },
      "execution_count": null,
      "outputs": []
    },
    {
      "cell_type": "code",
      "source": [
        "def adaline_activation(weighted_sum):\n",
        "  return weighted_sum\n"
      ],
      "metadata": {
        "id": "DeDC9_zIPXLM"
      },
      "execution_count": null,
      "outputs": []
    },
    {
      "cell_type": "code",
      "source": [
        "def adaline_bgd(data, labels, learning_rate=0.001, epochs=5):\n",
        "  weights = np.array([0.30903487, 0.14895414, 0.71205955, 0.92752802])\n",
        "  # print(weights)\n",
        "  epoch_loss= []\n",
        "  for i in range(epochs):\n",
        "    iter_loss = []\n",
        "    delta_weight = np.zeros(weights.shape)\n",
        "    for j in range(len(data)):\n",
        "      row_j = data.iloc[j]\n",
        "      target = labels.iloc[j]\n",
        "      weighted_sum = np.dot(row_j, weights)\n",
        "      prediction = adaline_activation(weighted_sum)\n",
        "      loss = 1/2*((target-prediction)**2)\n",
        "      iter_loss.append(loss)\n",
        "      delta_weight = delta_weight + learning_rate*((target-prediction)*row_j)\n",
        "\n",
        "    weights = weights + delta_weight\n",
        "    average_loss = sum(iter_loss)/len(iter_loss)\n",
        "    epoch_loss.append(average_loss)\n",
        "    print(f\"Epoch {i} loss: {average_loss}\")\n",
        "\n",
        "  print(f\"Average loss of all epochs {sum(epoch_loss)/len(epoch_loss)}\", \"\\n\")\n",
        "  return weights\n",
        "\n",
        "def pred_adaline_bgd(data, weights):\n",
        "  w_sum =  np.dot(data, weights)\n",
        "  return adaline_activation(w_sum)"
      ],
      "metadata": {
        "id": "AAFP-SEmPbb9"
      },
      "execution_count": null,
      "outputs": []
    },
    {
      "cell_type": "code",
      "source": [
        "from sklearn.preprocessing import StandardScaler\n",
        "scaled_data = StandardScaler().fit_transform(data.iloc[:, :-1])\n",
        "scaled_data = pd.DataFrame(scaled_data, columns=[\"x0\", \"x\", \"x2\", \"x3\"])\n",
        "scaled_data[\"y\"]= data.iloc[:, -1]"
      ],
      "metadata": {
        "id": "yNbrq8WfTOiV"
      },
      "execution_count": null,
      "outputs": []
    },
    {
      "cell_type": "code",
      "source": [
        "train_data, test_data = train_test_split(scaled_data , test_size=0.3, random_state=42)\n",
        "X_train = train_data.iloc[:, :-1]\n",
        "y_train = train_data.iloc[:, -1]\n",
        "X_test = test_data.iloc[:, :-1]\n",
        "y_test = test_data.iloc[:, -1]"
      ],
      "metadata": {
        "id": "YQ56pZxXR7jy"
      },
      "execution_count": null,
      "outputs": []
    },
    {
      "cell_type": "code",
      "source": [
        "from sklearn.model_selection import KFold\n",
        "\n",
        "kf = KFold(n_splits=10, shuffle=True, random_state=42)\n",
        "mse_scores = []\n",
        "\n",
        "\n",
        "for train_index, val_index in kf.split(X_train):\n",
        "    train_data, val_data = X_train.iloc[train_index], X_train.iloc[val_index]\n",
        "    train_labels, val_labels = y_train.iloc[train_index], y_train.iloc[val_index]\n",
        "\n",
        "    weights = adaline_bgd(train_data, train_labels)\n",
        "\n",
        "    val_pred = pred_adaline_bgd(val_data, weights)\n",
        "    val_mse = mean_squared_error(val_labels, val_pred)\n",
        "    mse_scores.append(val_mse)\n",
        "\n",
        "average_loss = sum(mse_scores)/len(mse_scores)\n",
        "print(\"Average Validation Loss:\", average_loss)"
      ],
      "metadata": {
        "colab": {
          "base_uri": "https://localhost:8080/"
        },
        "id": "TUfRh-P_Opts",
        "outputId": "b3e424c6-f278-4ece-86cb-cc0b53a91a6a"
      },
      "execution_count": null,
      "outputs": [
        {
          "output_type": "stream",
          "name": "stdout",
          "text": [
            "Epoch 0 loss: 10.264171563813635\n",
            "Epoch 1 loss: 25.594083515802275\n",
            "Epoch 2 loss: 87.70262677332573\n",
            "Epoch 3 loss: 432.31578064564894\n",
            "Epoch 4 loss: 3833.9714923276842\n",
            "Average loss of all epochs 877.9696309652551 \n",
            "\n",
            "Epoch 0 loss: 9.935846222070897\n",
            "Epoch 1 loss: 22.086556139466563\n",
            "Epoch 2 loss: 61.74810967852307\n",
            "Epoch 3 loss: 191.41350940428617\n",
            "Epoch 4 loss: 618.7845814705396\n",
            "Average loss of all epochs 180.79372058297727 \n",
            "\n",
            "Epoch 0 loss: 10.321550774167813\n",
            "Epoch 1 loss: 26.935965293534494\n",
            "Epoch 2 loss: 105.61363430312555\n",
            "Epoch 3 loss: 699.9934709841557\n",
            "Epoch 4 loss: 8285.066265679654\n",
            "Average loss of all epochs 1825.5861774069276 \n",
            "\n",
            "Epoch 0 loss: 10.380020145616601\n",
            "Epoch 1 loss: 27.0289478356637\n",
            "Epoch 2 loss: 91.73906550074702\n",
            "Epoch 3 loss: 347.3884365046205\n",
            "Epoch 4 loss: 1435.1784233889357\n",
            "Average loss of all epochs 382.3429786751167 \n",
            "\n",
            "Epoch 0 loss: 10.485065940011879\n",
            "Epoch 1 loss: 28.143268462397774\n",
            "Epoch 2 loss: 99.54057097908198\n",
            "Epoch 3 loss: 406.66989670330173\n",
            "Epoch 4 loss: 2073.2986935462\n",
            "Average loss of all epochs 523.6274991261987 \n",
            "\n",
            "Epoch 0 loss: 10.162189324183476\n",
            "Epoch 1 loss: 25.373993894960197\n",
            "Epoch 2 loss: 89.68775825243824\n",
            "Epoch 3 loss: 486.08657066493885\n",
            "Epoch 4 loss: 4782.663890776115\n",
            "Average loss of all epochs 1078.7948805825272 \n",
            "\n",
            "Epoch 0 loss: 10.242867949858871\n",
            "Epoch 1 loss: 25.781115134256257\n",
            "Epoch 2 loss: 85.88653886880175\n",
            "Epoch 3 loss: 354.2443991369159\n",
            "Epoch 4 loss: 2171.962984248826\n",
            "Average loss of all epochs 529.6235810677318 \n",
            "\n",
            "Epoch 0 loss: 10.280707277027098\n",
            "Epoch 1 loss: 25.639415303931898\n",
            "Epoch 2 loss: 82.44436038784492\n",
            "Epoch 3 loss: 294.4127235092483\n",
            "Epoch 4 loss: 1119.415226475848\n",
            "Average loss of all epochs 306.43848659078003 \n",
            "\n",
            "Epoch 0 loss: 10.270905501836822\n",
            "Epoch 1 loss: 26.318748949758554\n",
            "Epoch 2 loss: 94.37475285240644\n",
            "Epoch 3 loss: 495.55362393381097\n",
            "Epoch 4 loss: 4627.676489822907\n",
            "Average loss of all epochs 1050.838904212144 \n",
            "\n",
            "Epoch 0 loss: 10.33684297042062\n",
            "Epoch 1 loss: 27.072814032713275\n",
            "Epoch 2 loss: 97.19092616416616\n",
            "Epoch 3 loss: 473.83205475815356\n",
            "Epoch 4 loss: 3885.2983262019416\n",
            "Average loss of all epochs 898.746192825479 \n",
            "\n",
            "Average Validation Loss: 83126.10617467428\n"
          ]
        }
      ]
    },
    {
      "cell_type": "code",
      "source": [
        "test_pred = pred_adaline_bgd(X_test, weights)\n",
        "test_mse = mean_squared_error(y_test, test_pred)\n",
        "print(\"The mean squared error on the test dataset is:\", test_mse)"
      ],
      "metadata": {
        "colab": {
          "base_uri": "https://localhost:8080/"
        },
        "id": "7Ttpqi4ZP058",
        "outputId": "acfb8ecc-f59f-43f5-ee81-a79ba35d5000"
      },
      "execution_count": null,
      "outputs": [
        {
          "output_type": "stream",
          "name": "stdout",
          "text": [
            "The mean squared error on the test dataset is: 127777.11387801035\n"
          ]
        }
      ]
    },
    {
      "cell_type": "markdown",
      "source": [
        "###SGD test 0.3"
      ],
      "metadata": {
        "id": "q2yYnh8bN9-O"
      }
    },
    {
      "cell_type": "code",
      "source": [
        "learning_rate = 0.5\n",
        "epochs = 20\n"
      ],
      "metadata": {
        "id": "T3tzp1CxN9Al"
      },
      "execution_count": null,
      "outputs": []
    },
    {
      "cell_type": "code",
      "source": [
        "def adaline_activation(weighted_sum):\n",
        "  return weighted_sum\n",
        "\n",
        "def update_weights(row_j, weights, learning_rate, target, prediction):\n",
        "  updated_weights = []\n",
        "  for row, weight in zip(row_j, weights):\n",
        "    updated_weights.append(weight+learning_rate*(target-prediction)*row)\n",
        "  return updated_weights"
      ],
      "metadata": {
        "id": "TwddWyGYOAdW"
      },
      "execution_count": null,
      "outputs": []
    },
    {
      "cell_type": "code",
      "source": [
        "def adaline_sgd(data, labels, learning_rate=0.01, epochs=5):\n",
        "  weights = np.array([0.30903487, 0.14895414, 0.71205955, 0.92752802])\n",
        "  epoch_loss= []\n",
        "  for i in range(epochs):\n",
        "    iter_loss = []\n",
        "    for j in range(len(data)):\n",
        "      row_j = data.iloc[j]\n",
        "      target = labels.iloc[j]\n",
        "      weighted_sum = np.dot(row_j, weights)\n",
        "      prediction = adaline_activation(weighted_sum)\n",
        "      loss = 1/2*((target-prediction)**2)\n",
        "      iter_loss.append(loss)\n",
        "      weights = update_weights(row_j, weights, learning_rate, target, prediction)\n",
        "    average_loss = sum(iter_loss)/len(iter_loss)\n",
        "    epoch_loss.append(average_loss)\n",
        "    print(f\"Epoch {i} loss: {average_loss}\")\n",
        "\n",
        "  print(f\"\\nAverage loss of all epochs {sum(epoch_loss)/len(epoch_loss)}\")\n",
        "  return weights\n",
        "\n",
        "def pred_adaline_sgd(data, weights):\n",
        "  w_sum =  np.dot(data, weights)\n",
        "  return adaline_activation(w_sum)"
      ],
      "metadata": {
        "id": "r2rAMKMLOQEy"
      },
      "execution_count": null,
      "outputs": []
    },
    {
      "cell_type": "code",
      "source": [
        "from sklearn.preprocessing import StandardScaler\n",
        "scaled_data = StandardScaler().fit_transform(data.iloc[:, :-1])\n",
        "scaled_data = pd.DataFrame(scaled_data, columns=[\"x0\", \"x\", \"x2\", \"x3\"])\n",
        "scaled_data[\"y\"]= data.iloc[:, -1]"
      ],
      "metadata": {
        "id": "C-wkxt0-ZsW_"
      },
      "execution_count": null,
      "outputs": []
    },
    {
      "cell_type": "code",
      "source": [
        "train_data, test_data = train_test_split(scaled_data , test_size=0.3, random_state=42)\n",
        "X_train = train_data.iloc[:, :-1]\n",
        "y_train = train_data.iloc[:, -1]\n",
        "X_test = test_data.iloc[:, :-1]\n",
        "y_test = test_data.iloc[:, -1]"
      ],
      "metadata": {
        "id": "67ZmMlCtYEfr"
      },
      "execution_count": null,
      "outputs": []
    },
    {
      "cell_type": "code",
      "source": [
        "from sklearn.model_selection import KFold\n",
        "\n",
        "kf = KFold(n_splits=10, shuffle=True, random_state=42)\n",
        "mse_scores = []\n",
        "\n",
        "\n",
        "for train_index, val_index in kf.split(X_train):\n",
        "    train_data, val_data = X_train.iloc[train_index], X_train.iloc[val_index]\n",
        "    train_labels, val_labels = y_train.iloc[train_index], y_train.iloc[val_index]\n",
        "\n",
        "    weights = adaline_sgd(train_data, train_labels)\n",
        "\n",
        "    val_pred = pred_adaline_sgd(val_data, weights)\n",
        "    val_mse = mean_squared_error(val_labels, val_pred)\n",
        "    mse_scores.append(val_mse)\n",
        "\n",
        "average_loss = sum(mse_scores)/len(mse_scores)\n",
        "print(\"Average Validation Loss:\", average_loss)"
      ],
      "metadata": {
        "colab": {
          "base_uri": "https://localhost:8080/"
        },
        "id": "mVxIUhyYYGbD",
        "outputId": "af796c34-489b-4239-8d61-ffa7c855098b"
      },
      "execution_count": null,
      "outputs": [
        {
          "output_type": "stream",
          "name": "stdout",
          "text": [
            "Epoch 0 loss: 4.762784785812472\n",
            "Epoch 1 loss: 4.629974867154229\n",
            "Epoch 2 loss: 4.629993172466103\n",
            "Epoch 3 loss: 4.629993217818829\n",
            "Epoch 4 loss: 4.629993217931058\n",
            "\n",
            "Average loss of all epochs 4.656547852236538\n",
            "Epoch 0 loss: 4.786053431429406\n",
            "Epoch 1 loss: 4.654122897248732\n",
            "Epoch 2 loss: 4.654123695715276\n",
            "Epoch 3 loss: 4.654123698066083\n",
            "Epoch 4 loss: 4.654123698073008\n",
            "\n",
            "Average loss of all epochs 4.680509484106501\n",
            "Epoch 0 loss: 4.781926541896897\n",
            "Epoch 1 loss: 4.6507636775773\n",
            "Epoch 2 loss: 4.650768322825213\n",
            "Epoch 3 loss: 4.65076833541313\n",
            "Epoch 4 loss: 4.650768335447208\n",
            "\n",
            "Average loss of all epochs 4.67699904263195\n",
            "Epoch 0 loss: 4.800626234416332\n",
            "Epoch 1 loss: 4.669889666450816\n",
            "Epoch 2 loss: 4.6698954241095105\n",
            "Epoch 3 loss: 4.669895436450207\n",
            "Epoch 4 loss: 4.669895436476619\n",
            "\n",
            "Average loss of all epochs 4.696040439580697\n",
            "Epoch 0 loss: 4.774745137368379\n",
            "Epoch 1 loss: 4.642167562987181\n",
            "Epoch 2 loss: 4.642174980503579\n",
            "Epoch 3 loss: 4.642174997637269\n",
            "Epoch 4 loss: 4.642174997676796\n",
            "\n",
            "Average loss of all epochs 4.668687535234641\n",
            "Epoch 0 loss: 4.758175880871709\n",
            "Epoch 1 loss: 4.627465544842733\n",
            "Epoch 2 loss: 4.627468918848449\n",
            "Epoch 3 loss: 4.627468925589467\n",
            "Epoch 4 loss: 4.6274689256029164\n",
            "\n",
            "Average loss of all epochs 4.653609639151055\n",
            "Epoch 0 loss: 4.765255793375211\n",
            "Epoch 1 loss: 4.63521514010156\n",
            "Epoch 2 loss: 4.635217949568847\n",
            "Epoch 3 loss: 4.635217955478652\n",
            "Epoch 4 loss: 4.635217955491079\n",
            "\n",
            "Average loss of all epochs 4.66122495880307\n",
            "Epoch 0 loss: 4.781798084914747\n",
            "Epoch 1 loss: 4.659670882310734\n",
            "Epoch 2 loss: 4.659675383193872\n",
            "Epoch 3 loss: 4.659675393361655\n",
            "Epoch 4 loss: 4.6596753933845925\n",
            "\n",
            "Average loss of all epochs 4.6840990274331205\n",
            "Epoch 0 loss: 4.778926969405484\n",
            "Epoch 1 loss: 4.644745316588414\n",
            "Epoch 2 loss: 4.64474945071727\n",
            "Epoch 3 loss: 4.644749460150361\n",
            "Epoch 4 loss: 4.644749460171874\n",
            "\n",
            "Average loss of all epochs 4.67158413140668\n",
            "Epoch 0 loss: 4.776884942977026\n",
            "Epoch 1 loss: 4.646509180782254\n",
            "Epoch 2 loss: 4.646515466938086\n",
            "Epoch 3 loss: 4.646515481572238\n",
            "Epoch 4 loss: 4.64651548160627\n",
            "\n",
            "Average loss of all epochs 4.672588110775175\n",
            "Average Validation Loss: 9.310371064208349\n"
          ]
        }
      ]
    },
    {
      "cell_type": "code",
      "source": [
        "test_pred = pred_adaline_sgd(X_test, weights)\n",
        "test_mse = mean_squared_error(y_test, test_pred)\n",
        "print(\"The mean squared error on the test dataset is:\", test_mse)"
      ],
      "metadata": {
        "colab": {
          "base_uri": "https://localhost:8080/"
        },
        "id": "DK3VMB3WYZQU",
        "outputId": "00376dcb-9659-492f-d06f-876360eff449"
      },
      "execution_count": null,
      "outputs": [
        {
          "output_type": "stream",
          "name": "stdout",
          "text": [
            "The mean squared error on the test dataset is: 9.30801600795323\n"
          ]
        }
      ]
    },
    {
      "cell_type": "markdown",
      "source": [
        "##Sigmoid Neuron"
      ],
      "metadata": {
        "id": "m4ebiYoN7DQp"
      }
    },
    {
      "cell_type": "markdown",
      "source": [
        "###BGD test 0.3"
      ],
      "metadata": {
        "id": "TYdVtI4jKFUC"
      }
    },
    {
      "cell_type": "code",
      "source": [
        "learning_rate = 0.1\n",
        "epochs = 20\n"
      ],
      "metadata": {
        "id": "O2lXxzvfE_QQ"
      },
      "execution_count": null,
      "outputs": []
    },
    {
      "cell_type": "code",
      "source": [
        "def sigmoid_activation(weighted_sum):\n",
        "  return 1/(1+np.exp(-weighted_sum))\n"
      ],
      "metadata": {
        "id": "GBkzahN5KMYO"
      },
      "execution_count": null,
      "outputs": []
    },
    {
      "cell_type": "code",
      "source": [
        "def sigmoid_bgd(data, labels, learning_rate=0.01, epochs=5):\n",
        "  weights = np.array([0.30903487, 0.14895414, 0.71205955, 0.92752802])\n",
        "  epoch_loss= []\n",
        "  for i in range(epochs):\n",
        "    iter_loss = []\n",
        "    delta_weight = np.zeros(weights.shape)\n",
        "    for j in range(len(data)):\n",
        "      row_j = data.iloc[j]\n",
        "      target = labels.iloc[j]\n",
        "      weighted_sum = np.dot(row_j, weights)\n",
        "      prediction = sigmoid_activation(weighted_sum)\n",
        "      loss = 1/2*((target-prediction)**2)\n",
        "      iter_loss.append(loss)\n",
        "      delta_weight = delta_weight + learning_rate*(target-prediction)*row_j\n",
        "\n",
        "    weights = weights + delta_weight\n",
        "    average_loss = sum(iter_loss)/len(iter_loss)\n",
        "    epoch_loss.append(average_loss)\n",
        "    print(f\"Epoch {i} loss: {average_loss}\")\n",
        "\n",
        "  print(f\"\\nAverage loss of all epochs {sum(epoch_loss)/len(epoch_loss)}\")\n",
        "  return weights\n",
        "\n",
        "\n",
        "def pred_sigmoid_bgd(data, weights):\n",
        "  w_sum =  np.dot(data, weights)\n",
        "  return sigmoid_activation(w_sum)"
      ],
      "metadata": {
        "id": "h-RxSx2KLEPh"
      },
      "execution_count": null,
      "outputs": []
    },
    {
      "cell_type": "code",
      "source": [
        "train_data, test_data = train_test_split(data , test_size=0.3, random_state=42)\n",
        "X_train = train_data.iloc[:, :-1]\n",
        "y_train = train_data.iloc[:, -1]\n",
        "X_test = test_data.iloc[:, :-1]\n",
        "y_test = test_data.iloc[:, -1]"
      ],
      "metadata": {
        "id": "naWkx1BAZ6ks"
      },
      "execution_count": null,
      "outputs": []
    },
    {
      "cell_type": "code",
      "source": [
        "from sklearn.model_selection import KFold\n",
        "\n",
        "kf = KFold(n_splits=10, shuffle=True, random_state=42)\n",
        "mse_scores = []\n",
        "\n",
        "\n",
        "for train_index, val_index in kf.split(X_train):\n",
        "    train_data, val_data = X_train.iloc[train_index], X_train.iloc[val_index]\n",
        "    train_labels, val_labels = y_train.iloc[train_index], y_train.iloc[val_index]\n",
        "\n",
        "    weights = sigmoid_bgd(train_data, train_labels)\n",
        "\n",
        "    val_pred = pred_sigmoid_bgd(val_data, weights)\n",
        "    val_mse = mean_squared_error(val_labels, val_pred)\n",
        "    mse_scores.append(val_mse)\n",
        "\n",
        "average_loss = sum(mse_scores)/len(mse_scores)\n",
        "print(\"Average Validation Loss:\", average_loss)"
      ],
      "metadata": {
        "colab": {
          "base_uri": "https://localhost:8080/"
        },
        "id": "DX26WpQJZ7wG",
        "outputId": "5f223223-bd23-4900-9e65-fca1bb419e74"
      },
      "execution_count": null,
      "outputs": [
        {
          "output_type": "stream",
          "name": "stdout",
          "text": [
            "Epoch 0 loss: 10.790205697531055\n"
          ]
        },
        {
          "output_type": "stream",
          "name": "stderr",
          "text": [
            "<ipython-input-24-e561a5078ab6>:2: RuntimeWarning: overflow encountered in exp\n",
            "  return 1/(1+np.exp(-weighted_sum))\n"
          ]
        },
        {
          "output_type": "stream",
          "name": "stdout",
          "text": [
            "Epoch 1 loss: 9.291896890632573\n",
            "Epoch 2 loss: 9.344830610087216\n",
            "Epoch 3 loss: 9.36777479578558\n",
            "Epoch 4 loss: 9.371134898376914\n",
            "\n",
            "Average loss of all epochs 9.633168578482667\n",
            "Epoch 0 loss: 10.374946586085073\n"
          ]
        },
        {
          "output_type": "stream",
          "name": "stderr",
          "text": [
            "<ipython-input-24-e561a5078ab6>:2: RuntimeWarning: overflow encountered in exp\n",
            "  return 1/(1+np.exp(-weighted_sum))\n"
          ]
        },
        {
          "output_type": "stream",
          "name": "stdout",
          "text": [
            "Epoch 1 loss: 8.782037310266348\n",
            "Epoch 2 loss: 8.853120435841562\n",
            "Epoch 3 loss: 8.867982069434568\n",
            "Epoch 4 loss: 8.877685480212662\n",
            "\n",
            "Average loss of all epochs 9.151154376368043\n",
            "Epoch 0 loss: 10.902930416508328\n"
          ]
        },
        {
          "output_type": "stream",
          "name": "stderr",
          "text": [
            "<ipython-input-24-e561a5078ab6>:2: RuntimeWarning: overflow encountered in exp\n",
            "  return 1/(1+np.exp(-weighted_sum))\n"
          ]
        },
        {
          "output_type": "stream",
          "name": "stdout",
          "text": [
            "Epoch 1 loss: 9.45203247344035\n",
            "Epoch 2 loss: 9.513439367725242\n",
            "Epoch 3 loss: 9.522822605382572\n",
            "Epoch 4 loss: 9.528721505016932\n",
            "\n",
            "Average loss of all epochs 9.783989273614685\n",
            "Epoch 0 loss: 10.763658699531696\n"
          ]
        },
        {
          "output_type": "stream",
          "name": "stderr",
          "text": [
            "<ipython-input-24-e561a5078ab6>:2: RuntimeWarning: overflow encountered in exp\n",
            "  return 1/(1+np.exp(-weighted_sum))\n"
          ]
        },
        {
          "output_type": "stream",
          "name": "stdout",
          "text": [
            "Epoch 1 loss: 9.204815488864643\n",
            "Epoch 2 loss: 9.272338223131765\n",
            "Epoch 3 loss: 9.282485740005397\n",
            "Epoch 4 loss: 9.292490003732519\n",
            "\n",
            "Average loss of all epochs 9.563157631053205\n",
            "Epoch 0 loss: 10.905484541823883\n"
          ]
        },
        {
          "output_type": "stream",
          "name": "stderr",
          "text": [
            "<ipython-input-24-e561a5078ab6>:2: RuntimeWarning: overflow encountered in exp\n",
            "  return 1/(1+np.exp(-weighted_sum))\n"
          ]
        },
        {
          "output_type": "stream",
          "name": "stdout",
          "text": [
            "Epoch 1 loss: 9.395793659582322\n",
            "Epoch 2 loss: 9.455849308759298\n",
            "Epoch 3 loss: 9.473260324120234\n",
            "Epoch 4 loss: 9.477648928382681\n",
            "\n",
            "Average loss of all epochs 9.741607352533682\n",
            "Epoch 0 loss: 10.702817201761897\n"
          ]
        },
        {
          "output_type": "stream",
          "name": "stderr",
          "text": [
            "<ipython-input-24-e561a5078ab6>:2: RuntimeWarning: overflow encountered in exp\n",
            "  return 1/(1+np.exp(-weighted_sum))\n"
          ]
        },
        {
          "output_type": "stream",
          "name": "stdout",
          "text": [
            "Epoch 1 loss: 9.238545280434934\n",
            "Epoch 2 loss: 9.297852345729996\n",
            "Epoch 3 loss: 9.30762198337433\n",
            "Epoch 4 loss: 9.318293564138425\n",
            "\n",
            "Average loss of all epochs 9.573026075087915\n",
            "Epoch 0 loss: 10.728443401179703\n"
          ]
        },
        {
          "output_type": "stream",
          "name": "stderr",
          "text": [
            "<ipython-input-24-e561a5078ab6>:2: RuntimeWarning: overflow encountered in exp\n",
            "  return 1/(1+np.exp(-weighted_sum))\n"
          ]
        },
        {
          "output_type": "stream",
          "name": "stdout",
          "text": [
            "Epoch 1 loss: 9.219745114253557\n",
            "Epoch 2 loss: 9.28605481322846\n",
            "Epoch 3 loss: 9.29850199019996\n",
            "Epoch 4 loss: 9.303961776342348\n",
            "\n",
            "Average loss of all epochs 9.567341419040805\n",
            "Epoch 0 loss: 10.701513273950203\n"
          ]
        },
        {
          "output_type": "stream",
          "name": "stderr",
          "text": [
            "<ipython-input-24-e561a5078ab6>:2: RuntimeWarning: overflow encountered in exp\n",
            "  return 1/(1+np.exp(-weighted_sum))\n"
          ]
        },
        {
          "output_type": "stream",
          "name": "stdout",
          "text": [
            "Epoch 1 loss: 9.148710378766317\n",
            "Epoch 2 loss: 9.216262230330344\n",
            "Epoch 3 loss: 9.22752930995808\n",
            "Epoch 4 loss: 9.23871112328738\n",
            "\n",
            "Average loss of all epochs 9.506545263258465\n",
            "Epoch 0 loss: 10.807770441006252\n"
          ]
        },
        {
          "output_type": "stream",
          "name": "stderr",
          "text": [
            "<ipython-input-24-e561a5078ab6>:2: RuntimeWarning: overflow encountered in exp\n",
            "  return 1/(1+np.exp(-weighted_sum))\n"
          ]
        },
        {
          "output_type": "stream",
          "name": "stdout",
          "text": [
            "Epoch 1 loss: 9.327263046890566\n",
            "Epoch 2 loss: 9.390942832635659\n",
            "Epoch 3 loss: 9.401319564613495\n",
            "Epoch 4 loss: 9.411288855529664\n",
            "\n",
            "Average loss of all epochs 9.667716948135126\n",
            "Epoch 0 loss: 10.821420789810277\n"
          ]
        },
        {
          "output_type": "stream",
          "name": "stderr",
          "text": [
            "<ipython-input-24-e561a5078ab6>:2: RuntimeWarning: overflow encountered in exp\n",
            "  return 1/(1+np.exp(-weighted_sum))\n"
          ]
        },
        {
          "output_type": "stream",
          "name": "stdout",
          "text": [
            "Epoch 1 loss: 9.347469354491842\n",
            "Epoch 2 loss: 9.403313816165003\n",
            "Epoch 3 loss: 9.417344452220886\n",
            "Epoch 4 loss: 9.420250652549127\n",
            "\n",
            "Average loss of all epochs 9.681959813047428\n",
            "Average Validation Loss: 18.63146865836828\n"
          ]
        }
      ]
    },
    {
      "cell_type": "code",
      "source": [
        "test_pred = pred_sigmoid_bgd(X_test, weights)\n",
        "test_mse = mean_squared_error(y_test, test_pred)\n",
        "print(\"The mean squared error on the test dataset is:\", test_mse)"
      ],
      "metadata": {
        "colab": {
          "base_uri": "https://localhost:8080/"
        },
        "id": "hhcXJpP1aNna",
        "outputId": "70dc7279-0a3a-4091-a5ac-b040fd756e6e"
      },
      "execution_count": null,
      "outputs": [
        {
          "output_type": "stream",
          "name": "stdout",
          "text": [
            "The mean squared error on the test dataset is: 21.968655431022817\n"
          ]
        },
        {
          "output_type": "stream",
          "name": "stderr",
          "text": [
            "<ipython-input-24-e561a5078ab6>:2: RuntimeWarning: overflow encountered in exp\n",
            "  return 1/(1+np.exp(-weighted_sum))\n"
          ]
        }
      ]
    },
    {
      "cell_type": "code",
      "source": [],
      "metadata": {
        "id": "kXx14vpJMQLn"
      },
      "execution_count": null,
      "outputs": []
    },
    {
      "cell_type": "code",
      "source": [],
      "metadata": {
        "id": "1TnYbiz94JWX"
      },
      "execution_count": null,
      "outputs": []
    },
    {
      "cell_type": "markdown",
      "source": [
        "###BGD test 0.2, lr 0.01"
      ],
      "metadata": {
        "id": "jzsC2h_j4KIn"
      }
    },
    {
      "cell_type": "code",
      "source": [
        "learning_rate = 0.1\n",
        "epochs = 20\n"
      ],
      "metadata": {
        "id": "OL1fXeEZ4KIo"
      },
      "execution_count": null,
      "outputs": []
    },
    {
      "cell_type": "code",
      "source": [
        "def sigmoid_activation(weighted_sum):\n",
        "  return 1/(1+np.exp(-weighted_sum))\n"
      ],
      "metadata": {
        "id": "71HlZVsv4KIo"
      },
      "execution_count": null,
      "outputs": []
    },
    {
      "cell_type": "code",
      "source": [
        "def sigmoid_bgd(data, labels, learning_rate=0.01, epochs=5):\n",
        "  weights = np.array([0.30903487, 0.14895414, 0.71205955, 0.92752802])\n",
        "  epoch_loss= []\n",
        "  for i in range(epochs):\n",
        "    iter_loss = []\n",
        "    delta_weight = np.zeros(weights.shape)\n",
        "    for j in range(len(data)):\n",
        "      row_j = data.iloc[j]\n",
        "      target = labels.iloc[j]\n",
        "      weighted_sum = np.dot(row_j, weights)\n",
        "      prediction = sigmoid_activation(weighted_sum)\n",
        "      loss = 1/2*((target-prediction)**2)\n",
        "      iter_loss.append(loss)\n",
        "      delta_weight = delta_weight + learning_rate*(target-prediction)*row_j\n",
        "\n",
        "    weights = weights + delta_weight\n",
        "    average_loss = sum(iter_loss)/len(iter_loss)\n",
        "    epoch_loss.append(average_loss)\n",
        "    print(f\"Epoch {i} loss: {average_loss}\")\n",
        "\n",
        "  print(f\"\\nAverage loss of all epochs {sum(epoch_loss)/len(epoch_loss)}\")\n",
        "  return weights\n",
        "\n",
        "\n",
        "def pred_sigmoid_bgd(data, weights):\n",
        "  w_sum =  np.dot(data, weights)\n",
        "  return sigmoid_activation(w_sum)"
      ],
      "metadata": {
        "id": "RprigJ1r4KIo"
      },
      "execution_count": null,
      "outputs": []
    },
    {
      "cell_type": "code",
      "source": [
        "train_data, test_data = train_test_split(data , test_size=0.2, random_state=42)\n",
        "X_train = train_data.iloc[:, :-1]\n",
        "y_train = train_data.iloc[:, -1]\n",
        "X_test = test_data.iloc[:, :-1]\n",
        "y_test = test_data.iloc[:, -1]"
      ],
      "metadata": {
        "id": "wZ-h9Edi4KIo"
      },
      "execution_count": null,
      "outputs": []
    },
    {
      "cell_type": "code",
      "source": [
        "from sklearn.model_selection import KFold\n",
        "\n",
        "kf = KFold(n_splits=10, shuffle=True, random_state=42)\n",
        "mse_scores = []\n",
        "\n",
        "\n",
        "for train_index, val_index in kf.split(X_train):\n",
        "    train_data, val_data = X_train.iloc[train_index], X_train.iloc[val_index]\n",
        "    train_labels, val_labels = y_train.iloc[train_index], y_train.iloc[val_index]\n",
        "\n",
        "    weights = sigmoid_bgd(train_data, train_labels)\n",
        "\n",
        "    val_pred = pred_sigmoid_bgd(val_data, weights)\n",
        "    val_mse = mean_squared_error(val_labels, val_pred)\n",
        "    mse_scores.append(val_mse)\n",
        "\n",
        "average_loss = sum(mse_scores)/len(mse_scores)\n",
        "print(\"Average Validation Loss:\", average_loss)"
      ],
      "metadata": {
        "colab": {
          "base_uri": "https://localhost:8080/"
        },
        "outputId": "d9f00974-dd6d-4780-eae4-4262a1dc1e02",
        "id": "ahurzn4S4KIo"
      },
      "execution_count": null,
      "outputs": [
        {
          "output_type": "stream",
          "name": "stdout",
          "text": [
            "Epoch 0 loss: 11.10442748032257\n"
          ]
        },
        {
          "output_type": "stream",
          "name": "stderr",
          "text": [
            "<ipython-input-35-e561a5078ab6>:2: RuntimeWarning: overflow encountered in exp\n",
            "  return 1/(1+np.exp(-weighted_sum))\n"
          ]
        },
        {
          "output_type": "stream",
          "name": "stdout",
          "text": [
            "Epoch 1 loss: 9.523106412965026\n",
            "Epoch 2 loss: 9.589110245784013\n",
            "Epoch 3 loss: 9.60769880927719\n",
            "Epoch 4 loss: 9.617810093023632\n",
            "\n",
            "Average loss of all epochs 9.888430608274486\n",
            "Epoch 0 loss: 11.005186473753964\n"
          ]
        },
        {
          "output_type": "stream",
          "name": "stderr",
          "text": [
            "<ipython-input-35-e561a5078ab6>:2: RuntimeWarning: overflow encountered in exp\n",
            "  return 1/(1+np.exp(-weighted_sum))\n"
          ]
        },
        {
          "output_type": "stream",
          "name": "stdout",
          "text": [
            "Epoch 1 loss: 9.443717904174688\n",
            "Epoch 2 loss: 9.509969470854754\n",
            "Epoch 3 loss: 9.533510079383264\n",
            "Epoch 4 loss: 9.535542903614658\n",
            "\n",
            "Average loss of all epochs 9.805585366356265\n",
            "Epoch 0 loss: 10.791049632012172\n"
          ]
        },
        {
          "output_type": "stream",
          "name": "stderr",
          "text": [
            "<ipython-input-35-e561a5078ab6>:2: RuntimeWarning: overflow encountered in exp\n",
            "  return 1/(1+np.exp(-weighted_sum))\n"
          ]
        },
        {
          "output_type": "stream",
          "name": "stdout",
          "text": [
            "Epoch 1 loss: 9.156933951212627\n",
            "Epoch 2 loss: 9.222623472438267\n",
            "Epoch 3 loss: 9.247361964550512\n",
            "Epoch 4 loss: 9.258641408461491\n",
            "\n",
            "Average loss of all epochs 9.535322085735014\n",
            "Epoch 0 loss: 11.020593868860871\n"
          ]
        },
        {
          "output_type": "stream",
          "name": "stderr",
          "text": [
            "<ipython-input-35-e561a5078ab6>:2: RuntimeWarning: overflow encountered in exp\n",
            "  return 1/(1+np.exp(-weighted_sum))\n"
          ]
        },
        {
          "output_type": "stream",
          "name": "stdout",
          "text": [
            "Epoch 1 loss: 9.446037384183613\n",
            "Epoch 2 loss: 9.506912085606766\n",
            "Epoch 3 loss: 9.530997352673392\n",
            "Epoch 4 loss: 9.532055742800903\n",
            "\n",
            "Average loss of all epochs 9.80731928682511\n",
            "Epoch 0 loss: 11.228544507333854\n"
          ]
        },
        {
          "output_type": "stream",
          "name": "stderr",
          "text": [
            "<ipython-input-35-e561a5078ab6>:2: RuntimeWarning: overflow encountered in exp\n",
            "  return 1/(1+np.exp(-weighted_sum))\n"
          ]
        },
        {
          "output_type": "stream",
          "name": "stdout",
          "text": [
            "Epoch 1 loss: 9.717746971490783\n",
            "Epoch 2 loss: 9.774275792312412\n",
            "Epoch 3 loss: 9.78706116880099\n",
            "Epoch 4 loss: 9.794356428409703\n",
            "\n",
            "Average loss of all epochs 10.06039697366955\n",
            "Epoch 0 loss: 10.77708061227688\n"
          ]
        },
        {
          "output_type": "stream",
          "name": "stderr",
          "text": [
            "<ipython-input-35-e561a5078ab6>:2: RuntimeWarning: overflow encountered in exp\n",
            "  return 1/(1+np.exp(-weighted_sum))\n"
          ]
        },
        {
          "output_type": "stream",
          "name": "stdout",
          "text": [
            "Epoch 1 loss: 9.254949449513418\n",
            "Epoch 2 loss: 9.310782861315776\n",
            "Epoch 3 loss: 9.328434334065326\n",
            "Epoch 4 loss: 9.331357894683986\n",
            "\n",
            "Average loss of all epochs 9.600521030371079\n",
            "Epoch 0 loss: 11.053758045724223\n"
          ]
        },
        {
          "output_type": "stream",
          "name": "stderr",
          "text": [
            "<ipython-input-35-e561a5078ab6>:2: RuntimeWarning: overflow encountered in exp\n",
            "  return 1/(1+np.exp(-weighted_sum))\n"
          ]
        },
        {
          "output_type": "stream",
          "name": "stdout",
          "text": [
            "Epoch 1 loss: 9.544987335760007\n",
            "Epoch 2 loss: 9.604993344374762\n",
            "Epoch 3 loss: 9.621333849542554\n",
            "Epoch 4 loss: 9.623577920425467\n",
            "\n",
            "Average loss of all epochs 9.889730099165401\n",
            "Epoch 0 loss: 11.28833288163907\n"
          ]
        },
        {
          "output_type": "stream",
          "name": "stderr",
          "text": [
            "<ipython-input-35-e561a5078ab6>:2: RuntimeWarning: overflow encountered in exp\n",
            "  return 1/(1+np.exp(-weighted_sum))\n"
          ]
        },
        {
          "output_type": "stream",
          "name": "stdout",
          "text": [
            "Epoch 1 loss: 9.805594758447873\n",
            "Epoch 2 loss: 9.865739655411764\n",
            "Epoch 3 loss: 9.876517322587693\n",
            "Epoch 4 loss: 9.879104286390787\n",
            "\n",
            "Average loss of all epochs 10.143057780895436\n",
            "Epoch 0 loss: 11.02182203288677\n"
          ]
        },
        {
          "output_type": "stream",
          "name": "stderr",
          "text": [
            "<ipython-input-35-e561a5078ab6>:2: RuntimeWarning: overflow encountered in exp\n",
            "  return 1/(1+np.exp(-weighted_sum))\n"
          ]
        },
        {
          "output_type": "stream",
          "name": "stdout",
          "text": [
            "Epoch 1 loss: 9.37774106164947\n",
            "Epoch 2 loss: 9.449312297213185\n",
            "Epoch 3 loss: 9.47107316046789\n",
            "Epoch 4 loss: 9.48208543669567\n",
            "\n",
            "Average loss of all epochs 9.760406797782597\n",
            "Epoch 0 loss: 11.00251971777663\n"
          ]
        },
        {
          "output_type": "stream",
          "name": "stderr",
          "text": [
            "<ipython-input-35-e561a5078ab6>:2: RuntimeWarning: overflow encountered in exp\n",
            "  return 1/(1+np.exp(-weighted_sum))\n"
          ]
        },
        {
          "output_type": "stream",
          "name": "stdout",
          "text": [
            "Epoch 1 loss: 9.428088838347712\n",
            "Epoch 2 loss: 9.494288171855514\n",
            "Epoch 3 loss: 9.507286218242601\n",
            "Epoch 4 loss: 9.515818335640606\n",
            "\n",
            "Average loss of all epochs 9.789600256372612\n",
            "Average Validation Loss: 19.133661032144722\n"
          ]
        }
      ]
    },
    {
      "cell_type": "code",
      "source": [
        "test_pred = pred_sigmoid_bgd(X_test, weights)\n",
        "test_mse = mean_squared_error(y_test, test_pred)\n",
        "print(\"The mean squared error on the test dataset is:\", test_mse)"
      ],
      "metadata": {
        "colab": {
          "base_uri": "https://localhost:8080/"
        },
        "outputId": "70dc7279-0a3a-4091-a5ac-b040fd756e6e",
        "id": "v1SvIS2r4KIp"
      },
      "execution_count": null,
      "outputs": [
        {
          "output_type": "stream",
          "name": "stdout",
          "text": [
            "The mean squared error on the test dataset is: 21.968655431022817\n"
          ]
        },
        {
          "output_type": "stream",
          "name": "stderr",
          "text": [
            "<ipython-input-24-e561a5078ab6>:2: RuntimeWarning: overflow encountered in exp\n",
            "  return 1/(1+np.exp(-weighted_sum))\n"
          ]
        }
      ]
    },
    {
      "cell_type": "code",
      "source": [],
      "metadata": {
        "id": "E_pt8s1R4KIp"
      },
      "execution_count": null,
      "outputs": []
    },
    {
      "cell_type": "markdown",
      "source": [
        "###SGD test 0.3"
      ],
      "metadata": {
        "id": "IKIjl_3H7KZN"
      }
    },
    {
      "cell_type": "code",
      "source": [
        "# bias=1\n",
        "learning_rate = 0.5\n",
        "epochs = 20\n"
      ],
      "metadata": {
        "id": "Qg_K-G1J494q"
      },
      "execution_count": null,
      "outputs": []
    },
    {
      "cell_type": "code",
      "source": [
        "def sigmoid_activation(weighted_sum):\n",
        "  return 1/(1+np.exp(-weighted_sum))\n",
        "\n",
        "def update_weights(row_j, weights, learning_rate, target, prediction):\n",
        "  updated_weights = []\n",
        "  for row, weight in zip(row_j, weights):\n",
        "    updated_weights.append(weight+learning_rate*(target-prediction)*row)\n",
        "  return updated_weights"
      ],
      "metadata": {
        "id": "W_xECiouBlqp"
      },
      "execution_count": null,
      "outputs": []
    },
    {
      "cell_type": "code",
      "source": [
        "def sigmoid_sgd(data, labels, learning_rate=0.5, epochs=5):\n",
        "  weights = np.array([0.30903487, 0.14895414, 0.71205955, 0.92752802])\n",
        "  epoch_loss= []\n",
        "  for i in range(epochs):\n",
        "    iter_loss = []\n",
        "    for j in range(len(data)):\n",
        "      row_j = data.iloc[j]\n",
        "      target = labels.iloc[j]\n",
        "      weighted_sum = np.dot(row_j, weights)\n",
        "      prediction = sigmoid_activation(weighted_sum)\n",
        "      loss = 1/2*((target-prediction)**2)\n",
        "      iter_loss.append(loss)\n",
        "      weights = update_weights(row_j, weights, learning_rate, target, prediction)\n",
        "    average_loss = sum(iter_loss)/len(iter_loss)\n",
        "    epoch_loss.append(average_loss)\n",
        "    print(f\"Epoch {i} loss: {average_loss}\")\n",
        "\n",
        "  print(f\"Average loss of all epochs {sum(epoch_loss)/len(epoch_loss)}\",\"\\n\")\n",
        "  return weights\n",
        "\n",
        "def pred_sigmoid_sgd(data, weights):\n",
        "  w_sum =  np.dot(data, weights)\n",
        "  return sigmoid_activation(w_sum)\n"
      ],
      "metadata": {
        "id": "V30p6gZX73Gw"
      },
      "execution_count": null,
      "outputs": []
    },
    {
      "cell_type": "code",
      "source": [
        "train_data, test_data = train_test_split(data , test_size=0.3, random_state=42)\n",
        "X_train = train_data.iloc[:, :-1]\n",
        "y_train = train_data.iloc[:, -1]\n",
        "X_test = test_data.iloc[:, :-1]\n",
        "y_test = test_data.iloc[:, -1]"
      ],
      "metadata": {
        "id": "EbA-wkkiazlh"
      },
      "execution_count": null,
      "outputs": []
    },
    {
      "cell_type": "code",
      "source": [
        "from sklearn.model_selection import KFold\n",
        "\n",
        "kf = KFold(n_splits=10, shuffle=True, random_state=42)\n",
        "mse_scores = []\n",
        "\n",
        "\n",
        "for train_index, val_index in kf.split(X_train):\n",
        "    train_data, val_data = X_train.iloc[train_index], X_train.iloc[val_index]\n",
        "    train_labels, val_labels = y_train.iloc[train_index], y_train.iloc[val_index]\n",
        "\n",
        "    weights = sigmoid_sgd(train_data, train_labels)\n",
        "\n",
        "    val_pred = pred_sigmoid_sgd(val_data, weights)\n",
        "    val_mse = mean_squared_error(val_labels, val_pred)\n",
        "    mse_scores.append(val_mse)\n",
        "\n",
        "average_loss = sum(mse_scores)/len(mse_scores)\n",
        "print(\"Average Validation Loss:\", average_loss)"
      ],
      "metadata": {
        "colab": {
          "base_uri": "https://localhost:8080/"
        },
        "id": "_6sQ9yqZazp2",
        "outputId": "b8277c56-5a02-47de-8e55-6188fb3502bb"
      },
      "execution_count": null,
      "outputs": [
        {
          "output_type": "stream",
          "name": "stderr",
          "text": [
            "<ipython-input-30-6216a4e46143>:2: RuntimeWarning: overflow encountered in exp\n",
            "  return 1/(1+np.exp(-weighted_sum))\n"
          ]
        },
        {
          "output_type": "stream",
          "name": "stdout",
          "text": [
            "Epoch 0 loss: 9.507239375373366\n",
            "Epoch 1 loss: 9.402298793968136\n",
            "Epoch 2 loss: 9.393743049424863\n",
            "Epoch 3 loss: 9.390515958178614\n",
            "Epoch 4 loss: 9.390623673905852\n",
            "Average loss of all epochs 9.416884170170167 \n",
            "\n"
          ]
        },
        {
          "output_type": "stream",
          "name": "stderr",
          "text": [
            "<ipython-input-30-6216a4e46143>:2: RuntimeWarning: overflow encountered in exp\n",
            "  return 1/(1+np.exp(-weighted_sum))\n"
          ]
        },
        {
          "output_type": "stream",
          "name": "stdout",
          "text": [
            "Epoch 0 loss: 8.963092049683933\n",
            "Epoch 1 loss: 8.90408242405568\n",
            "Epoch 2 loss: 8.89928569666668\n",
            "Epoch 3 loss: 8.899285791163852\n",
            "Epoch 4 loss: 8.899285791163852\n",
            "Average loss of all epochs 8.9130063505468 \n",
            "\n"
          ]
        },
        {
          "output_type": "stream",
          "name": "stderr",
          "text": [
            "<ipython-input-30-6216a4e46143>:2: RuntimeWarning: overflow encountered in exp\n",
            "  return 1/(1+np.exp(-weighted_sum))\n"
          ]
        },
        {
          "output_type": "stream",
          "name": "stdout",
          "text": [
            "Epoch 0 loss: 9.625723870636373\n",
            "Epoch 1 loss: 9.555185468912779\n",
            "Epoch 2 loss: 9.549825544295473\n",
            "Epoch 3 loss: 9.54831232174467\n",
            "Epoch 4 loss: 9.54693290946415\n",
            "Average loss of all epochs 9.565196023010689 \n",
            "\n"
          ]
        },
        {
          "output_type": "stream",
          "name": "stderr",
          "text": [
            "<ipython-input-30-6216a4e46143>:2: RuntimeWarning: overflow encountered in exp\n",
            "  return 1/(1+np.exp(-weighted_sum))\n"
          ]
        },
        {
          "output_type": "stream",
          "name": "stdout",
          "text": [
            "Epoch 0 loss: 9.455533168629778\n",
            "Epoch 1 loss: 9.34406251828429\n",
            "Epoch 2 loss: 9.322784355313496\n",
            "Epoch 3 loss: 9.313087781717144\n",
            "Epoch 4 loss: 9.309734864663803\n",
            "Average loss of all epochs 9.349040537721702 \n",
            "\n"
          ]
        },
        {
          "output_type": "stream",
          "name": "stderr",
          "text": [
            "<ipython-input-30-6216a4e46143>:2: RuntimeWarning: overflow encountered in exp\n",
            "  return 1/(1+np.exp(-weighted_sum))\n"
          ]
        },
        {
          "output_type": "stream",
          "name": "stdout",
          "text": [
            "Epoch 0 loss: 9.616856796228271\n",
            "Epoch 1 loss: 9.51384840633331\n",
            "Epoch 2 loss: 9.506671842257232\n",
            "Epoch 3 loss: 9.506754340049948\n",
            "Epoch 4 loss: 9.502062636586064\n",
            "Average loss of all epochs 9.529238804290964 \n",
            "\n"
          ]
        },
        {
          "output_type": "stream",
          "name": "stderr",
          "text": [
            "<ipython-input-30-6216a4e46143>:2: RuntimeWarning: overflow encountered in exp\n",
            "  return 1/(1+np.exp(-weighted_sum))\n"
          ]
        },
        {
          "output_type": "stream",
          "name": "stdout",
          "text": [
            "Epoch 0 loss: 9.472034837164752\n",
            "Epoch 1 loss: 9.349486575634046\n",
            "Epoch 2 loss: 9.335021427144364\n",
            "Epoch 3 loss: 9.329476850516075\n",
            "Epoch 4 loss: 9.329476850516075\n",
            "Average loss of all epochs 9.363099308195062 \n",
            "\n"
          ]
        },
        {
          "output_type": "stream",
          "name": "stderr",
          "text": [
            "<ipython-input-30-6216a4e46143>:2: RuntimeWarning: overflow encountered in exp\n",
            "  return 1/(1+np.exp(-weighted_sum))\n"
          ]
        },
        {
          "output_type": "stream",
          "name": "stdout",
          "text": [
            "Epoch 0 loss: 9.438902556273803\n",
            "Epoch 1 loss: 9.337274883328599\n",
            "Epoch 2 loss: 9.328817209255082\n",
            "Epoch 3 loss: 9.32693035113533\n",
            "Epoch 4 loss: 9.321741000729585\n",
            "Average loss of all epochs 9.350733200144479 \n",
            "\n"
          ]
        },
        {
          "output_type": "stream",
          "name": "stderr",
          "text": [
            "<ipython-input-30-6216a4e46143>:2: RuntimeWarning: overflow encountered in exp\n",
            "  return 1/(1+np.exp(-weighted_sum))\n"
          ]
        },
        {
          "output_type": "stream",
          "name": "stdout",
          "text": [
            "Epoch 0 loss: 9.407776440889965\n",
            "Epoch 1 loss: 9.293378077357012\n",
            "Epoch 2 loss: 9.271161980662017\n",
            "Epoch 3 loss: 9.263944699870839\n",
            "Epoch 4 loss: 9.256216996213453\n",
            "Average loss of all epochs 9.298495638998657 \n",
            "\n"
          ]
        },
        {
          "output_type": "stream",
          "name": "stderr",
          "text": [
            "<ipython-input-30-6216a4e46143>:2: RuntimeWarning: overflow encountered in exp\n",
            "  return 1/(1+np.exp(-weighted_sum))\n"
          ]
        },
        {
          "output_type": "stream",
          "name": "stdout",
          "text": [
            "Epoch 0 loss: 9.528920015563614\n",
            "Epoch 1 loss: 9.44329562194688\n",
            "Epoch 2 loss: 9.433064214962192\n",
            "Epoch 3 loss: 9.427318296778694\n",
            "Epoch 4 loss: 9.428947090442259\n",
            "Average loss of all epochs 9.452309047938728 \n",
            "\n"
          ]
        },
        {
          "output_type": "stream",
          "name": "stderr",
          "text": [
            "<ipython-input-30-6216a4e46143>:2: RuntimeWarning: overflow encountered in exp\n",
            "  return 1/(1+np.exp(-weighted_sum))\n"
          ]
        },
        {
          "output_type": "stream",
          "name": "stdout",
          "text": [
            "Epoch 0 loss: 9.541437096161637\n",
            "Epoch 1 loss: 9.454918057143924\n",
            "Epoch 2 loss: 9.44309415576257\n",
            "Epoch 3 loss: 9.441680055473004\n",
            "Epoch 4 loss: 9.443349494472965\n",
            "Average loss of all epochs 9.464895771802821 \n",
            "\n",
            "Average Validation Loss: 18.638003734046627\n"
          ]
        }
      ]
    },
    {
      "cell_type": "code",
      "source": [
        "test_pred = pred_sigmoid_sgd(X_test, weights)\n",
        "test_mse = mean_squared_error(y_test, test_pred)\n",
        "print(\"The mean squared error on the test dataset is:\", test_mse)"
      ],
      "metadata": {
        "colab": {
          "base_uri": "https://localhost:8080/"
        },
        "id": "bmcQMRsdazsz",
        "outputId": "a4debd23-99f8-4182-c485-b7050cc1900f"
      },
      "execution_count": null,
      "outputs": [
        {
          "output_type": "stream",
          "name": "stdout",
          "text": [
            "The mean squared error on the test dataset is: 21.981648102042715\n"
          ]
        },
        {
          "output_type": "stream",
          "name": "stderr",
          "text": [
            "<ipython-input-30-6216a4e46143>:2: RuntimeWarning: overflow encountered in exp\n",
            "  return 1/(1+np.exp(-weighted_sum))\n"
          ]
        }
      ]
    },
    {
      "cell_type": "code",
      "source": [],
      "metadata": {
        "id": "JHfjl_3l47SV"
      },
      "execution_count": null,
      "outputs": []
    },
    {
      "cell_type": "markdown",
      "source": [
        "###SGD test 0.2, lr = 0.01"
      ],
      "metadata": {
        "id": "WGYREdQU47f6"
      }
    },
    {
      "cell_type": "code",
      "source": [
        "# bias=1\n",
        "learning_rate = 0.5\n",
        "epochs = 20\n"
      ],
      "metadata": {
        "id": "YNZbVGCA47f6"
      },
      "execution_count": null,
      "outputs": []
    },
    {
      "cell_type": "code",
      "source": [
        "def sigmoid_activation(weighted_sum):\n",
        "  return 1/(1+np.exp(-weighted_sum))\n",
        "\n",
        "def update_weights(row_j, weights, learning_rate, target, prediction):\n",
        "  updated_weights = []\n",
        "  for row, weight in zip(row_j, weights):\n",
        "    updated_weights.append(weight+learning_rate*(target-prediction)*row)\n",
        "  return updated_weights"
      ],
      "metadata": {
        "id": "UnxmFqTX47f6"
      },
      "execution_count": null,
      "outputs": []
    },
    {
      "cell_type": "code",
      "source": [
        "def sigmoid_sgd(data, labels, learning_rate=0.01, epochs=5):\n",
        "  weights = np.array([0.30903487, 0.14895414, 0.71205955, 0.92752802])\n",
        "  epoch_loss= []\n",
        "  for i in range(epochs):\n",
        "    iter_loss = []\n",
        "    for j in range(len(data)):\n",
        "      row_j = data.iloc[j]\n",
        "      target = labels.iloc[j]\n",
        "      weighted_sum = np.dot(row_j, weights)\n",
        "      prediction = sigmoid_activation(weighted_sum)\n",
        "      loss = 1/2*((target-prediction)**2)\n",
        "      iter_loss.append(loss)\n",
        "      weights = update_weights(row_j, weights, learning_rate, target, prediction)\n",
        "    average_loss = sum(iter_loss)/len(iter_loss)\n",
        "    epoch_loss.append(average_loss)\n",
        "    print(f\"Epoch {i} loss: {average_loss}\")\n",
        "\n",
        "  print(f\"Average loss of all epochs {sum(epoch_loss)/len(epoch_loss)}\",\"\\n\")\n",
        "  return weights\n",
        "\n",
        "def pred_sigmoid_sgd(data, weights):\n",
        "  w_sum =  np.dot(data, weights)\n",
        "  return sigmoid_activation(w_sum)\n"
      ],
      "metadata": {
        "id": "Ei6KPUOH47f6"
      },
      "execution_count": null,
      "outputs": []
    },
    {
      "cell_type": "code",
      "source": [
        "train_data, test_data = train_test_split(data , test_size=0.3, random_state=42)\n",
        "X_train = train_data.iloc[:, :-1]\n",
        "y_train = train_data.iloc[:, -1]\n",
        "X_test = test_data.iloc[:, :-1]\n",
        "y_test = test_data.iloc[:, -1]"
      ],
      "metadata": {
        "id": "wo5budII47f7"
      },
      "execution_count": null,
      "outputs": []
    },
    {
      "cell_type": "code",
      "source": [
        "from sklearn.model_selection import KFold\n",
        "\n",
        "kf = KFold(n_splits=10, shuffle=True, random_state=42)\n",
        "mse_scores = []\n",
        "\n",
        "\n",
        "for train_index, val_index in kf.split(X_train):\n",
        "    train_data, val_data = X_train.iloc[train_index], X_train.iloc[val_index]\n",
        "    train_labels, val_labels = y_train.iloc[train_index], y_train.iloc[val_index]\n",
        "\n",
        "    weights = sigmoid_sgd(train_data, train_labels)\n",
        "\n",
        "    val_pred = pred_sigmoid_sgd(val_data, weights)\n",
        "    val_mse = mean_squared_error(val_labels, val_pred)\n",
        "    mse_scores.append(val_mse)\n",
        "\n",
        "average_loss = sum(mse_scores)/len(mse_scores)\n",
        "print(\"Average Validation Loss:\", average_loss)"
      ],
      "metadata": {
        "colab": {
          "base_uri": "https://localhost:8080/"
        },
        "outputId": "e358559c-cc1b-48c9-f8ae-ec5f41184c8e",
        "id": "K4IrDE_947f7"
      },
      "execution_count": null,
      "outputs": [
        {
          "output_type": "stream",
          "name": "stderr",
          "text": [
            "<ipython-input-40-6216a4e46143>:2: RuntimeWarning: overflow encountered in exp\n",
            "  return 1/(1+np.exp(-weighted_sum))\n"
          ]
        },
        {
          "output_type": "stream",
          "name": "stdout",
          "text": [
            "Epoch 0 loss: 9.530516496934924\n",
            "Epoch 1 loss: 9.402788999422743\n",
            "Epoch 2 loss: 9.394624656460524\n",
            "Epoch 3 loss: 9.391893955041292\n",
            "Epoch 4 loss: 9.390629989719965\n",
            "Average loss of all epochs 9.42209081951589 \n",
            "\n"
          ]
        },
        {
          "output_type": "stream",
          "name": "stderr",
          "text": [
            "<ipython-input-40-6216a4e46143>:2: RuntimeWarning: overflow encountered in exp\n",
            "  return 1/(1+np.exp(-weighted_sum))\n"
          ]
        },
        {
          "output_type": "stream",
          "name": "stdout",
          "text": [
            "Epoch 0 loss: 8.987171673734013\n",
            "Epoch 1 loss: 8.905203756091835\n",
            "Epoch 2 loss: 8.899445939268409\n",
            "Epoch 3 loss: 8.899223079385996\n",
            "Epoch 4 loss: 8.89924311431733\n",
            "Average loss of all epochs 8.918057512559518 \n",
            "\n"
          ]
        },
        {
          "output_type": "stream",
          "name": "stderr",
          "text": [
            "<ipython-input-40-6216a4e46143>:2: RuntimeWarning: overflow encountered in exp\n",
            "  return 1/(1+np.exp(-weighted_sum))\n"
          ]
        },
        {
          "output_type": "stream",
          "name": "stdout",
          "text": [
            "Epoch 0 loss: 9.643324807105607\n",
            "Epoch 1 loss: 9.556694176577528\n",
            "Epoch 2 loss: 9.55061776275523\n",
            "Epoch 3 loss: 9.548192575987253\n",
            "Epoch 4 loss: 9.546925692284512\n",
            "Average loss of all epochs 9.569151002942025 \n",
            "\n"
          ]
        },
        {
          "output_type": "stream",
          "name": "stderr",
          "text": [
            "<ipython-input-40-6216a4e46143>:2: RuntimeWarning: overflow encountered in exp\n",
            "  return 1/(1+np.exp(-weighted_sum))\n"
          ]
        },
        {
          "output_type": "stream",
          "name": "stdout",
          "text": [
            "Epoch 0 loss: 9.480793021199196\n",
            "Epoch 1 loss: 9.345398004681615\n",
            "Epoch 2 loss: 9.32442767798434\n",
            "Epoch 3 loss: 9.313246743169113\n",
            "Epoch 4 loss: 9.310198984540165\n",
            "Average loss of all epochs 9.354812886314885 \n",
            "\n"
          ]
        },
        {
          "output_type": "stream",
          "name": "stderr",
          "text": [
            "<ipython-input-40-6216a4e46143>:2: RuntimeWarning: overflow encountered in exp\n",
            "  return 1/(1+np.exp(-weighted_sum))\n"
          ]
        },
        {
          "output_type": "stream",
          "name": "stdout",
          "text": [
            "Epoch 0 loss: 9.637908256333414\n",
            "Epoch 1 loss: 9.515581405390167\n",
            "Epoch 2 loss: 9.511454603468003\n",
            "Epoch 3 loss: 9.506658472923467\n",
            "Epoch 4 loss: 9.503372647417256\n",
            "Average loss of all epochs 9.534995077106462 \n",
            "\n"
          ]
        },
        {
          "output_type": "stream",
          "name": "stderr",
          "text": [
            "<ipython-input-40-6216a4e46143>:2: RuntimeWarning: overflow encountered in exp\n",
            "  return 1/(1+np.exp(-weighted_sum))\n"
          ]
        },
        {
          "output_type": "stream",
          "name": "stdout",
          "text": [
            "Epoch 0 loss: 9.486484338890289\n",
            "Epoch 1 loss: 9.350587130592434\n",
            "Epoch 2 loss: 9.335463807350608\n",
            "Epoch 3 loss: 9.33037995492576\n",
            "Epoch 4 loss: 9.329476875468965\n",
            "Average loss of all epochs 9.36647842144561 \n",
            "\n"
          ]
        },
        {
          "output_type": "stream",
          "name": "stderr",
          "text": [
            "<ipython-input-40-6216a4e46143>:2: RuntimeWarning: overflow encountered in exp\n",
            "  return 1/(1+np.exp(-weighted_sum))\n"
          ]
        },
        {
          "output_type": "stream",
          "name": "stdout",
          "text": [
            "Epoch 0 loss: 9.458784634860027\n",
            "Epoch 1 loss: 9.338128178284233\n",
            "Epoch 2 loss: 9.33002255126511\n",
            "Epoch 3 loss: 9.327350488227387\n",
            "Epoch 4 loss: 9.32241631464659\n",
            "Average loss of all epochs 9.35534043345667 \n",
            "\n"
          ]
        },
        {
          "output_type": "stream",
          "name": "stderr",
          "text": [
            "<ipython-input-40-6216a4e46143>:2: RuntimeWarning: overflow encountered in exp\n",
            "  return 1/(1+np.exp(-weighted_sum))\n"
          ]
        },
        {
          "output_type": "stream",
          "name": "stdout",
          "text": [
            "Epoch 0 loss: 9.426842760981836\n",
            "Epoch 1 loss: 9.295078418970443\n",
            "Epoch 2 loss: 9.27140457147667\n",
            "Epoch 3 loss: 9.266064820711712\n",
            "Epoch 4 loss: 9.256381432286787\n",
            "Average loss of all epochs 9.30315440088549 \n",
            "\n"
          ]
        },
        {
          "output_type": "stream",
          "name": "stderr",
          "text": [
            "<ipython-input-40-6216a4e46143>:2: RuntimeWarning: overflow encountered in exp\n",
            "  return 1/(1+np.exp(-weighted_sum))\n"
          ]
        },
        {
          "output_type": "stream",
          "name": "stdout",
          "text": [
            "Epoch 0 loss: 9.547324295916715\n",
            "Epoch 1 loss: 9.443540359940682\n",
            "Epoch 2 loss: 9.433166403021785\n",
            "Epoch 3 loss: 9.428445942927011\n",
            "Epoch 4 loss: 9.430276165780608\n",
            "Average loss of all epochs 9.456550633517361 \n",
            "\n"
          ]
        },
        {
          "output_type": "stream",
          "name": "stderr",
          "text": [
            "<ipython-input-40-6216a4e46143>:2: RuntimeWarning: overflow encountered in exp\n",
            "  return 1/(1+np.exp(-weighted_sum))\n"
          ]
        },
        {
          "output_type": "stream",
          "name": "stdout",
          "text": [
            "Epoch 0 loss: 9.56398744999965\n",
            "Epoch 1 loss: 9.45600921425683\n",
            "Epoch 2 loss: 9.44434524636398\n",
            "Epoch 3 loss: 9.443155414751931\n",
            "Epoch 4 loss: 9.443506555027687\n",
            "Average loss of all epochs 9.470200776080016 \n",
            "\n",
            "Average Validation Loss: 18.640057301768024\n"
          ]
        }
      ]
    },
    {
      "cell_type": "code",
      "source": [
        "test_pred = pred_sigmoid_sgd(X_test, weights)\n",
        "test_mse = mean_squared_error(y_test, test_pred)\n",
        "print(\"The mean squared error on the test dataset is:\", test_mse)"
      ],
      "metadata": {
        "colab": {
          "base_uri": "https://localhost:8080/"
        },
        "outputId": "ae842077-8756-494e-8748-e5cacc098fce",
        "id": "QuFSdOkD47f7"
      },
      "execution_count": null,
      "outputs": [
        {
          "output_type": "stream",
          "name": "stdout",
          "text": [
            "The mean squared error on the test dataset is: 21.985451663876354\n"
          ]
        },
        {
          "output_type": "stream",
          "name": "stderr",
          "text": [
            "<ipython-input-40-6216a4e46143>:2: RuntimeWarning: overflow encountered in exp\n",
            "  return 1/(1+np.exp(-weighted_sum))\n"
          ]
        }
      ]
    },
    {
      "cell_type": "markdown",
      "source": [
        "#Question#2"
      ],
      "metadata": {
        "id": "aQwK7hklRTee"
      }
    },
    {
      "cell_type": "code",
      "source": [
        "import numpy as np\n",
        "import pandas as pd"
      ],
      "metadata": {
        "id": "8Wb04z7cRXHB"
      },
      "execution_count": null,
      "outputs": []
    },
    {
      "cell_type": "markdown",
      "source": [
        "##Creating Dataset"
      ],
      "metadata": {
        "id": "zaCTMHBe6am7"
      }
    },
    {
      "cell_type": "code",
      "source": [
        "import matplotlib.pyplot as plt\n",
        "from sklearn import datasets\n",
        "\n",
        "X, y = datasets.make_blobs(n_samples=5000, centers=2, n_features=2, center_box=(0, 20))"
      ],
      "metadata": {
        "id": "wqfgDkmeSndT"
      },
      "execution_count": null,
      "outputs": []
    },
    {
      "cell_type": "code",
      "source": [
        "count=0\n",
        "for i, val in enumerate(y):\n",
        "  if(val==0):\n",
        "    y[i]=-1\n",
        "y"
      ],
      "metadata": {
        "colab": {
          "base_uri": "https://localhost:8080/"
        },
        "id": "x9m6NdyWcL3K",
        "outputId": "7133a718-0214-40d0-cffb-3ad845ec7f26"
      },
      "execution_count": null,
      "outputs": [
        {
          "output_type": "execute_result",
          "data": {
            "text/plain": [
              "array([ 1, -1,  1, ..., -1,  1, -1])"
            ]
          },
          "metadata": {},
          "execution_count": 572
        }
      ]
    },
    {
      "cell_type": "code",
      "source": [
        "plt.plot(X[:, 0][y == -1], X[:, 1][y == -1], 'g^')\n",
        "plt.plot(X[:, 0][y == 1], X[:, 1][y == 1], 'bs')\n",
        "plt.show()"
      ],
      "metadata": {
        "colab": {
          "base_uri": "https://localhost:8080/",
          "height": 430
        },
        "id": "cWwtY282b1DF",
        "outputId": "6db3cb52-cd39-4bf7-e894-996b4a9fd21a"
      },
      "execution_count": null,
      "outputs": [
        {
          "output_type": "display_data",
          "data": {
            "text/plain": [
              "<Figure size 640x480 with 1 Axes>"
            ],
            "image/png": "[encoded data removed]"
          },
          "metadata": {}
        }
      ]
    },
    {
      "cell_type": "code",
      "source": [
        "data = pd.DataFrame(X, columns=[\"x1\", \"x2\"])\n",
        "data[\"y\"]=y"
      ],
      "metadata": {
        "id": "zT24y--afLHU"
      },
      "execution_count": null,
      "outputs": []
    },
    {
      "cell_type": "code",
      "source": [
        "data"
      ],
      "metadata": {
        "colab": {
          "base_uri": "https://localhost:8080/",
          "height": 424
        },
        "id": "mNKEksbQfYWZ",
        "outputId": "40909729-e327-48c1-a435-922f10fa89d2"
      },
      "execution_count": null,
      "outputs": [
        {
          "output_type": "execute_result",
          "data": {
            "text/plain": [
              "             x1         x2  y\n",
              "0      6.844521   8.556637  1\n",
              "1     18.525043  18.528406 -1\n",
              "2      5.569892   5.978973  1\n",
              "3     17.939203  18.823726 -1\n",
              "4      5.133102   6.785277  1\n",
              "...         ...        ... ..\n",
              "4995  17.808451  18.472278 -1\n",
              "4996  18.005236  16.266956 -1\n",
              "4997  17.471612  19.396800 -1\n",
              "4998   4.071183   6.321154  1\n",
              "4999  18.205788  17.673586 -1\n",
              "\n",
              "[5000 rows x 3 columns]"
            ],
            "text/html": [
              "\n",
              "  <div id=\"df-832f0cd2-9e7e-4e46-8595-d2fec6b8f678\" class=\"colab-df-container\">\n",
              "    <div>\n",
              "<style scoped>\n",
              "    .dataframe tbody tr th:only-of-type {\n",
              "        vertical-align: middle;\n",
              "    }\n",
              "\n",
              "    .dataframe tbody tr th {\n",
              "        vertical-align: top;\n",
              "    }\n",
              "\n",
              "    .dataframe thead th {\n",
              "        text-align: right;\n",
              "    }\n",
              "</style>\n",
              "<table border=\"1\" class=\"dataframe\">\n",
              "  <thead>\n",
              "    <tr style=\"text-align: right;\">\n",
              "      <th></th>\n",
              "      <th>x1</th>\n",
              "      <th>x2</th>\n",
              "      <th>y</th>\n",
              "    </tr>\n",
              "  </thead>\n",
              "  <tbody>\n",
              "    <tr>\n",
              "      <th>0</th>\n",
              "      <td>6.844521</td>\n",
              "      <td>8.556637</td>\n",
              "      <td>1</td>\n",
              "    </tr>\n",
              "    <tr>\n",
              "      <th>1</th>\n",
              "      <td>18.525043</td>\n",
              "      <td>18.528406</td>\n",
              "      <td>-1</td>\n",
              "    </tr>\n",
              "    <tr>\n",
              "      <th>2</th>\n",
              "      <td>5.569892</td>\n",
              "      <td>5.978973</td>\n",
              "      <td>1</td>\n",
              "    </tr>\n",
              "    <tr>\n",
              "      <th>3</th>\n",
              "      <td>17.939203</td>\n",
              "      <td>18.823726</td>\n",
              "      <td>-1</td>\n",
              "    </tr>\n",
              "    <tr>\n",
              "      <th>4</th>\n",
              "      <td>5.133102</td>\n",
              "      <td>6.785277</td>\n",
              "      <td>1</td>\n",
              "    </tr>\n",
              "    <tr>\n",
              "      <th>...</th>\n",
              "      <td>...</td>\n",
              "      <td>...</td>\n",
              "      <td>...</td>\n",
              "    </tr>\n",
              "    <tr>\n",
              "      <th>4995</th>\n",
              "      <td>17.808451</td>\n",
              "      <td>18.472278</td>\n",
              "      <td>-1</td>\n",
              "    </tr>\n",
              "    <tr>\n",
              "      <th>4996</th>\n",
              "      <td>18.005236</td>\n",
              "      <td>16.266956</td>\n",
              "      <td>-1</td>\n",
              "    </tr>\n",
              "    <tr>\n",
              "      <th>4997</th>\n",
              "      <td>17.471612</td>\n",
              "      <td>19.396800</td>\n",
              "      <td>-1</td>\n",
              "    </tr>\n",
              "    <tr>\n",
              "      <th>4998</th>\n",
              "      <td>4.071183</td>\n",
              "      <td>6.321154</td>\n",
              "      <td>1</td>\n",
              "    </tr>\n",
              "    <tr>\n",
              "      <th>4999</th>\n",
              "      <td>18.205788</td>\n",
              "      <td>17.673586</td>\n",
              "      <td>-1</td>\n",
              "    </tr>\n",
              "  </tbody>\n",
              "</table>\n",
              "<p>5000 rows × 3 columns</p>\n",
              "</div>\n",
              "    <div class=\"colab-df-buttons\">\n",
              "\n",
              "  <div class=\"colab-df-container\">\n",
              "    <button class=\"colab-df-convert\" onclick=\"convertToInteractive('df-832f0cd2-9e7e-4e46-8595-d2fec6b8f678')\"\n",
              "            title=\"Convert this dataframe to an interactive table.\"\n",
              "            style=\"display:none;\">\n",
              "\n",
              "  <svg xmlns=\"http://www.w3.org/2000/svg\" height=\"24px\" viewBox=\"0 -960 960 960\">\n",
              "    <path d=\"M120-120v-720h720v720H120Zm60-500h600v-160H180v160Zm220 220h160v-160H400v160Zm0 220h160v-160H400v160ZM180-400h160v-160H180v160Zm440 0h160v-160H620v160ZM180-180h160v-160H180v160Zm440 0h160v-160H620v160Z\"/>\n",
              "  </svg>\n",
              "    </button>\n",
              "\n",
              "  <style>\n",
              "    .colab-df-container {\n",
              "      display:flex;\n",
              "      gap: 12px;\n",
              "    }\n",
              "\n",
              "    .colab-df-convert {\n",
              "      background-color: #E8F0FE;\n",
              "      border: none;\n",
              "      border-radius: 50%;\n",
              "      cursor: pointer;\n",
              "      display: none;\n",
              "      fill: #1967D2;\n",
              "      height: 32px;\n",
              "      padding: 0 0 0 0;\n",
              "      width: 32px;\n",
              "    }\n",
              "\n",
              "    .colab-df-convert:hover {\n",
              "      background-color: #E2EBFA;\n",
              "      box-shadow: 0px 1px 2px rgba(60, 64, 67, 0.3), 0px 1px 3px 1px rgba(60, 64, 67, 0.15);\n",
              "      fill: #174EA6;\n",
              "    }\n",
              "\n",
              "    .colab-df-buttons div {\n",
              "      margin-bottom: 4px;\n",
              "    }\n",
              "\n",
              "    [theme=dark] .colab-df-convert {\n",
              "      background-color: #3B4455;\n",
              "      fill: #D2E3FC;\n",
              "    }\n",
              "\n",
              "    [theme=dark] .colab-df-convert:hover {\n",
              "      background-color: #434B5C;\n",
              "      box-shadow: 0px 1px 3px 1px rgba(0, 0, 0, 0.15);\n",
              "      filter: drop-shadow(0px 1px 2px rgba(0, 0, 0, 0.3));\n",
              "      fill: #FFFFFF;\n",
              "    }\n",
              "  </style>\n",
              "\n",
              "    <script>\n",
              "      const buttonEl =\n",
              "        document.querySelector('#df-832f0cd2-9e7e-4e46-8595-d2fec6b8f678 button.colab-df-convert');\n",
              "      buttonEl.style.display =\n",
              "        google.colab.kernel.accessAllowed ? 'block' : 'none';\n",
              "\n",
              "      async function convertToInteractive(key) {\n",
              "        const element = document.querySelector('#df-832f0cd2-9e7e-4e46-8595-d2fec6b8f678');\n",
              "        const dataTable =\n",
              "          await google.colab.kernel.invokeFunction('convertToInteractive',\n",
              "                                                    [key], {});\n",
              "        if (!dataTable) return;\n",
              "\n",
              "        const docLinkHtml = 'Like what you see? Visit the ' +\n",
              "          '<a target=\"_blank\" href=https://colab.research.google.com/notebooks/data_table.ipynb>data table notebook</a>'\n",
              "          + ' to learn more about interactive tables.';\n",
              "        element.innerHTML = '';\n",
              "        dataTable['output_type'] = 'display_data';\n",
              "        await google.colab.output.renderOutput(dataTable, element);\n",
              "        const docLink = document.createElement('div');\n",
              "        docLink.innerHTML = docLinkHtml;\n",
              "        element.appendChild(docLink);\n",
              "      }\n",
              "    </script>\n",
              "  </div>\n",
              "\n",
              "\n",
              "<div id=\"df-2d0afa01-d7ee-4a24-b59a-2b865e9ae705\">\n",
              "  <button class=\"colab-df-quickchart\" onclick=\"quickchart('df-2d0afa01-d7ee-4a24-b59a-2b865e9ae705')\"\n",
              "            title=\"Suggest charts\"\n",
              "            style=\"display:none;\">\n",
              "\n",
              "<svg xmlns=\"http://www.w3.org/2000/svg\" height=\"24px\"viewBox=\"0 0 24 24\"\n",
              "     width=\"24px\">\n",
              "    <g>\n",
              "        <path d=\"M19 3H5c-1.1 0-2 .9-2 2v14c0 1.1.9 2 2 2h14c1.1 0 2-.9 2-2V5c0-1.1-.9-2-2-2zM9 17H7v-7h2v7zm4 0h-2V7h2v10zm4 0h-2v-4h2v4z\"/>\n",
              "    </g>\n",
              "</svg>\n",
              "  </button>\n",
              "\n",
              "<style>\n",
              "  .colab-df-quickchart {\n",
              "      --bg-color: #E8F0FE;\n",
              "      --fill-color: #1967D2;\n",
              "      --hover-bg-color: #E2EBFA;\n",
              "      --hover-fill-color: #174EA6;\n",
              "      --disabled-fill-color: #AAA;\n",
              "      --disabled-bg-color: #DDD;\n",
              "  }\n",
              "\n",
              "  [theme=dark] .colab-df-quickchart {\n",
              "      --bg-color: #3B4455;\n",
              "      --fill-color: #D2E3FC;\n",
              "      --hover-bg-color: #434B5C;\n",
              "      --hover-fill-color: #FFFFFF;\n",
              "      --disabled-bg-color: #3B4455;\n",
              "      --disabled-fill-color: #666;\n",
              "  }\n",
              "\n",
              "  .colab-df-quickchart {\n",
              "    background-color: var(--bg-color);\n",
              "    border: none;\n",
              "    border-radius: 50%;\n",
              "    cursor: pointer;\n",
              "    display: none;\n",
              "    fill: var(--fill-color);\n",
              "    height: 32px;\n",
              "    padding: 0;\n",
              "    width: 32px;\n",
              "  }\n",
              "\n",
              "  .colab-df-quickchart:hover {\n",
              "    background-color: var(--hover-bg-color);\n",
              "    box-shadow: 0 1px 2px rgba(60, 64, 67, 0.3), 0 1px 3px 1px rgba(60, 64, 67, 0.15);\n",
              "    fill: var(--button-hover-fill-color);\n",
              "  }\n",
              "\n",
              "  .colab-df-quickchart-complete:disabled,\n",
              "  .colab-df-quickchart-complete:disabled:hover {\n",
              "    background-color: var(--disabled-bg-color);\n",
              "    fill: var(--disabled-fill-color);\n",
              "    box-shadow: none;\n",
              "  }\n",
              "\n",
              "  .colab-df-spinner {\n",
              "    border: 2px solid var(--fill-color);\n",
              "    border-color: transparent;\n",
              "    border-bottom-color: var(--fill-color);\n",
              "    animation:\n",
              "      spin 1s steps(1) infinite;\n",
              "  }\n",
              "\n",
              "  @keyframes spin {\n",
              "    0% {\n",
              "      border-color: transparent;\n",
              "      border-bottom-color: var(--fill-color);\n",
              "      border-left-color: var(--fill-color);\n",
              "    }\n",
              "    20% {\n",
              "      border-color: transparent;\n",
              "      border-left-color: var(--fill-color);\n",
              "      border-top-color: var(--fill-color);\n",
              "    }\n",
              "    30% {\n",
              "      border-color: transparent;\n",
              "      border-left-color: var(--fill-color);\n",
              "      border-top-color: var(--fill-color);\n",
              "      border-right-color: var(--fill-color);\n",
              "    }\n",
              "    40% {\n",
              "      border-color: transparent;\n",
              "      border-right-color: var(--fill-color);\n",
              "      border-top-color: var(--fill-color);\n",
              "    }\n",
              "    60% {\n",
              "      border-color: transparent;\n",
              "      border-right-color: var(--fill-color);\n",
              "    }\n",
              "    80% {\n",
              "      border-color: transparent;\n",
              "      border-right-color: var(--fill-color);\n",
              "      border-bottom-color: var(--fill-color);\n",
              "    }\n",
              "    90% {\n",
              "      border-color: transparent;\n",
              "      border-bottom-color: var(--fill-color);\n",
              "    }\n",
              "  }\n",
              "</style>\n",
              "\n",
              "  <script>\n",
              "    async function quickchart(key) {\n",
              "      const quickchartButtonEl =\n",
              "        document.querySelector('#' + key + ' button');\n",
              "      quickchartButtonEl.disabled = true;  // To prevent multiple clicks.\n",
              "      quickchartButtonEl.classList.add('colab-df-spinner');\n",
              "      try {\n",
              "        const charts = await google.colab.kernel.invokeFunction(\n",
              "            'suggestCharts', [key], {});\n",
              "      } catch (error) {\n",
              "        console.error('Error during call to suggestCharts:', error);\n",
              "      }\n",
              "      quickchartButtonEl.classList.remove('colab-df-spinner');\n",
              "      quickchartButtonEl.classList.add('colab-df-quickchart-complete');\n",
              "    }\n",
              "    (() => {\n",
              "      let quickchartButtonEl =\n",
              "        document.querySelector('#df-2d0afa01-d7ee-4a24-b59a-2b865e9ae705 button');\n",
              "      quickchartButtonEl.style.display =\n",
              "        google.colab.kernel.accessAllowed ? 'block' : 'none';\n",
              "    })();\n",
              "  </script>\n",
              "</div>\n",
              "    </div>\n",
              "  </div>\n"
            ],
            "application/vnd.google.colaboratory.intrinsic+json": {
              "type": "dataframe",
              "variable_name": "data",
              "summary": "{\n  \"name\": \"data\",\n  \"rows\": 5000,\n  \"fields\": [\n    {\n      \"column\": \"x1\",\n      \"properties\": {\n        \"dtype\": \"number\",\n        \"std\": 6.3000947680904185,\n        \"min\": 1.578703457509428,\n        \"max\": 21.136061016215166,\n        \"num_unique_values\": 5000,\n        \"samples\": [\n          5.605902279047847,\n          5.008229964453562,\n          17.68120503649583\n        ],\n        \"semantic_type\": \"\",\n        \"description\": \"\"\n      }\n    },\n    {\n      \"column\": \"x2\",\n      \"properties\": {\n        \"dtype\": \"number\",\n        \"std\": 5.697629652041318,\n        \"min\": 3.478809389434998,\n        \"max\": 21.943236000386,\n        \"num_unique_values\": 5000,\n        \"samples\": [\n          7.605571996999803,\n          7.976707665295498,\n          18.980359228455452\n        ],\n        \"semantic_type\": \"\",\n        \"description\": \"\"\n      }\n    },\n    {\n      \"column\": \"y\",\n      \"properties\": {\n        \"dtype\": \"number\",\n        \"std\": 1,\n        \"min\": -1,\n        \"max\": 1,\n        \"num_unique_values\": 2,\n        \"samples\": [\n          -1,\n          1\n        ],\n        \"semantic_type\": \"\",\n        \"description\": \"\"\n      }\n    }\n  ]\n}"
            }
          },
          "metadata": {},
          "execution_count": 575
        }
      ]
    },
    {
      "cell_type": "code",
      "source": [
        "weights = np.random.rand(data.shape[1]-1)"
      ],
      "metadata": {
        "id": "WaYf_PDPrmqP"
      },
      "execution_count": null,
      "outputs": []
    },
    {
      "cell_type": "markdown",
      "source": [
        "##Perceptron"
      ],
      "metadata": {
        "id": "yjaNYNJ26ei1"
      }
    },
    {
      "cell_type": "code",
      "source": [
        "# bias=1\n",
        "learning_rate = 0.1\n",
        "epochs = 20\n"
      ],
      "metadata": {
        "id": "LxSlLiL5WPN5"
      },
      "execution_count": null,
      "outputs": []
    },
    {
      "cell_type": "code",
      "source": [
        "def perceptron_activation(weighted_sum):\n",
        "  return np.where(weighted_sum>0.5,1 , -1)\n",
        "\n",
        "def update_weights(row_j, weights, learning_rate, target, prediction):\n",
        "  updated_weights = []\n",
        "  for row, weight in zip(row_j, weights):\n",
        "    updated_weights.append(weight+learning_rate*(target-prediction)*row)\n",
        "  return updated_weights"
      ],
      "metadata": {
        "id": "yCwxudNPeUYu"
      },
      "execution_count": null,
      "outputs": []
    },
    {
      "cell_type": "code",
      "source": [
        "def perceptron(data, labels, learning_rate=0.01, epochs=10):\n",
        "  t = 0\n",
        "  correct_pred = 0\n",
        "  weights = np.random.rand(data.shape[1])\n",
        "  epoch_loss= []\n",
        "  epoch_accuracy = []\n",
        "  classification_error = 0\n",
        "  while True:\n",
        "    iter_loss = []\n",
        "    classification_error = 0\n",
        "    correct_pred = 0\n",
        "    for j in range(len(data)):\n",
        "      row_j = data.iloc[j]\n",
        "      target = labels.iloc[j]\n",
        "      weighted_sum = np.dot(row_j, weights)+1\n",
        "      prediction = perceptron_activation(weighted_sum)\n",
        "      if(prediction==target):\n",
        "        correct_pred+=1\n",
        "      classification_error += (1/len(data))*(abs(1/2*(target-prediction)))\n",
        "      weights = update_weights(row_j, weights, learning_rate, target, prediction)\n",
        "    t=t+1\n",
        "    accuracy = correct_pred/len(data)\n",
        "    epoch_accuracy.append(accuracy)\n",
        "    epoch_loss.append(classification_error)\n",
        "    print(f\"Epoch {t} loss: {classification_error}\")\n",
        "    print(f\"Epoch {t} accuracy: {accuracy}\")\n",
        "    print(f\"Weight: {weights}\", \"\\n\")\n",
        "\n",
        "    if(classification_error <= 0.10 and t<30):\n",
        "      return weights\n",
        "      break;\n",
        "\n",
        "\n",
        "  print(f\"\\nAverage loss of all epochs {sum(epoch_loss)/len(epoch_loss)}\")\n",
        "  return weights\n",
        "\n",
        "\n",
        "def pred_perceptron(data, weights):\n",
        "  w_sum =  np.dot(data, weights)\n",
        "  return perceptron_activation(w_sum)"
      ],
      "metadata": {
        "id": "3xK20M_VekCO"
      },
      "execution_count": null,
      "outputs": []
    },
    {
      "cell_type": "code",
      "source": [
        "train_data, test_data = train_test_split(data , test_size=0.2, random_state=42)\n",
        "X_train = train_data.iloc[:, :-1]\n",
        "y_train = train_data.iloc[:, -1]\n",
        "X_test = test_data.iloc[:, :-1]\n",
        "y_test = test_data.iloc[:, -1]"
      ],
      "metadata": {
        "id": "jH5mIadje5CV"
      },
      "execution_count": null,
      "outputs": []
    },
    {
      "cell_type": "code",
      "source": [
        "from sklearn.model_selection import KFold\n",
        "\n",
        "kf = KFold(n_splits=10, shuffle=True, random_state=42)\n",
        "mse_scores = []\n",
        "\n",
        "save_weights = []\n",
        "for train_index, val_index in kf.split(X_train):\n",
        "    train_data, val_data = X_train.iloc[train_index], X_train.iloc[val_index]\n",
        "    train_labels, val_labels = y_train.iloc[train_index], y_train.iloc[val_index]\n",
        "\n",
        "    weights = perceptron(train_data, train_labels)\n",
        "    save_weights.append(weights)\n",
        "\n",
        "    val_pred = pred_perceptron(val_data, weights)\n",
        "    val_mse = mean_squared_error(val_labels, val_pred)\n",
        "    mse_scores.append(val_mse)\n",
        "\n",
        "average_loss = sum(mse_scores)/len(mse_scores)\n",
        "print(\"Average Validation Loss:\", average_loss)"
      ],
      "metadata": {
        "colab": {
          "base_uri": "https://localhost:8080/"
        },
        "id": "9bBEzTDrfko7",
        "outputId": "e9eecb5d-dc70-4af0-dd2f-7def85148668"
      },
      "execution_count": null,
      "outputs": [
        {
          "output_type": "stream",
          "name": "stdout",
          "text": [
            "Epoch 1 loss: 0.10000000000000035\n",
            "Epoch 1 accuracy: 0.9\n",
            "Weight: [0.09702827566958906, -0.47993618952996436] \n",
            "\n",
            "Epoch 2 loss: 0.16999999999999854\n",
            "Epoch 2 accuracy: 0.83\n",
            "Weight: [0.04224467089189714, -0.4788210550397476] \n",
            "\n",
            "Epoch 3 loss: 0.1808333333333314\n",
            "Epoch 3 accuracy: 0.8191666666666667\n",
            "Weight: [-0.13672504464055601, -0.5055735725248423] \n",
            "\n",
            "Epoch 4 loss: 0.14583333333333293\n",
            "Epoch 4 accuracy: 0.8541666666666666\n",
            "Weight: [0.09280112723518553, -0.4516044542922987] \n",
            "\n",
            "Epoch 5 loss: 0.15027777777777718\n",
            "Epoch 5 accuracy: 0.8497222222222223\n",
            "Weight: [0.04788032259600421, -0.4228139274095695] \n",
            "\n",
            "Epoch 6 loss: 0.16499999999999876\n",
            "Epoch 6 accuracy: 0.835\n",
            "Weight: [0.13138951815762728, -0.5124881440461595] \n",
            "\n",
            "Epoch 7 loss: 0.16833333333333195\n",
            "Epoch 7 accuracy: 0.8316666666666667\n",
            "Weight: [0.09605107344580123, -0.4754769470926498] \n",
            "\n",
            "Epoch 8 loss: 0.1922222222222198\n",
            "Epoch 8 accuracy: 0.8077777777777778\n",
            "Weight: [0.048676493856249656, -0.4503285224497738] \n",
            "\n",
            "Epoch 9 loss: 0.17388888888888726\n",
            "Epoch 9 accuracy: 0.8261111111111111\n",
            "Weight: [0.058739564556903004, -0.5853632403114365] \n",
            "\n",
            "Epoch 10 loss: 0.19249999999999756\n",
            "Epoch 10 accuracy: 0.8075\n",
            "Weight: [0.0973826313634324, -0.4810288581871655] \n",
            "\n",
            "Epoch 11 loss: 0.19277777777777533\n",
            "Epoch 11 accuracy: 0.8072222222222222\n",
            "Weight: [-0.14123774773839065, -0.4923691042979048] \n",
            "\n",
            "Epoch 12 loss: 0.17888888888888704\n",
            "Epoch 12 accuracy: 0.8211111111111111\n",
            "Weight: [0.12720909762910754, -0.5027566651486938] \n",
            "\n",
            "Epoch 13 loss: 0.1922222222222198\n",
            "Epoch 13 accuracy: 0.8077777777777778\n",
            "Weight: [0.12920186544060913, -0.5071849967563969] \n",
            "\n",
            "Epoch 14 loss: 0.19277777777777533\n",
            "Epoch 14 accuracy: 0.8072222222222222\n",
            "Weight: [0.1283467457842769, -0.5032736757251701] \n",
            "\n",
            "Epoch 15 loss: 0.14472222222222186\n",
            "Epoch 15 accuracy: 0.8552777777777778\n",
            "Weight: [-0.13816290019768468, -0.5207524433842161] \n",
            "\n",
            "Epoch 16 loss: 0.10138888888888925\n",
            "Epoch 16 accuracy: 0.8986111111111111\n",
            "Weight: [-0.02164196574487766, -0.11728245261983594] \n",
            "\n",
            "Epoch 17 loss: 0.07861111111111133\n",
            "Epoch 17 accuracy: 0.9213888888888889\n",
            "Weight: [-0.1482748718652851, -0.4725182557908595] \n",
            "\n",
            "Epoch 1 loss: 0.0036111111111111114\n",
            "Epoch 1 accuracy: 0.9963888888888889\n",
            "Weight: [-0.044006177338080196, -0.03234767721356979] \n",
            "\n",
            "Epoch 1 loss: 0.009166666666666667\n",
            "Epoch 1 accuracy: 0.9908333333333333\n",
            "Weight: [-0.051291870145019, -0.028885197360449345] \n",
            "\n",
            "Epoch 1 loss: 0.009444444444444445\n",
            "Epoch 1 accuracy: 0.9905555555555555\n",
            "Weight: [-0.038340506510743125, -0.03515703766752304] \n",
            "\n",
            "Epoch 1 loss: 0.001388888888888889\n",
            "Epoch 1 accuracy: 0.9986111111111111\n",
            "Weight: [-0.04056986919821426, -0.008537035292692334] \n",
            "\n",
            "Epoch 1 loss: 0.12472222222222273\n",
            "Epoch 1 accuracy: 0.8752777777777778\n",
            "Weight: [-0.03927776375586897, -0.48101659218250714] \n",
            "\n",
            "Epoch 2 loss: 0.12944444444444475\n",
            "Epoch 2 accuracy: 0.8705555555555555\n",
            "Weight: [0.0688525633980478, -0.43187905466547] \n",
            "\n",
            "Epoch 3 loss: 0.1808333333333314\n",
            "Epoch 3 accuracy: 0.8191666666666667\n",
            "Weight: [-0.012179160736109917, -0.499680812811935] \n",
            "\n",
            "Epoch 4 loss: 0.18694444444444225\n",
            "Epoch 4 accuracy: 0.8130555555555555\n",
            "Weight: [0.06839894943523434, -0.4555624642880157] \n",
            "\n",
            "Epoch 5 loss: 0.14555555555555516\n",
            "Epoch 5 accuracy: 0.8544444444444445\n",
            "Weight: [0.0674824536309449, -0.4489301555392503] \n",
            "\n",
            "Epoch 6 loss: 0.1711111111111096\n",
            "Epoch 6 accuracy: 0.8288888888888889\n",
            "Weight: [0.06998468753058407, -0.4325779508185927] \n",
            "\n",
            "Epoch 7 loss: 0.12333333333333384\n",
            "Epoch 7 accuracy: 0.8766666666666667\n",
            "Weight: [-0.0005777432591095588, -0.5298034246715743] \n",
            "\n",
            "Epoch 8 loss: 0.13083333333333358\n",
            "Epoch 8 accuracy: 0.8691666666666666\n",
            "Weight: [-0.031176447937879853, -0.506249142323501] \n",
            "\n",
            "Epoch 9 loss: 0.18305555555555353\n",
            "Epoch 9 accuracy: 0.8169444444444445\n",
            "Weight: [0.07020382953571969, -0.435251675830152] \n",
            "\n",
            "Epoch 10 loss: 0.17083333333333184\n",
            "Epoch 10 accuracy: 0.8291666666666667\n",
            "Weight: [-0.008612743022928915, -0.5108280713181679] \n",
            "\n",
            "Epoch 11 loss: 0.19749999999999734\n",
            "Epoch 11 accuracy: 0.8025\n",
            "Weight: [0.00966540174185529, -0.49049258792313] \n",
            "\n",
            "Epoch 12 loss: 0.1499999999999994\n",
            "Epoch 12 accuracy: 0.85\n",
            "Weight: [0.10003378429804617, -0.47647564720408914] \n",
            "\n",
            "Epoch 13 loss: 0.15833333333333238\n",
            "Epoch 13 accuracy: 0.8416666666666667\n",
            "Weight: [0.06604668586975432, -0.41475029202455505] \n",
            "\n",
            "Epoch 14 loss: 0.1313888888888891\n",
            "Epoch 14 accuracy: 0.8686111111111111\n",
            "Weight: [0.012258712435544689, -0.505781246950247] \n",
            "\n",
            "Epoch 15 loss: 0.1436111111111108\n",
            "Epoch 15 accuracy: 0.8563888888888889\n",
            "Weight: [0.0647036497859885, -0.39692222219824747] \n",
            "\n",
            "Epoch 16 loss: 0.14638888888888846\n",
            "Epoch 16 accuracy: 0.8536111111111111\n",
            "Weight: [-0.016468304082894902, -0.49275150183106653] \n",
            "\n",
            "Epoch 17 loss: 0.1452777777777774\n",
            "Epoch 17 accuracy: 0.8547222222222223\n",
            "Weight: [-0.007989073570326244, -0.5086003282690517] \n",
            "\n",
            "Epoch 18 loss: 0.15277777777777707\n",
            "Epoch 18 accuracy: 0.8472222222222222\n",
            "Weight: [-0.001090844330141838, -0.5408031244764258] \n",
            "\n",
            "Epoch 19 loss: 0.169444444444443\n",
            "Epoch 19 accuracy: 0.8305555555555556\n",
            "Weight: [-0.05018670518359099, -0.4545288516024581] \n",
            "\n",
            "Epoch 20 loss: 0.1452777777777774\n",
            "Epoch 20 accuracy: 0.8547222222222223\n",
            "Weight: [-0.07823991029941914, -0.5213270006523987] \n",
            "\n",
            "Epoch 21 loss: 0.19194444444444203\n",
            "Epoch 21 accuracy: 0.8080555555555555\n",
            "Weight: [0.07349830238772487, -0.4590258985800765] \n",
            "\n",
            "Epoch 22 loss: 0.13083333333333358\n",
            "Epoch 22 accuracy: 0.8691666666666666\n",
            "Weight: [-0.011566249001784934, -0.526966587181305] \n",
            "\n",
            "Epoch 23 loss: 0.16194444444444334\n",
            "Epoch 23 accuracy: 0.8380555555555556\n",
            "Weight: [-0.062006061470604515, -0.40303700646074575] \n",
            "\n",
            "Epoch 24 loss: 0.13861111111111102\n",
            "Epoch 24 accuracy: 0.8613888888888889\n",
            "Weight: [0.0007476882188333922, -0.5363090976679531] \n",
            "\n",
            "Epoch 25 loss: 0.19638888888888628\n",
            "Epoch 25 accuracy: 0.8036111111111112\n",
            "Weight: [0.07015579237439734, -0.4517695549118882] \n",
            "\n",
            "Epoch 26 loss: 0.16194444444444334\n",
            "Epoch 26 accuracy: 0.8380555555555556\n",
            "Weight: [-0.0379727826409568, -0.48812297353176426] \n",
            "\n",
            "Epoch 27 loss: 0.12722222222222263\n",
            "Epoch 27 accuracy: 0.8727777777777778\n",
            "Weight: [0.06838064352324164, -0.43750049481804754] \n",
            "\n",
            "Epoch 28 loss: 0.028611111111111035\n",
            "Epoch 28 accuracy: 0.9713888888888889\n",
            "Weight: [-0.024837783272245006, -0.04406447002648367] \n",
            "\n",
            "Epoch 1 loss: 0.020833333333333304\n",
            "Epoch 1 accuracy: 0.9791666666666666\n",
            "Weight: [-0.027016664064599932, -0.07512830613761459] \n",
            "\n",
            "Epoch 1 loss: 0.013055555555555556\n",
            "Epoch 1 accuracy: 0.9869444444444444\n",
            "Weight: [-0.03430355520281868, -0.07161521879431887] \n",
            "\n",
            "Epoch 1 loss: 0.07166666666666684\n",
            "Epoch 1 accuracy: 0.9283333333333333\n",
            "Weight: [0.1103792118507641, -0.4798323665517189] \n",
            "\n",
            "Epoch 1 loss: 0.005555555555555556\n",
            "Epoch 1 accuracy: 0.9944444444444445\n",
            "Weight: [-0.0423546595530796, -0.0480678679648206] \n",
            "\n",
            "Average Validation Loss: 1.9579999999999995\n"
          ]
        }
      ]
    },
    {
      "cell_type": "code",
      "source": [
        "save_weights"
      ],
      "metadata": {
        "colab": {
          "base_uri": "https://localhost:8080/"
        },
        "id": "9u_z-Qj0kweb",
        "outputId": "0f2c929a-f35a-42de-cb99-648fd70fe100"
      },
      "execution_count": null,
      "outputs": [
        {
          "output_type": "execute_result",
          "data": {
            "text/plain": [
              "[[-0.1482748718652851, -0.4725182557908595],\n",
              " [-0.044006177338080196, -0.03234767721356979],\n",
              " [-0.051291870145019, -0.028885197360449345],\n",
              " [-0.038340506510743125, -0.03515703766752304],\n",
              " [-0.04056986919821426, -0.008537035292692334],\n",
              " [-0.024837783272245006, -0.04406447002648367],\n",
              " [-0.027016664064599932, -0.07512830613761459],\n",
              " [-0.03430355520281868, -0.07161521879431887],\n",
              " [0.1103792118507641, -0.4798323665517189],\n",
              " [-0.0423546595530796, -0.0480678679648206]]"
            ]
          },
          "metadata": {},
          "execution_count": 518
        }
      ]
    },
    {
      "cell_type": "code",
      "source": [
        "correct_pred=0\n",
        "classification_error=0\n",
        "predA = []\n",
        "for j in range(len(X_test)):\n",
        "  row_j = X_test.iloc[j]\n",
        "  target = y_test.iloc[j]\n",
        "  weighted_sum = np.dot(row_j, save_weights[5])+1\n",
        "  prediction = perceptron_activation(weighted_sum)\n",
        "  predA.append(prediction)\n",
        "  if(prediction==target):\n",
        "    correct_pred+=1\n",
        "  classification_error += (1/len(data))*(abs(1/2*(y_test-prediction)))\n",
        "\n",
        "accuracy = correct_pred/len(X_test)\n",
        "print(\"Accuracy on test set is\", accuracy)"
      ],
      "metadata": {
        "colab": {
          "base_uri": "https://localhost:8080/"
        },
        "id": "dUBoctjIoONB",
        "outputId": "5caf5815-5d7e-4c68-eec1-cb043e29153d"
      },
      "execution_count": null,
      "outputs": [
        {
          "output_type": "stream",
          "name": "stdout",
          "text": [
            "Accuracy on test set is 1.0\n"
          ]
        }
      ]
    },
    {
      "cell_type": "markdown",
      "source": [
        "## Pocket Algorithm"
      ],
      "metadata": {
        "id": "Ya8cHlC66U4O"
      }
    },
    {
      "cell_type": "code",
      "source": [
        "learning_rate = 0.1\n",
        "epochs = 20\n"
      ],
      "metadata": {
        "id": "lldru5G36mS-"
      },
      "execution_count": null,
      "outputs": []
    },
    {
      "cell_type": "code",
      "source": [
        "def perceptron_activation(weighted_sum):\n",
        "  return np.where(weighted_sum>0.5,1 , -1)\n",
        "\n",
        "def update_weights(row_j, weights, learning_rate, target, prediction):\n",
        "  updated_weights = []\n",
        "  for row, weight in zip(row_j, weights):\n",
        "    updated_weights.append(weight+learning_rate*(target-prediction)*row)\n",
        "  return updated_weights"
      ],
      "metadata": {
        "id": "Hmr-Sk4H6Yl7"
      },
      "execution_count": null,
      "outputs": []
    },
    {
      "cell_type": "code",
      "source": [
        "def pocket_algorithm(data, labels, learning_rate=0.01, epochs=20):\n",
        "  t = 0\n",
        "  correct_pred = 0\n",
        "  weights = np.random.rand(data.shape[1])\n",
        "  best_weights = weights.copy()\n",
        "  best_classification_error=float('inf')\n",
        "  epoch_loss= []\n",
        "  classification_error = 0\n",
        "  epoch_accuracy = []\n",
        "  for i in range(epochs):\n",
        "    iter_loss = []\n",
        "    classification_error = 0\n",
        "    correct_pred = 0\n",
        "    for j in range(len(data)):\n",
        "      row_j = data.iloc[j]\n",
        "      target = labels.iloc[j]\n",
        "      weighted_sum = np.dot(row_j, weights)+1\n",
        "      prediction = perceptron_activation(weighted_sum)\n",
        "      if(prediction==target):\n",
        "        correct_pred+=1\n",
        "      classification_error += (1/len(data))*(abs(1/2*(target-prediction)))\n",
        "      weights = update_weights(row_j, weights, learning_rate, target, prediction)\n",
        "    t=t+1\n",
        "    accuracy = correct_pred/len(data)\n",
        "    epoch_accuracy.append(accuracy)\n",
        "    epoch_loss.append(classification_error)\n",
        "    print(f\"Epoch {i} loss: {classification_error}\")\n",
        "    print(f\"Epoch {i} accuracy: {accuracy}\")\n",
        "    print(f\"Weight: {weights}\", \"\\n\")\n",
        "\n",
        "\n",
        "    if classification_error<best_classification_error:\n",
        "      best_classification_error=classification_error\n",
        "      best_weights=weights.copy()\n",
        "\n",
        "    if(classification_error == 0.0 and t<30):\n",
        "      return best_weights\n",
        "      break;\n",
        "\n",
        "  print(f\"Best Weights: {best_weights}\")\n",
        "  print(f\"Lowest error: {best_classification_error}\")\n",
        "  print(f\"\\nAverage loss of all epochs {sum(epoch_loss)/len(epoch_loss)}\")\n",
        "  return best_weights\n",
        "\n",
        "\n",
        "def pred_perceptron(data, weights):\n",
        "  w_sum =  np.dot(data, weights)\n",
        "  return perceptron_activation(w_sum)"
      ],
      "metadata": {
        "id": "am6dbdbX6wv5"
      },
      "execution_count": null,
      "outputs": []
    },
    {
      "cell_type": "code",
      "source": [
        "train_data, test_data = train_test_split(data , test_size=0.2, random_state=42)\n",
        "X_train = train_data.iloc[:, :-1]\n",
        "y_train = train_data.iloc[:, -1]\n",
        "X_test = test_data.iloc[:, :-1]\n",
        "y_test = test_data.iloc[:, -1]"
      ],
      "metadata": {
        "id": "oMWmB82_iOAy"
      },
      "execution_count": null,
      "outputs": []
    },
    {
      "cell_type": "code",
      "source": [
        "from sklearn.model_selection import KFold\n",
        "\n",
        "kf = KFold(n_splits=10, shuffle=True, random_state=42)\n",
        "mse_scores = []\n",
        "\n",
        "save_weights=[]\n",
        "for train_index, val_index in kf.split(X_train):\n",
        "    train_data, val_data = X_train.iloc[train_index], X_train.iloc[val_index]\n",
        "    train_labels, val_labels = y_train.iloc[train_index], y_train.iloc[val_index]\n",
        "\n",
        "    weights = pocket_algorithm(train_data, train_labels)\n",
        "    save_weights.append(weights)\n",
        "\n",
        "\n",
        "    val_pred = pred_perceptron(val_data, weights)\n",
        "    val_mse = mean_squared_error(val_labels, val_pred)\n",
        "    mse_scores.append(val_mse)\n",
        "\n",
        "average_loss = sum(mse_scores)/len(mse_scores)\n",
        "print(\"Average Validation Loss:\", average_loss)"
      ],
      "metadata": {
        "colab": {
          "base_uri": "https://localhost:8080/"
        },
        "id": "kYwL8uzAiODb",
        "outputId": "d5343a4c-f3e1-4eb3-dc0a-5518ade7c410"
      },
      "execution_count": null,
      "outputs": [
        {
          "output_type": "stream",
          "name": "stdout",
          "text": [
            "Epoch 0 loss: 0.006666666666666667\n",
            "Epoch 0 accuracy: 0.9933333333333333\n",
            "Weight: [-0.05030772741770152, -0.02576414359923729] \n",
            "\n",
            "Epoch 1 loss: 0.0\n",
            "Epoch 1 accuracy: 1.0\n",
            "Weight: [-0.05030772741770152, -0.02576414359923729] \n",
            "\n",
            "Epoch 0 loss: 0.16611111111110982\n",
            "Epoch 0 accuracy: 0.8338888888888889\n",
            "Weight: [0.06293370981942754, -0.33909605370551216] \n",
            "\n",
            "Epoch 1 loss: 0.169444444444443\n",
            "Epoch 1 accuracy: 0.8305555555555556\n",
            "Weight: [0.10832342095187276, -0.47030997083175413] \n",
            "\n",
            "Epoch 2 loss: 0.15999999999999898\n",
            "Epoch 2 accuracy: 0.84\n",
            "Weight: [0.12042295569905982, -0.4965166973093768] \n",
            "\n",
            "Epoch 3 loss: 0.1841666666666646\n",
            "Epoch 3 accuracy: 0.8158333333333333\n",
            "Weight: [0.03126795126520547, -0.5196340406483079] \n",
            "\n",
            "Epoch 4 loss: 0.18277777777777576\n",
            "Epoch 4 accuracy: 0.8172222222222222\n",
            "Weight: [0.08178228806049888, -0.5290960043888919] \n",
            "\n",
            "Epoch 5 loss: 0.1905555555555532\n",
            "Epoch 5 accuracy: 0.8094444444444444\n",
            "Weight: [0.007710172955721545, -0.5043207034239363] \n",
            "\n",
            "Epoch 6 loss: 0.16499999999999876\n",
            "Epoch 6 accuracy: 0.835\n",
            "Weight: [0.03460207847169526, -0.36679186001006886] \n",
            "\n",
            "Epoch 7 loss: 0.19277777777777533\n",
            "Epoch 7 accuracy: 0.8072222222222222\n",
            "Weight: [0.01304696122327112, -0.5002478016711887] \n",
            "\n",
            "Epoch 8 loss: 0.1613888888888878\n",
            "Epoch 8 accuracy: 0.8386111111111111\n",
            "Weight: [0.052866552340775905, -0.41869571826973007] \n",
            "\n",
            "Epoch 9 loss: 0.18472222222222012\n",
            "Epoch 9 accuracy: 0.8152777777777778\n",
            "Weight: [0.10102174807739335, -0.4545679382338582] \n",
            "\n",
            "Epoch 10 loss: 0.12527777777777827\n",
            "Epoch 10 accuracy: 0.8747222222222222\n",
            "Weight: [0.057697279399500465, -0.4230739040817428] \n",
            "\n",
            "Epoch 11 loss: 0.18916666666666437\n",
            "Epoch 11 accuracy: 0.8108333333333333\n",
            "Weight: [0.09337902934105621, -0.42907362420129175] \n",
            "\n",
            "Epoch 12 loss: 0.182499999999998\n",
            "Epoch 12 accuracy: 0.8175\n",
            "Weight: [0.03560622886363217, -0.3701257524763067] \n",
            "\n",
            "Epoch 13 loss: 0.19499999999999745\n",
            "Epoch 13 accuracy: 0.805\n",
            "Weight: [0.10969204403913481, -0.47480850765549304] \n",
            "\n",
            "Epoch 14 loss: 0.17694444444444268\n",
            "Epoch 14 accuracy: 0.8230555555555555\n",
            "Weight: [0.07469488141910634, -0.509961757261393] \n",
            "\n",
            "Epoch 15 loss: 0.19666666666666405\n",
            "Epoch 15 accuracy: 0.8033333333333333\n",
            "Weight: [0.10840861068528189, -0.47745810204840383] \n",
            "\n",
            "Epoch 16 loss: 0.17805555555555375\n",
            "Epoch 16 accuracy: 0.8219444444444445\n",
            "Weight: [0.05371976877840938, -0.41867648932567914] \n",
            "\n",
            "Epoch 17 loss: 0.17972222222222034\n",
            "Epoch 17 accuracy: 0.8202777777777778\n",
            "Weight: [0.05420283832745991, -0.4230196616769357] \n",
            "\n",
            "Epoch 18 loss: 0.2011111111111083\n",
            "Epoch 18 accuracy: 0.7988888888888889\n",
            "Weight: [0.005866857335978165, -0.46726711109276936] \n",
            "\n",
            "Epoch 19 loss: 0.08611111111111137\n",
            "Epoch 19 accuracy: 0.9138888888888889\n",
            "Weight: [0.09883285628510403, -0.44295714855793544] \n",
            "\n",
            "Best Weights: [0.09883285628510403, -0.44295714855793544]\n",
            "Lowest error: 0.08611111111111137\n",
            "\n",
            "Average loss of all epochs 0.17337499999999825\n",
            "Epoch 0 loss: 0.03694444444444439\n",
            "Epoch 0 accuracy: 0.9630555555555556\n",
            "Weight: [-0.17489932911184003, -0.3476336289912491] \n",
            "\n",
            "Epoch 1 loss: 0.17777777777777598\n",
            "Epoch 1 accuracy: 0.8222222222222222\n",
            "Weight: [-0.10935388954948179, -0.44319812029294076] \n",
            "\n",
            "Epoch 2 loss: 0.22361111111110732\n",
            "Epoch 2 accuracy: 0.7763888888888889\n",
            "Weight: [-0.0868013080697085, -0.5437329804696858] \n",
            "\n",
            "Epoch 3 loss: 0.19277777777777533\n",
            "Epoch 3 accuracy: 0.8072222222222222\n",
            "Weight: [-0.09585046153640463, -0.48528100304994715] \n",
            "\n",
            "Epoch 4 loss: 0.18305555555555353\n",
            "Epoch 4 accuracy: 0.8169444444444445\n",
            "Weight: [-0.09448613837316931, -0.48796996463582143] \n",
            "\n",
            "Epoch 5 loss: 0.18444444444444236\n",
            "Epoch 5 accuracy: 0.8155555555555556\n",
            "Weight: [-0.16024004804995545, -0.37691111524470705] \n",
            "\n",
            "Epoch 6 loss: 0.21305555555555222\n",
            "Epoch 6 accuracy: 0.7869444444444444\n",
            "Weight: [-0.10607081874756986, -0.4540673805417138] \n",
            "\n",
            "Epoch 7 loss: 0.20388888888888596\n",
            "Epoch 7 accuracy: 0.7961111111111111\n",
            "Weight: [-0.11667037566540132, -0.38944065273617484] \n",
            "\n",
            "Epoch 8 loss: 0.20861111111110797\n",
            "Epoch 8 accuracy: 0.7913888888888889\n",
            "Weight: [-0.08816996395776185, -0.537575031198259] \n",
            "\n",
            "Epoch 9 loss: 0.18527777777777565\n",
            "Epoch 9 accuracy: 0.8147222222222222\n",
            "Weight: [-0.14834429470275867, -0.4278318870668551] \n",
            "\n",
            "Epoch 10 loss: 0.1783333333333315\n",
            "Epoch 10 accuracy: 0.8216666666666667\n",
            "Weight: [-0.09958952066324055, -0.4687345479459467] \n",
            "\n",
            "Epoch 11 loss: 0.20555555555555255\n",
            "Epoch 11 accuracy: 0.7944444444444444\n",
            "Weight: [-0.10373285957651375, -0.5107516643459202] \n",
            "\n",
            "Epoch 12 loss: 0.1808333333333314\n",
            "Epoch 12 accuracy: 0.8191666666666667\n",
            "Weight: [-0.11108719187464218, -0.5084639141574807] \n",
            "\n",
            "Epoch 13 loss: 0.1947222222222197\n",
            "Epoch 13 accuracy: 0.8052777777777778\n",
            "Weight: [-0.10473846964183188, -0.5251773287276579] \n",
            "\n",
            "Epoch 14 loss: 0.20944444444444127\n",
            "Epoch 14 accuracy: 0.7905555555555556\n",
            "Weight: [-0.10890011921914035, -0.5250606396813072] \n",
            "\n",
            "Epoch 15 loss: 0.1897222222222199\n",
            "Epoch 15 accuracy: 0.8102777777777778\n",
            "Weight: [-0.09710416806245893, -0.49557422949280117] \n",
            "\n",
            "Epoch 16 loss: 0.19999999999999724\n",
            "Epoch 16 accuracy: 0.8\n",
            "Weight: [-0.09519014200677332, -0.48620666871684926] \n",
            "\n",
            "Epoch 17 loss: 0.1888888888888866\n",
            "Epoch 17 accuracy: 0.8111111111111111\n",
            "Weight: [-0.10851934212541169, -0.4808195026733588] \n",
            "\n",
            "Epoch 18 loss: 0.1930555555555531\n",
            "Epoch 18 accuracy: 0.8069444444444445\n",
            "Weight: [-0.10027841962458815, -0.46708554663266855] \n",
            "\n",
            "Epoch 19 loss: 0.19722222222221958\n",
            "Epoch 19 accuracy: 0.8027777777777778\n",
            "Weight: [-0.16344679259541744, -0.3812488256418762] \n",
            "\n",
            "Best Weights: [-0.17489932911184003, -0.3476336289912491]\n",
            "Lowest error: 0.03694444444444439\n",
            "\n",
            "Average loss of all epochs 0.18736111111110867\n",
            "Epoch 0 loss: 0.008055555555555555\n",
            "Epoch 0 accuracy: 0.9919444444444444\n",
            "Weight: [-0.04565556518002374, -0.03896209087210509] \n",
            "\n",
            "Epoch 1 loss: 0.0\n",
            "Epoch 1 accuracy: 1.0\n",
            "Weight: [-0.04565556518002374, -0.03896209087210509] \n",
            "\n",
            "Epoch 0 loss: 0.0030555555555555557\n",
            "Epoch 0 accuracy: 0.9969444444444444\n",
            "Weight: [-0.053701051591248855, -0.023971241865439447] \n",
            "\n",
            "Epoch 1 loss: 0.0\n",
            "Epoch 1 accuracy: 1.0\n",
            "Weight: [-0.053701051591248855, -0.023971241865439447] \n",
            "\n",
            "Epoch 0 loss: 0.11222222222222265\n",
            "Epoch 0 accuracy: 0.8877777777777778\n",
            "Weight: [0.014196302068073013, -0.49388593247787005] \n",
            "\n",
            "Epoch 1 loss: 0.02749999999999993\n",
            "Epoch 1 accuracy: 0.9725\n",
            "Weight: [-0.024385475328997097, -0.0501810984189172] \n",
            "\n",
            "Epoch 2 loss: 0.0\n",
            "Epoch 2 accuracy: 1.0\n",
            "Weight: [-0.024385475328997097, -0.0501810984189172] \n",
            "\n",
            "Epoch 0 loss: 0.16083333333333227\n",
            "Epoch 0 accuracy: 0.8391666666666666\n",
            "Weight: [-0.0017889766140708613, -0.5120789776184046] \n",
            "\n",
            "Epoch 1 loss: 0.17138888888888737\n",
            "Epoch 1 accuracy: 0.8286111111111111\n",
            "Weight: [-0.048331844310373656, -0.5246678276542359] \n",
            "\n",
            "Epoch 2 loss: 0.18444444444444236\n",
            "Epoch 2 accuracy: 0.8155555555555556\n",
            "Weight: [-0.008510586443970639, -0.509728687769291] \n",
            "\n",
            "Epoch 3 loss: 0.16888888888888748\n",
            "Epoch 3 accuracy: 0.8311111111111111\n",
            "Weight: [-0.2176121067762166, -0.5055568007395334] \n",
            "\n",
            "Epoch 4 loss: 0.17749999999999821\n",
            "Epoch 4 accuracy: 0.8225\n",
            "Weight: [-0.058550539577896576, -0.5274513352506592] \n",
            "\n",
            "Epoch 5 loss: 0.17472222222222056\n",
            "Epoch 5 accuracy: 0.8252777777777778\n",
            "Weight: [-0.003794737076993751, -0.5413337982451542] \n",
            "\n",
            "Epoch 6 loss: 0.1719444444444429\n",
            "Epoch 6 accuracy: 0.8280555555555555\n",
            "Weight: [-0.0027299890662486753, -0.5707055029352951] \n",
            "\n",
            "Epoch 7 loss: 0.19999999999999724\n",
            "Epoch 7 accuracy: 0.8\n",
            "Weight: [-0.24162098464963241, -0.43819180481090014] \n",
            "\n",
            "Epoch 8 loss: 0.16805555555555418\n",
            "Epoch 8 accuracy: 0.8319444444444445\n",
            "Weight: [-0.2153244637765558, -0.504971687121975] \n",
            "\n",
            "Epoch 9 loss: 0.1930555555555531\n",
            "Epoch 9 accuracy: 0.8069444444444445\n",
            "Weight: [-0.013320922742671895, -0.4705505354007656] \n",
            "\n",
            "Epoch 10 loss: 0.1897222222222199\n",
            "Epoch 10 accuracy: 0.8102777777777778\n",
            "Weight: [0.016184691164667683, -0.5680012729505498] \n",
            "\n",
            "Epoch 11 loss: 0.1686111111111097\n",
            "Epoch 11 accuracy: 0.8313888888888888\n",
            "Weight: [-0.008225105447397754, -0.5107264825826602] \n",
            "\n",
            "Epoch 12 loss: 0.12472222222222273\n",
            "Epoch 12 accuracy: 0.8752777777777778\n",
            "Weight: [-0.0031036511937117123, -0.5155298452995091] \n",
            "\n",
            "Epoch 13 loss: 0.024444444444444394\n",
            "Epoch 13 accuracy: 0.9755555555555555\n",
            "Weight: [-0.039078556373125906, -0.08019599484170851] \n",
            "\n",
            "Epoch 14 loss: 0.034444444444444375\n",
            "Epoch 14 accuracy: 0.9655555555555555\n",
            "Weight: [-0.0010368544949883735, -0.5273728782807229] \n",
            "\n",
            "Epoch 15 loss: 0.18611111111110895\n",
            "Epoch 15 accuracy: 0.8138888888888889\n",
            "Weight: [-0.2381404424328316, -0.4281818620131862] \n",
            "\n",
            "Epoch 16 loss: 0.17333333333333173\n",
            "Epoch 16 accuracy: 0.8266666666666667\n",
            "Weight: [0.0028762974173959094, -0.5477725774025225] \n",
            "\n",
            "Epoch 17 loss: 0.20222222222221936\n",
            "Epoch 17 accuracy: 0.7977777777777778\n",
            "Weight: [0.012376280153590477, -0.5345211761764155] \n",
            "\n",
            "Epoch 18 loss: 0.17249999999999843\n",
            "Epoch 18 accuracy: 0.8275\n",
            "Weight: [-0.21148048490368968, -0.5127825355506569] \n",
            "\n",
            "Epoch 19 loss: 0.022222222222222185\n",
            "Epoch 19 accuracy: 0.9777777777777777\n",
            "Weight: [-0.042716979554470985, -0.05635515771353683] \n",
            "\n",
            "Best Weights: [-0.042716979554470985, -0.05635515771353683]\n",
            "Lowest error: 0.022222222222222185\n",
            "\n",
            "Average loss of all epochs 0.15345833333333186\n",
            "Epoch 0 loss: 0.011111111111111112\n",
            "Epoch 0 accuracy: 0.9888888888888889\n",
            "Weight: [-0.025257915871331707, -0.08431206876740507] \n",
            "\n",
            "Epoch 1 loss: 0.0\n",
            "Epoch 1 accuracy: 1.0\n",
            "Weight: [-0.025257915871331707, -0.08431206876740507] \n",
            "\n",
            "Epoch 0 loss: 0.018888888888888872\n",
            "Epoch 0 accuracy: 0.9811111111111112\n",
            "Weight: [-0.026894709886083945, -0.08508596059956663] \n",
            "\n",
            "Epoch 1 loss: 0.0\n",
            "Epoch 1 accuracy: 1.0\n",
            "Weight: [-0.026894709886083945, -0.08508596059956663] \n",
            "\n",
            "Epoch 0 loss: 0.1452777777777774\n",
            "Epoch 0 accuracy: 0.8547222222222223\n",
            "Weight: [0.08172726450268816, -0.5451320525671105] \n",
            "\n",
            "Epoch 1 loss: 0.1849999999999979\n",
            "Epoch 1 accuracy: 0.815\n",
            "Weight: [0.03958906282830009, -0.42142506115117523] \n",
            "\n",
            "Epoch 2 loss: 0.1727777777777762\n",
            "Epoch 2 accuracy: 0.8272222222222222\n",
            "Weight: [0.08177512980289556, -0.543088674977564] \n",
            "\n",
            "Epoch 3 loss: 0.18611111111110895\n",
            "Epoch 3 accuracy: 0.8138888888888889\n",
            "Weight: [0.08157511565570782, -0.545125614845095] \n",
            "\n",
            "Epoch 4 loss: 0.1849999999999979\n",
            "Epoch 4 accuracy: 0.815\n",
            "Weight: [0.03425137574139063, -0.4066492422765747] \n",
            "\n",
            "Epoch 5 loss: 0.200277777777775\n",
            "Epoch 5 accuracy: 0.7997222222222222\n",
            "Weight: [0.09974041685923042, -0.5458030625875923] \n",
            "\n",
            "Epoch 6 loss: 0.19277777777777533\n",
            "Epoch 6 accuracy: 0.8072222222222222\n",
            "Weight: [0.06259416320836811, -0.45328347783636597] \n",
            "\n",
            "Epoch 7 loss: 0.19527777777777522\n",
            "Epoch 7 accuracy: 0.8047222222222222\n",
            "Weight: [0.08595982649488804, -0.45809618684880865] \n",
            "\n",
            "Epoch 8 loss: 0.19111111111110873\n",
            "Epoch 8 accuracy: 0.8088888888888889\n",
            "Weight: [0.08448681718400498, -0.5167078463752477] \n",
            "\n",
            "Epoch 9 loss: 0.19111111111110873\n",
            "Epoch 9 accuracy: 0.8088888888888889\n",
            "Weight: [0.08599273715182854, -0.514963214337909] \n",
            "\n",
            "Epoch 10 loss: 0.1808333333333314\n",
            "Epoch 10 accuracy: 0.8191666666666667\n",
            "Weight: [0.0654762817437198, -0.4647560917671955] \n",
            "\n",
            "Epoch 11 loss: 0.16416666666666546\n",
            "Epoch 11 accuracy: 0.8358333333333333\n",
            "Weight: [0.08950551310627242, -0.4754972364297352] \n",
            "\n",
            "Epoch 12 loss: 0.18555555555555342\n",
            "Epoch 12 accuracy: 0.8144444444444444\n",
            "Weight: [0.09481538513567805, -0.5107925953225266] \n",
            "\n",
            "Epoch 13 loss: 0.17388888888888726\n",
            "Epoch 13 accuracy: 0.8261111111111111\n",
            "Weight: [0.0255908889369562, -0.372225751282707] \n",
            "\n",
            "Epoch 14 loss: 0.19972222222221947\n",
            "Epoch 14 accuracy: 0.8002777777777778\n",
            "Weight: [0.08606791749859605, -0.4595880245434841] \n",
            "\n",
            "Epoch 15 loss: 0.1897222222222199\n",
            "Epoch 15 accuracy: 0.8102777777777778\n",
            "Weight: [0.08293225989419423, -0.4482888582396302] \n",
            "\n",
            "Epoch 16 loss: 0.18999999999999767\n",
            "Epoch 16 accuracy: 0.81\n",
            "Weight: [0.08285146219665496, -0.5031296057432266] \n",
            "\n",
            "Epoch 17 loss: 0.2074999999999969\n",
            "Epoch 17 accuracy: 0.7925\n",
            "Weight: [0.08892404628997896, -0.4745893874360706] \n",
            "\n",
            "Epoch 18 loss: 0.20249999999999713\n",
            "Epoch 18 accuracy: 0.7975\n",
            "Weight: [0.08787958104525075, -0.523062821581294] \n",
            "\n",
            "Epoch 19 loss: 0.18222222222222023\n",
            "Epoch 19 accuracy: 0.8177777777777778\n",
            "Weight: [0.058804504227282936, -0.4800062301398223] \n",
            "\n",
            "Best Weights: [0.08172726450268816, -0.5451320525671105]\n",
            "Lowest error: 0.1452777777777774\n",
            "\n",
            "Average loss of all epochs 0.1860416666666645\n",
            "Average Validation Loss: 1.9140000000000001\n"
          ]
        }
      ]
    },
    {
      "cell_type": "code",
      "source": [
        "correct_pred=0\n",
        "classification_error=0\n",
        "predA = []\n",
        "for j in range(len(X_test)):\n",
        "  row_j = X_test.iloc[j]\n",
        "  target = y_test.iloc[j]\n",
        "  weighted_sum = np.dot(row_j, save_weights[4])+1\n",
        "  prediction = perceptron_activation(weighted_sum)\n",
        "  predA.append(prediction)\n",
        "  if(prediction==target):\n",
        "    correct_pred+=1\n",
        "  classification_error += (1/len(data))*(abs(1/2*(y_test-prediction)))\n",
        "\n",
        "accuracy = correct_pred/len(X_test)\n",
        "print(\"Accuracy on test set is\", accuracy)"
      ],
      "metadata": {
        "colab": {
          "base_uri": "https://localhost:8080/"
        },
        "id": "4rPAbcZ7qXZd",
        "outputId": "6b9d5ac0-ce4f-46ce-f534-482e21504654"
      },
      "execution_count": null,
      "outputs": [
        {
          "output_type": "stream",
          "name": "stdout",
          "text": [
            "Accuracy on test set is 1.0\n"
          ]
        }
      ]
    },
    {
      "cell_type": "code",
      "source": [],
      "metadata": {
        "id": "29YdzHaH9iik"
      },
      "execution_count": null,
      "outputs": []
    }
  ]
}