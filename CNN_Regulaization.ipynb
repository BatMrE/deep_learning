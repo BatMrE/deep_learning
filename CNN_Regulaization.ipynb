{
  "nbformat": 4,
  "nbformat_minor": 0,
  "metadata": {
    "colab": {
      "provenance": [],
      "gpuType": "T4"
    },
    "kernelspec": {
      "name": "python3",
      "display_name": "Python 3"
    },
    "language_info": {
      "name": "python"
    },
    "accelerator": "GPU"
  },
  "cells": [
    {
      "cell_type": "code",
      "execution_count": 22,
      "metadata": {
        "id": "_uhA9NpBkWp4"
      },
      "outputs": [],
      "source": [
        "import torch\n",
        "import torch.nn as nn\n",
        "import torch.optim as optim\n",
        "import torchvision\n",
        "import torchvision.transforms as transforms\n",
        "from torch.utils.data import DataLoader\n",
        "from torch.optim.lr_scheduler import StepLR\n",
        "import matplotlib.pyplot as plt\n",
        "\n",
        "device = torch.device('cuda' if torch.cuda.is_available() else 'cpu')\n",
        "\n",
        "# Hyperparameters\n",
        "num_epochs = 20\n",
        "batch_size = 128\n",
        "learning_rate = 0.01\n"
      ]
    },
    {
      "cell_type": "code",
      "source": [
        "# Transformations for the train and test sets\n",
        "transform = transforms.Compose([\n",
        "    transforms.ToTensor(),\n",
        "    transforms.Normalize((0.1307,), (0.3081,))\n",
        "])\n",
        "\n",
        "# Load the MNIST dataset\n",
        "train_dataset = torchvision.datasets.MNIST(root='./data', train=True, transform=transform, download=True)\n",
        "test_dataset = torchvision.datasets.MNIST(root='./data', train=False, transform=transform)\n",
        "\n",
        "train_loader = DataLoader(dataset=train_dataset, batch_size=batch_size, shuffle=True)\n",
        "test_loader = DataLoader(dataset=test_dataset, batch_size=batch_size, shuffle=False)\n"
      ],
      "metadata": {
        "id": "E9NJPk2Dkjgf"
      },
      "execution_count": 23,
      "outputs": []
    },
    {
      "cell_type": "code",
      "source": [
        "class CNN(nn.Module):\n",
        "    def __init__(self):\n",
        "        super(CNN, self).__init__()\n",
        "        self.conv1 = nn.Conv2d(1, 32, kernel_size=3)\n",
        "        self.conv2 = nn.Conv2d(32, 64, kernel_size=3)\n",
        "        self.max_pool = nn.MaxPool2d(kernel_size=2, stride=2)\n",
        "        self.flatten = nn.Flatten()\n",
        "        self.fc1 = nn.Linear(64 * 5 * 5, 128)\n",
        "        self.fc2 = nn.Linear(128, 10)\n",
        "\n",
        "    def forward(self, x):\n",
        "        x = self.max_pool(torch.relu(self.conv1(x)))\n",
        "        x = self.max_pool(torch.relu(self.conv2(x)))\n",
        "        x = self.flatten(x)\n",
        "        x = torch.relu(self.fc1(x))\n",
        "        x = self.fc2(x)\n",
        "        return x\n",
        "\n",
        "# Initialize the model\n",
        "model = CNN().to(device)\n"
      ],
      "metadata": {
        "id": "IS67rsDNknMU"
      },
      "execution_count": 24,
      "outputs": []
    },
    {
      "cell_type": "markdown",
      "source": [
        "### CNN without Regularization"
      ],
      "metadata": {
        "id": "nBGFGXqdkWFR"
      }
    },
    {
      "cell_type": "code",
      "source": [
        "# Loss and optimizer\n",
        "criterion = nn.CrossEntropyLoss()\n",
        "optimizer = optim.SGD(model.parameters(), lr=learning_rate, momentum=0.9)\n",
        "\n",
        "# Training function\n",
        "def train(model, train_loader, criterion, optimizer, num_epochs):\n",
        "    model.train()\n",
        "    for epoch in range(num_epochs):\n",
        "        for images, labels in train_loader:\n",
        "            images = images.to(device)\n",
        "            labels = labels.to(device)\n",
        "\n",
        "            # Forward pass\n",
        "            outputs = model(images)\n",
        "            loss = criterion(outputs, labels)\n",
        "\n",
        "            # Backward and optimize\n",
        "            optimizer.zero_grad()\n",
        "            loss.backward()\n",
        "            optimizer.step()\n",
        "\n",
        "        print(f'Epoch [{epoch+1}/{num_epochs}], Loss: {loss.item():.4f}')\n",
        "\n",
        "# Train the model\n",
        "train(model, train_loader, criterion, optimizer, num_epochs)\n"
      ],
      "metadata": {
        "colab": {
          "base_uri": "https://localhost:8080/"
        },
        "id": "XSfOP507mYIi",
        "outputId": "40e900c5-d7ee-4da9-b651-ccd4847f0eca"
      },
      "execution_count": 25,
      "outputs": [
        {
          "output_type": "stream",
          "name": "stdout",
          "text": [
            "Epoch [1/20], Loss: 0.0558\n",
            "Epoch [2/20], Loss: 0.0297\n",
            "Epoch [3/20], Loss: 0.0164\n",
            "Epoch [4/20], Loss: 0.0055\n",
            "Epoch [5/20], Loss: 0.0377\n",
            "Epoch [6/20], Loss: 0.0034\n",
            "Epoch [7/20], Loss: 0.1222\n",
            "Epoch [8/20], Loss: 0.0088\n",
            "Epoch [9/20], Loss: 0.0080\n",
            "Epoch [10/20], Loss: 0.0066\n",
            "Epoch [11/20], Loss: 0.0223\n",
            "Epoch [12/20], Loss: 0.0015\n",
            "Epoch [13/20], Loss: 0.0005\n",
            "Epoch [14/20], Loss: 0.0042\n",
            "Epoch [15/20], Loss: 0.0024\n",
            "Epoch [16/20], Loss: 0.0322\n",
            "Epoch [17/20], Loss: 0.0001\n",
            "Epoch [18/20], Loss: 0.0002\n",
            "Epoch [19/20], Loss: 0.0117\n",
            "Epoch [20/20], Loss: 0.0003\n"
          ]
        }
      ]
    },
    {
      "cell_type": "code",
      "source": [
        "# Evaluation function\n",
        "def evaluate(model, test_loader):\n",
        "    model.eval()\n",
        "    with torch.no_grad():\n",
        "        correct = 0\n",
        "        total = 0\n",
        "        for images, labels in test_loader:\n",
        "            images = images.to(device)\n",
        "            labels = labels.to(device)\n",
        "            outputs = model(images)\n",
        "            _, predicted = torch.max(outputs.data, 1)\n",
        "            total += labels.size(0)\n",
        "            correct += (predicted == labels).sum().item()\n",
        "\n",
        "    print('Accuracy of the model on the test images: {} %'.format(100 * correct / total))\n",
        "\n",
        "# Evaluate the model\n",
        "evaluate(model, test_loader)\n"
      ],
      "metadata": {
        "colab": {
          "base_uri": "https://localhost:8080/"
        },
        "id": "pDVwvOd4mabM",
        "outputId": "b09f4f3d-a02d-42fc-c447-a98043602718"
      },
      "execution_count": 26,
      "outputs": [
        {
          "output_type": "stream",
          "name": "stdout",
          "text": [
            "Accuracy of the model on the test images: 99.28 %\n"
          ]
        }
      ]
    },
    {
      "cell_type": "markdown",
      "source": [
        "### Dropout Regularization"
      ],
      "metadata": {
        "id": "1ljWT1hXkash"
      }
    },
    {
      "cell_type": "code",
      "source": [
        "class CNNWithDropout(nn.Module):\n",
        "    def __init__(self):\n",
        "        super(CNNWithDropout, self).__init__()\n",
        "        self.conv1 = nn.Conv2d(1, 32, kernel_size=3)\n",
        "        self.conv2 = nn.Conv2d(32, 64, kernel_size=3)\n",
        "        self.max_pool = nn.MaxPool2d(kernel_size=2, stride=2)\n",
        "        self.flatten = nn.Flatten()\n",
        "        self.fc1 = nn.Linear(64 * 5 * 5, 128)\n",
        "        self.dropout = nn.Dropout(0.5)\n",
        "        self.fc2 = nn.Linear(128, 10)\n",
        "\n",
        "    def forward(self, x):\n",
        "        x = self.max_pool(torch.relu(self.conv1(x)))\n",
        "        x = self.max_pool(torch.relu(self.conv2(x)))\n",
        "        x = self.flatten(x)\n",
        "        x = torch.relu(self.fc1(x))\n",
        "        x = self.dropout(x)\n",
        "        x = self.fc2(x)\n",
        "        return x\n",
        "\n",
        "# Initialize the model with dropout\n",
        "model_dropout = CNNWithDropout().to(device)\n",
        "\n",
        "# Loss and optimizer\n",
        "criterion = nn.CrossEntropyLoss()\n",
        "optimizer = optim.SGD(model_dropout.parameters(), lr=learning_rate, momentum=0.9)\n",
        "\n",
        "# Train the model with dropout\n",
        "train(model_dropout, train_loader, criterion, optimizer, num_epochs)\n",
        "\n",
        "# Evaluate the model with dropout\n",
        "evaluate(model_dropout, test_loader)\n"
      ],
      "metadata": {
        "colab": {
          "base_uri": "https://localhost:8080/"
        },
        "id": "eg4N0vFjmcjC",
        "outputId": "69490212-2aa4-431b-8fe3-18c4fe35f9b4"
      },
      "execution_count": 27,
      "outputs": [
        {
          "output_type": "stream",
          "name": "stdout",
          "text": [
            "Epoch [1/20], Loss: 0.0919\n",
            "Epoch [2/20], Loss: 0.1246\n",
            "Epoch [3/20], Loss: 0.0229\n",
            "Epoch [4/20], Loss: 0.0712\n",
            "Epoch [5/20], Loss: 0.0448\n",
            "Epoch [6/20], Loss: 0.0437\n",
            "Epoch [7/20], Loss: 0.0294\n",
            "Epoch [8/20], Loss: 0.0487\n",
            "Epoch [9/20], Loss: 0.0463\n",
            "Epoch [10/20], Loss: 0.0600\n",
            "Epoch [11/20], Loss: 0.0042\n",
            "Epoch [12/20], Loss: 0.0122\n",
            "Epoch [13/20], Loss: 0.0510\n",
            "Epoch [14/20], Loss: 0.0221\n",
            "Epoch [15/20], Loss: 0.0093\n",
            "Epoch [16/20], Loss: 0.0134\n",
            "Epoch [17/20], Loss: 0.0727\n",
            "Epoch [18/20], Loss: 0.0165\n",
            "Epoch [19/20], Loss: 0.0287\n",
            "Epoch [20/20], Loss: 0.0006\n",
            "Accuracy of the model on the test images: 99.36 %\n"
          ]
        }
      ]
    },
    {
      "cell_type": "markdown",
      "source": [
        "### L2 Regularization"
      ],
      "metadata": {
        "id": "yzwGjC94kdlY"
      }
    },
    {
      "cell_type": "code",
      "source": [
        "# Initialize the model (same as the original model)\n",
        "model_l2 = CNN().to(device)\n",
        "\n",
        "# Loss and optimizer with L2 regularization\n",
        "criterion = nn.CrossEntropyLoss()\n",
        "optimizer = optim.SGD(model_l2.parameters(), lr=learning_rate, momentum=0.9, weight_decay=0.01)\n",
        "\n",
        "# Train the model with L2 regularization\n",
        "train(model_l2, train_loader, criterion, optimizer, num_epochs)\n",
        "\n",
        "# Evaluate the model with L2 regularization\n",
        "evaluate(model_l2, test_loader)\n"
      ],
      "metadata": {
        "colab": {
          "base_uri": "https://localhost:8080/"
        },
        "id": "WwH4vmplmeX4",
        "outputId": "e35d702e-b832-459f-fe64-0482e3021a5c"
      },
      "execution_count": 28,
      "outputs": [
        {
          "output_type": "stream",
          "name": "stdout",
          "text": [
            "Epoch [1/20], Loss: 0.1045\n",
            "Epoch [2/20], Loss: 0.0584\n",
            "Epoch [3/20], Loss: 0.0720\n",
            "Epoch [4/20], Loss: 0.0778\n",
            "Epoch [5/20], Loss: 0.0579\n",
            "Epoch [6/20], Loss: 0.0359\n",
            "Epoch [7/20], Loss: 0.0552\n",
            "Epoch [8/20], Loss: 0.1235\n",
            "Epoch [9/20], Loss: 0.0114\n",
            "Epoch [10/20], Loss: 0.0767\n",
            "Epoch [11/20], Loss: 0.0711\n",
            "Epoch [12/20], Loss: 0.0663\n",
            "Epoch [13/20], Loss: 0.0724\n",
            "Epoch [14/20], Loss: 0.0668\n",
            "Epoch [15/20], Loss: 0.0672\n",
            "Epoch [16/20], Loss: 0.0621\n",
            "Epoch [17/20], Loss: 0.0339\n",
            "Epoch [18/20], Loss: 0.0296\n",
            "Epoch [19/20], Loss: 0.1624\n",
            "Epoch [20/20], Loss: 0.0670\n",
            "Accuracy of the model on the test images: 98.19 %\n"
          ]
        }
      ]
    },
    {
      "cell_type": "markdown",
      "source": [
        "### Data Augmentation"
      ],
      "metadata": {
        "id": "hVdV6zQokg3N"
      }
    },
    {
      "cell_type": "code",
      "source": [
        "# Transformations for the train set with data augmentation\n",
        "transform_augmented = transforms.Compose([\n",
        "    transforms.RandomRotation(10),\n",
        "    transforms.RandomResizedCrop(28, scale=(0.8, 1.0)),\n",
        "    transforms.ToTensor(),\n",
        "    transforms.Normalize((0.1307,), (0.3081,))\n",
        "])\n",
        "\n",
        "# Load the augmented MNIST dataset\n",
        "train_dataset_augmented = torchvision.datasets.MNIST(root='./data', train=True, transform=transform_augmented, download=True)\n",
        "train_loader_augmented = DataLoader(dataset=train_dataset_augmented, batch_size=batch_size, shuffle=True)\n",
        "\n",
        "# Initialize the model (same as the original model)\n",
        "model_augmentation = CNN().to(device)\n",
        "\n",
        "# Loss and optimizer\n",
        "criterion = nn.CrossEntropyLoss()\n",
        "optimizer = optim.SGD(model_augmentation.parameters(), lr=learning_rate, momentum=0.9)\n",
        "\n",
        "# Train the model with data augmentation\n",
        "train(model_augmentation, train_loader_augmented, criterion, optimizer, num_epochs)\n",
        "\n",
        "# Evaluate the model with data augmentation\n",
        "evaluate(model_augmentation, test_loader)\n"
      ],
      "metadata": {
        "colab": {
          "base_uri": "https://localhost:8080/"
        },
        "id": "RLNxEZQCmgfl",
        "outputId": "e99f5d18-c3fe-4fa8-9457-aad7451eca4e"
      },
      "execution_count": 29,
      "outputs": [
        {
          "output_type": "stream",
          "name": "stdout",
          "text": [
            "Epoch [1/20], Loss: 0.1722\n",
            "Epoch [2/20], Loss: 0.1204\n",
            "Epoch [3/20], Loss: 0.0770\n",
            "Epoch [4/20], Loss: 0.1049\n",
            "Epoch [5/20], Loss: 0.0534\n",
            "Epoch [6/20], Loss: 0.0500\n",
            "Epoch [7/20], Loss: 0.0294\n",
            "Epoch [8/20], Loss: 0.0628\n",
            "Epoch [9/20], Loss: 0.0410\n",
            "Epoch [10/20], Loss: 0.0272\n",
            "Epoch [11/20], Loss: 0.0233\n",
            "Epoch [12/20], Loss: 0.0036\n",
            "Epoch [13/20], Loss: 0.0471\n",
            "Epoch [14/20], Loss: 0.0229\n",
            "Epoch [15/20], Loss: 0.0039\n",
            "Epoch [16/20], Loss: 0.0760\n",
            "Epoch [17/20], Loss: 0.0542\n",
            "Epoch [18/20], Loss: 0.0209\n",
            "Epoch [19/20], Loss: 0.0100\n",
            "Epoch [20/20], Loss: 0.0336\n",
            "Accuracy of the model on the test images: 99.32 %\n"
          ]
        }
      ]
    },
    {
      "cell_type": "markdown",
      "source": [
        "### Early Stopping"
      ],
      "metadata": {
        "id": "jkCffo4NkjnU"
      }
    },
    {
      "cell_type": "code",
      "source": [
        "class EarlyStopping:\n",
        "    def __init__(self, patience=3, min_delta=0):\n",
        "        self.patience = patience\n",
        "        self.min_delta = min_delta\n",
        "        self.counter = 0\n",
        "        self.best_loss = None\n",
        "        self.early_stop = False\n",
        "\n",
        "    def __call__(self, val_loss):\n",
        "        if self.best_loss is None:\n",
        "            self.best_loss = val_loss\n",
        "        elif val_loss > self.best_loss - self.min_delta:\n",
        "            self.counter += 1\n",
        "            if self.counter >= self.patience:\n",
        "                self.early_stop = True\n",
        "        else:\n",
        "            self.best_loss = val_loss\n",
        "            self.counter = 0\n",
        "\n",
        "# Initialize the model (same as the original model)\n",
        "model_early_stopping = CNN().to(device)\n",
        "\n",
        "# Loss and optimizer\n",
        "criterion = nn.CrossEntropyLoss()\n",
        "optimizer = optim.SGD(model_early_stopping.parameters(), lr=learning_rate, momentum=0.9)\n",
        "\n",
        "# # Training with early stopping\n",
        "# def train_with_early_stopping(model, train_loader, val_loader, criterion, optimizer, num_epochs, patience=3):\n",
        "#     early_stopping = EarlyStopping(patience=patience)\n",
        "#     for epoch in range(num_epochs):\n",
        "#         model.train()\n",
        "#         for images, labels in train_loader:\n",
        "#             images = images.to(device)\n",
        "#             labels = labels.to(device)\n",
        "\n",
        "#             # Forward pass\n",
        "#             outputs = model(images)\n",
        "#             loss = criterion(outputs, labels)\n",
        "\n",
        "#             # Backward and optimize\n",
        "#             optimizer.zero_grad()\n",
        "#             loss.backward()\n",
        "#             optimizer.step()\n",
        "\n",
        "#         # Validation loss\n",
        "#         model.eval()\n",
        "#         val_loss = 0\n",
        "#         with torch.no_grad():\n",
        "#             for images, labels in val_loader:\n",
        "#                 images = images.to(device)\n",
        "#                 labels = labels.to(device)\n",
        "#                 outputs = model(images)\n",
        "#                 loss = criterion(outputs, labels)\n",
        "#                 val_loss += loss.item()\n",
        "#         val_loss /= len(val_loader)\n",
        "#         print(f'Epoch [{epoch+1}/{num_epochs}], Loss: {loss.item():.4f}, Val Loss: {val_loss:.4f}')\n",
        "\n",
        "#         # Check early stopping\n",
        "#         early_stopping(val_loss)\n",
        "#         if early_stopping.early_stop:\n",
        "#             print(\"Early stopping\")\n",
        "#             break\n",
        "\n",
        "def train_with_early_stopping(model, train_loader, val_loader, criterion, optimizer, num_epochs, patience=3):\n",
        "    early_stopping = EarlyStopping(patience=patience)\n",
        "    train_acc = []\n",
        "    val_acc = []\n",
        "    for epoch in range(num_epochs):\n",
        "        model.train()\n",
        "        correct = 0\n",
        "        total = 0\n",
        "        for images, labels in train_loader:\n",
        "            images = images.to(device)\n",
        "            labels = labels.to(device)\n",
        "\n",
        "            # Forward pass\n",
        "            outputs = model(images)\n",
        "            loss = criterion(outputs, labels)\n",
        "\n",
        "            # Backward and optimize\n",
        "            optimizer.zero_grad()\n",
        "            loss.backward()\n",
        "            optimizer.step()\n",
        "\n",
        "            _, predicted = torch.max(outputs.data, 1)\n",
        "            total += labels.size(0)\n",
        "            correct += (predicted == labels).sum().item()\n",
        "\n",
        "        train_accuracy = 100 * correct / total\n",
        "        train_acc.append(train_accuracy)\n",
        "\n",
        "        # Validation loss\n",
        "        model.eval()\n",
        "        val_loss = 0\n",
        "        correct = 0\n",
        "        total = 0\n",
        "        with torch.no_grad():\n",
        "            for images, labels in val_loader:\n",
        "                images = images.to(device)\n",
        "                labels = labels.to(device)\n",
        "                outputs = model(images)\n",
        "                loss = criterion(outputs, labels)\n",
        "                val_loss += loss.item()\n",
        "\n",
        "                _, predicted = torch.max(outputs.data, 1)\n",
        "                total += labels.size(0)\n",
        "                correct += (predicted == labels).sum().item()\n",
        "\n",
        "        val_loss /= len(val_loader)\n",
        "        val_accuracy = 100 * correct / total\n",
        "        val_acc.append(val_accuracy)\n",
        "\n",
        "        print(f'Epoch [{epoch+1}/{num_epochs}], Loss: {loss.item():.4f}, Train Accuracy: {train_accuracy:.2f}%, Validation Accuracy: {val_accuracy:.2f}%, Val Loss: {val_loss:.4f}')\n",
        "\n",
        "        # Check early stopping\n",
        "        early_stopping(val_loss)\n",
        "        if early_stopping.early_stop:\n",
        "            print(\"Early stopping\")\n",
        "            break\n",
        "\n",
        "    return train_acc, val_acc\n",
        "\n",
        "\n",
        "# Create validation loader\n",
        "val_loader = DataLoader(dataset=train_dataset, batch_size=batch_size, shuffle=True)\n",
        "\n",
        "# Train the model with early stopping\n",
        "train_with_early_stopping(model_early_stopping, train_loader, val_loader, criterion, optimizer, num_epochs)\n",
        "\n",
        "# Evaluate the model with early stopping\n",
        "evaluate(model_early_stopping, test_loader)\n"
      ],
      "metadata": {
        "colab": {
          "base_uri": "https://localhost:8080/"
        },
        "id": "Q7rGZdfkmh8q",
        "outputId": "e6f40523-5bc8-4459-a06d-78acdb172d73"
      },
      "execution_count": 30,
      "outputs": [
        {
          "output_type": "stream",
          "name": "stdout",
          "text": [
            "Epoch [1/20], Loss: 0.1412, Train Accuracy: 91.53%, Validation Accuracy: 97.39%, Val Loss: 0.0841\n",
            "Epoch [2/20], Loss: 0.1297, Train Accuracy: 97.94%, Validation Accuracy: 98.58%, Val Loss: 0.0451\n",
            "Epoch [3/20], Loss: 0.0848, Train Accuracy: 98.62%, Validation Accuracy: 98.79%, Val Loss: 0.0390\n",
            "Epoch [4/20], Loss: 0.0111, Train Accuracy: 98.94%, Validation Accuracy: 99.19%, Val Loss: 0.0272\n",
            "Epoch [5/20], Loss: 0.0204, Train Accuracy: 99.10%, Validation Accuracy: 98.81%, Val Loss: 0.0362\n",
            "Epoch [6/20], Loss: 0.0082, Train Accuracy: 99.25%, Validation Accuracy: 99.41%, Val Loss: 0.0190\n",
            "Epoch [7/20], Loss: 0.0187, Train Accuracy: 99.34%, Validation Accuracy: 99.50%, Val Loss: 0.0167\n",
            "Epoch [8/20], Loss: 0.0099, Train Accuracy: 99.48%, Validation Accuracy: 99.49%, Val Loss: 0.0152\n",
            "Epoch [9/20], Loss: 0.0174, Train Accuracy: 99.52%, Validation Accuracy: 99.69%, Val Loss: 0.0105\n",
            "Epoch [10/20], Loss: 0.0030, Train Accuracy: 99.61%, Validation Accuracy: 99.66%, Val Loss: 0.0112\n",
            "Epoch [11/20], Loss: 0.0176, Train Accuracy: 99.67%, Validation Accuracy: 99.76%, Val Loss: 0.0077\n",
            "Epoch [12/20], Loss: 0.0031, Train Accuracy: 99.72%, Validation Accuracy: 99.83%, Val Loss: 0.0065\n",
            "Epoch [13/20], Loss: 0.0029, Train Accuracy: 99.77%, Validation Accuracy: 99.67%, Val Loss: 0.0093\n",
            "Epoch [14/20], Loss: 0.0028, Train Accuracy: 99.84%, Validation Accuracy: 99.88%, Val Loss: 0.0044\n",
            "Epoch [15/20], Loss: 0.0009, Train Accuracy: 99.89%, Validation Accuracy: 99.91%, Val Loss: 0.0035\n",
            "Epoch [16/20], Loss: 0.0109, Train Accuracy: 99.92%, Validation Accuracy: 99.97%, Val Loss: 0.0020\n",
            "Epoch [17/20], Loss: 0.0000, Train Accuracy: 99.90%, Validation Accuracy: 99.96%, Val Loss: 0.0021\n",
            "Epoch [18/20], Loss: 0.0001, Train Accuracy: 99.95%, Validation Accuracy: 99.97%, Val Loss: 0.0017\n",
            "Epoch [19/20], Loss: 0.0005, Train Accuracy: 99.96%, Validation Accuracy: 99.96%, Val Loss: 0.0019\n",
            "Epoch [20/20], Loss: 0.0002, Train Accuracy: 99.95%, Validation Accuracy: 99.98%, Val Loss: 0.0015\n",
            "Accuracy of the model on the test images: 99.16 %\n"
          ]
        }
      ]
    },
    {
      "cell_type": "code",
      "source": [
        "class CNNWithNoise(nn.Module):\n",
        "    def __init__(self):\n",
        "        super(CNNWithNoise, self).__init__()\n",
        "        self.conv1 = nn.Conv2d(1, 32, kernel_size=3)\n",
        "        self.conv2 = nn.Conv2d(32, 64, kernel_size=3)\n",
        "        self.max_pool = nn.MaxPool2d(kernel_size=2, stride=2)\n",
        "        self.flatten = nn.Flatten()\n",
        "        self.fc1 = nn.Linear(64 * 5 * 5, 128)\n",
        "        self.fc2 = nn.Linear(128, 10)\n",
        "        self.noise = nn.Dropout(p=0.1)  # Simulate noise by dropout with a low rate\n",
        "\n",
        "    def forward(self, x):\n",
        "        x = self.noise(self.max_pool(torch.relu(self.conv1(x))))\n",
        "        x = self.noise(self.max_pool(torch.relu(self.conv2(x))))\n",
        "        x = self.flatten(x)\n",
        "        x = torch.relu(self.fc1(x))\n",
        "        x = self.fc2(x)\n",
        "        return x\n",
        "\n",
        "# Initialize the model with noise\n",
        "model_noise = CNNWithNoise().to(device)\n",
        "\n",
        "# Loss and optimizer\n",
        "criterion = nn.CrossEntropyLoss()\n",
        "optimizer = optim.SGD(model_noise.parameters(), lr=learning_rate, momentum=0.9)\n",
        "\n",
        "# Train the model with noise\n",
        "train(model_noise, train_loader, criterion, optimizer, num_epochs)\n",
        "\n",
        "# Evaluate the model with noise\n",
        "evaluate(model_noise, test_loader)\n"
      ],
      "metadata": {
        "id": "E--ikR88w80X",
        "outputId": "ff60a76d-8927-48e4-b8c3-7bb5972bb94c",
        "colab": {
          "base_uri": "https://localhost:8080/"
        }
      },
      "execution_count": 32,
      "outputs": [
        {
          "output_type": "stream",
          "name": "stdout",
          "text": [
            "Epoch [1/20], Loss: 0.0948\n",
            "Epoch [2/20], Loss: 0.0210\n",
            "Epoch [3/20], Loss: 0.0132\n",
            "Epoch [4/20], Loss: 0.0385\n",
            "Epoch [5/20], Loss: 0.0170\n",
            "Epoch [6/20], Loss: 0.0346\n",
            "Epoch [7/20], Loss: 0.0054\n",
            "Epoch [8/20], Loss: 0.0069\n",
            "Epoch [9/20], Loss: 0.0106\n",
            "Epoch [10/20], Loss: 0.0218\n",
            "Epoch [11/20], Loss: 0.0877\n",
            "Epoch [12/20], Loss: 0.0305\n",
            "Epoch [13/20], Loss: 0.0218\n",
            "Epoch [14/20], Loss: 0.0149\n",
            "Epoch [15/20], Loss: 0.0134\n",
            "Epoch [16/20], Loss: 0.0005\n",
            "Epoch [17/20], Loss: 0.0044\n",
            "Epoch [18/20], Loss: 0.0056\n",
            "Epoch [19/20], Loss: 0.0023\n",
            "Epoch [20/20], Loss: 0.0078\n",
            "Accuracy of the model on the test images: 99.17 %\n"
          ]
        }
      ]
    },
    {
      "cell_type": "markdown",
      "source": [
        "### Random Weight Initialization"
      ],
      "metadata": {
        "id": "C8wJSiyykw9I"
      }
    },
    {
      "cell_type": "code",
      "source": [
        "class CNNWithRandomInit(nn.Module):\n",
        "    def __init__(self):\n",
        "        super(CNNWithRandomInit, self).__init__()\n",
        "        self.conv1 = nn.Conv2d(1, 32, kernel_size=3)\n",
        "        self.conv2 = nn.Conv2d(32, 64, kernel_size=3)\n",
        "        self.max_pool = nn.MaxPool2d(kernel_size=2, stride=2)\n",
        "        self.flatten = nn.Flatten()\n",
        "        self.fc1 = nn.Linear(64 * 5 * 5, 128)\n",
        "        self.fc2 = nn.Linear(128, 10)\n",
        "        self._initialize_weights()\n",
        "\n",
        "    def forward(self, x):\n",
        "        x = self.max_pool(torch.relu(self.conv1(x)))\n",
        "        x = self.max_pool(torch.relu(self.conv2(x)))\n",
        "        x = self.flatten(x)\n",
        "        x = torch.relu(self.fc1(x))\n",
        "        x = self.fc2(x)\n",
        "        return x\n",
        "\n",
        "    def _initialize_weights(self):\n",
        "        for m in self.modules():\n",
        "            if isinstance(m, nn.Conv2d):\n",
        "                nn.init.kaiming_normal_(m.weight, mode='fan_out', nonlinearity='relu')\n",
        "            elif isinstance(m, nn.Linear):\n",
        "                nn.init.kaiming_normal_(m.weight, mode='fan_out', nonlinearity='relu')\n",
        "\n",
        "# Initialize the model with random weight initialization\n",
        "model_random_init = CNNWithRandomInit().to(device)\n",
        "\n",
        "# Loss and optimizer\n",
        "criterion = nn.CrossEntropyLoss()\n",
        "optimizer = optim.SGD(model_random_init.parameters(), lr=learning_rate, momentum=0.9)\n",
        "\n",
        "# Train the model with random weight initialization\n",
        "train(model_random_init, train_loader, criterion, optimizer, num_epochs)\n",
        "\n",
        "# Evaluate the model with random weight initialization\n",
        "evaluate(model_random_init, test_loader)\n"
      ],
      "metadata": {
        "id": "f__rXeZ0w-o3",
        "outputId": "5f5c7822-f719-4ac7-9aea-edd1a8745135",
        "colab": {
          "base_uri": "https://localhost:8080/"
        }
      },
      "execution_count": 33,
      "outputs": [
        {
          "output_type": "stream",
          "name": "stdout",
          "text": [
            "Epoch [1/20], Loss: 0.1013\n",
            "Epoch [2/20], Loss: 0.0824\n",
            "Epoch [3/20], Loss: 0.0156\n",
            "Epoch [4/20], Loss: 0.0258\n",
            "Epoch [5/20], Loss: 0.0087\n",
            "Epoch [6/20], Loss: 0.0052\n",
            "Epoch [7/20], Loss: 0.0006\n",
            "Epoch [8/20], Loss: 0.0074\n",
            "Epoch [9/20], Loss: 0.0112\n",
            "Epoch [10/20], Loss: 0.0208\n",
            "Epoch [11/20], Loss: 0.0014\n",
            "Epoch [12/20], Loss: 0.0132\n",
            "Epoch [13/20], Loss: 0.0006\n",
            "Epoch [14/20], Loss: 0.0080\n",
            "Epoch [15/20], Loss: 0.0067\n",
            "Epoch [16/20], Loss: 0.0003\n",
            "Epoch [17/20], Loss: 0.0021\n",
            "Epoch [18/20], Loss: 0.0023\n",
            "Epoch [19/20], Loss: 0.0077\n",
            "Epoch [20/20], Loss: 0.0004\n",
            "Accuracy of the model on the test images: 98.87 %\n"
          ]
        }
      ]
    },
    {
      "cell_type": "markdown",
      "source": [
        "### L1 Normalization"
      ],
      "metadata": {
        "id": "8wCfQnBkkzqp"
      }
    },
    {
      "cell_type": "code",
      "source": [
        "# Custom loss function with L1 regularization\n",
        "class L1LossWithReg(nn.Module):\n",
        "    def __init__(self, model, l1_lambda):\n",
        "        super(L1LossWithReg, self).__init__()\n",
        "        self.model = model\n",
        "        self.l1_lambda = l1_lambda\n",
        "        self.criterion = nn.CrossEntropyLoss()\n",
        "\n",
        "    def forward(self, outputs, targets):\n",
        "        l1_norm = sum(p.abs().sum() for p in self.model.parameters())\n",
        "        loss = self.criterion(outputs, targets) + self.l1_lambda * l1_norm\n",
        "        return loss\n",
        "\n",
        "# Initialize the model (same as the original model)\n",
        "model_l1 = CNN().to(device)\n",
        "\n",
        "# Loss and optimizer\n",
        "l1_lambda = 0.01\n",
        "criterion = L1LossWithReg(model_l1, l1_lambda)\n",
        "optimizer = optim.SGD(model_l1.parameters(), lr=learning_rate, momentum=0.9)\n",
        "\n",
        "# Train the model with L1 regularization\n",
        "train(model_l1, train_loader, criterion, optimizer, num_epochs)\n",
        "\n",
        "# Evaluate the model with L1 regularization\n",
        "evaluate(model_l1, test_loader)\n"
      ],
      "metadata": {
        "id": "FXN7Y4pJxBOk",
        "outputId": "1226c307-68e3-4ea0-efa7-4e0734457667",
        "colab": {
          "base_uri": "https://localhost:8080/"
        }
      },
      "execution_count": 34,
      "outputs": [
        {
          "output_type": "stream",
          "name": "stdout",
          "text": [
            "Epoch [1/20], Loss: 1.2480\n",
            "Epoch [2/20], Loss: 1.1345\n",
            "Epoch [3/20], Loss: 1.1090\n",
            "Epoch [4/20], Loss: 1.0015\n",
            "Epoch [5/20], Loss: 1.1782\n",
            "Epoch [6/20], Loss: 1.1070\n",
            "Epoch [7/20], Loss: 1.2250\n",
            "Epoch [8/20], Loss: 1.0860\n",
            "Epoch [9/20], Loss: 1.0574\n",
            "Epoch [10/20], Loss: 1.2485\n",
            "Epoch [11/20], Loss: 1.0360\n",
            "Epoch [12/20], Loss: 1.5340\n",
            "Epoch [13/20], Loss: 1.0479\n",
            "Epoch [14/20], Loss: 1.1316\n",
            "Epoch [15/20], Loss: 1.0573\n",
            "Epoch [16/20], Loss: 1.3028\n",
            "Epoch [17/20], Loss: 1.1129\n",
            "Epoch [18/20], Loss: 1.1791\n",
            "Epoch [19/20], Loss: 1.0458\n",
            "Epoch [20/20], Loss: 1.0305\n",
            "Accuracy of the model on the test images: 83.63 %\n"
          ]
        }
      ]
    },
    {
      "cell_type": "markdown",
      "source": [
        "### Compare"
      ],
      "metadata": {
        "id": "d7huguIjxQjN"
      }
    },
    {
      "cell_type": "code",
      "source": [
        "def train_with_logging(model, train_loader, criterion, optimizer, num_epochs):\n",
        "    model.train()\n",
        "    train_acc = []\n",
        "    val_acc = []\n",
        "    for epoch in range(num_epochs):\n",
        "        correct = 0\n",
        "        total = 0\n",
        "        for images, labels in train_loader:\n",
        "            images = images.to(device)\n",
        "            labels = labels.to(device)\n",
        "\n",
        "            # Forward pass\n",
        "            outputs = model(images)\n",
        "            loss = criterion(outputs, labels)\n",
        "\n",
        "            # Backward and optimize\n",
        "            optimizer.zero_grad()\n",
        "            loss.backward()\n",
        "            optimizer.step()\n",
        "\n",
        "            _, predicted = torch.max(outputs.data, 1)\n",
        "            total += labels.size(0)\n",
        "            correct += (predicted == labels).sum().item()\n",
        "\n",
        "        train_acc.append(100 * correct / total)\n",
        "        val_acc.append(evaluate(model, test_loader, logging=False))\n",
        "        print(f'Epoch [{epoch+1}/{num_epochs}], Loss: {loss.item():.4f}, Train Accuracy: {train_acc[-1]:.2f}%, Validation Accuracy: {val_acc[-1]:.2f}%')\n",
        "    return train_acc, val_acc\n",
        "\n",
        "def evaluate(model, test_loader, logging=True):\n",
        "    model.eval()\n",
        "    with torch.no_grad():\n",
        "        correct = 0\n",
        "        total = 0\n",
        "        for images, labels in test_loader:\n",
        "            images = images.to(device)\n",
        "            labels = labels.to(device)\n",
        "            outputs = model(images)\n",
        "            _, predicted = torch.max(outputs.data, 1)\n",
        "            total += labels.size(0)\n",
        "            correct += (predicted == labels).sum().item()\n",
        "        if logging:\n",
        "            print('Accuracy of the model on the test images: {} %'.format(100 * correct / total))\n",
        "        return 100 * correct / total"
      ],
      "metadata": {
        "id": "rAq94wroxSe-"
      },
      "execution_count": 35,
      "outputs": []
    },
    {
      "cell_type": "code",
      "source": [
        "histories = []\n",
        "\n",
        "# Early Stopping\n",
        "model_early_stopping = CNN().to(device)\n",
        "criterion = nn.CrossEntropyLoss()\n",
        "optimizer = optim.SGD(model_early_stopping.parameters(), lr=learning_rate, momentum=0.9)\n",
        "train_acc_early_stopping, val_acc_early_stopping = train_with_early_stopping(model_early_stopping, train_loader, val_loader, criterion, optimizer, num_epochs)\n",
        "histories.append({'label': 'Early Stopping', 'train_acc': train_acc_early_stopping, 'val_acc': val_acc_early_stopping})\n",
        "\n",
        "\n",
        "# No regularization\n",
        "model = CNN().to(device)\n",
        "criterion = nn.CrossEntropyLoss()\n",
        "optimizer = optim.SGD(model.parameters(), lr=learning_rate, momentum=0.9)\n",
        "train_acc, val_acc = train_with_logging(model, train_loader, criterion, optimizer, num_epochs)\n",
        "histories.append({'label': 'No Regularization', 'train_acc': train_acc, 'val_acc': val_acc})\n",
        "\n",
        "# Dropout\n",
        "model_dropout = CNNWithDropout().to(device)\n",
        "criterion = nn.CrossEntropyLoss()\n",
        "optimizer = optim.SGD(model_dropout.parameters(), lr=learning_rate, momentum=0.9)\n",
        "train_acc_dropout, val_acc_dropout = train_with_logging(model_dropout, train_loader, criterion, optimizer, num_epochs)\n",
        "histories.append({'label': 'Dropout', 'train_acc': train_acc_dropout, 'val_acc': val_acc_dropout})\n",
        "\n",
        "# L2 Regularization\n",
        "model_l2 = CNN().to(device)\n",
        "criterion = nn.CrossEntropyLoss()\n",
        "optimizer = optim.SGD(model_l2.parameters(), lr=learning_rate, momentum=0.9, weight_decay=0.01)\n",
        "train_acc_l2, val_acc_l2 = train_with_logging(model_l2, train_loader, criterion, optimizer, num_epochs)\n",
        "histories.append({'label': 'L2 Regularization', 'train_acc': train_acc_l2, 'val_acc': val_acc_l2})\n",
        "\n",
        "# Data Augmentation\n",
        "model_augmentation = CNN().to(device)\n",
        "criterion = nn.CrossEntropyLoss()\n",
        "optimizer = optim.SGD(model_augmentation.parameters(), lr=learning_rate, momentum=0.9)\n",
        "train_acc_augmentation, val_acc_augmentation = train_with_logging(model_augmentation, train_loader_augmented, criterion, optimizer, num_epochs)\n",
        "histories.append({'label': 'Data Augmentation', 'train_acc': train_acc_augmentation, 'val_acc': val_acc_augmentation})\n",
        "\n",
        "# # Early Stopping\n",
        "# model_early_stopping = CNN().to(device)\n",
        "# criterion = nn.CrossEntropyLoss()\n",
        "# optimizer = optim.SGD(model_early_stopping.parameters(), lr=learning_rate, momentum=0.9)\n",
        "# train_acc_early_stopping, val_acc_early_stopping = train_with_early_stopping(model_early_stopping, train_loader, val_loader, criterion, optimizer, num_epochs)\n",
        "# histories.append({'label': 'Early Stopping', 'train_acc': train_acc_early_stopping, 'val_acc': val_acc_early_stopping})\n",
        "\n",
        "# Adding Noise\n",
        "model_noise = CNNWithNoise().to(device)\n",
        "criterion = nn.CrossEntropyLoss()\n",
        "optimizer = optim.SGD(model_noise.parameters(), lr=learning_rate, momentum=0.9)\n",
        "train_acc_noise, val_acc_noise = train_with_logging(model_noise, train_loader, criterion, optimizer, num_epochs)\n",
        "histories.append({'label': 'Adding Noise', 'train_acc': train_acc_noise, 'val_acc': val_acc_noise})\n",
        "\n",
        "# Random Weight Initialization\n",
        "model_random_init = CNNWithRandomInit().to(device)\n",
        "criterion = nn.CrossEntropyLoss()\n",
        "optimizer = optim.SGD(model_random_init.parameters(), lr=learning_rate, momentum=0.9)\n",
        "train_acc_random_init, val_acc_random_init = train_with_logging(model_random_init, train_loader, criterion, optimizer, num_epochs)\n",
        "histories.append({'label': 'Random Weight Initialization', 'train_acc': train_acc_random_init, 'val_acc': val_acc_random_init})\n",
        "\n",
        "# L1 Regularization\n",
        "model_l1 = CNN().to(device)\n",
        "l1_lambda = 0.01\n",
        "criterion = L1LossWithReg(model_l1, l1_lambda)\n",
        "optimizer = optim.SGD(model_l1.parameters(), lr=learning_rate, momentum=0.9)\n",
        "train_acc_l1, val_acc_l1 = train_with_logging(model_l1, train_loader, criterion, optimizer, num_epochs)\n",
        "histories.append({'label': 'L1 Regularization', 'train_acc': train_acc_l1, 'val_acc': val_acc_l1})\n"
      ],
      "metadata": {
        "id": "9li6qH7lxZLI",
        "outputId": "9ea3bbf0-84f5-4f3a-a1b3-255fce365494",
        "colab": {
          "base_uri": "https://localhost:8080/"
        }
      },
      "execution_count": 36,
      "outputs": [
        {
          "output_type": "stream",
          "name": "stdout",
          "text": [
            "Epoch [1/20], Loss: 0.1167, Train Accuracy: 91.46%, Validation Accuracy: 97.66%, Val Loss: 0.0807\n",
            "Epoch [2/20], Loss: 0.0193, Train Accuracy: 97.93%, Validation Accuracy: 98.49%, Val Loss: 0.0481\n",
            "Epoch [3/20], Loss: 0.0190, Train Accuracy: 98.55%, Validation Accuracy: 98.62%, Val Loss: 0.0439\n",
            "Epoch [4/20], Loss: 0.0162, Train Accuracy: 98.85%, Validation Accuracy: 99.08%, Val Loss: 0.0307\n",
            "Epoch [5/20], Loss: 0.0112, Train Accuracy: 99.06%, Validation Accuracy: 99.25%, Val Loss: 0.0252\n",
            "Epoch [6/20], Loss: 0.0081, Train Accuracy: 99.27%, Validation Accuracy: 99.25%, Val Loss: 0.0236\n",
            "Epoch [7/20], Loss: 0.0084, Train Accuracy: 99.34%, Validation Accuracy: 99.41%, Val Loss: 0.0190\n",
            "Epoch [8/20], Loss: 0.0179, Train Accuracy: 99.47%, Validation Accuracy: 99.59%, Val Loss: 0.0143\n",
            "Epoch [9/20], Loss: 0.0051, Train Accuracy: 99.57%, Validation Accuracy: 99.63%, Val Loss: 0.0124\n",
            "Epoch [10/20], Loss: 0.0042, Train Accuracy: 99.65%, Validation Accuracy: 99.74%, Val Loss: 0.0099\n",
            "Epoch [11/20], Loss: 0.0012, Train Accuracy: 99.69%, Validation Accuracy: 99.85%, Val Loss: 0.0061\n",
            "Epoch [12/20], Loss: 0.0016, Train Accuracy: 99.77%, Validation Accuracy: 99.71%, Val Loss: 0.0093\n",
            "Epoch [13/20], Loss: 0.0043, Train Accuracy: 99.80%, Validation Accuracy: 99.88%, Val Loss: 0.0052\n",
            "Epoch [14/20], Loss: 0.0079, Train Accuracy: 99.84%, Validation Accuracy: 99.82%, Val Loss: 0.0064\n",
            "Epoch [15/20], Loss: 0.0005, Train Accuracy: 99.86%, Validation Accuracy: 99.82%, Val Loss: 0.0060\n",
            "Epoch [16/20], Loss: 0.0008, Train Accuracy: 99.89%, Validation Accuracy: 99.94%, Val Loss: 0.0029\n",
            "Epoch [17/20], Loss: 0.0004, Train Accuracy: 99.88%, Validation Accuracy: 99.94%, Val Loss: 0.0027\n",
            "Epoch [18/20], Loss: 0.0016, Train Accuracy: 99.92%, Validation Accuracy: 99.89%, Val Loss: 0.0036\n",
            "Epoch [19/20], Loss: 0.0025, Train Accuracy: 99.94%, Validation Accuracy: 99.95%, Val Loss: 0.0021\n",
            "Epoch [20/20], Loss: 0.0018, Train Accuracy: 99.97%, Validation Accuracy: 99.96%, Val Loss: 0.0018\n",
            "Epoch [1/20], Loss: 0.0655, Train Accuracy: 91.33%, Validation Accuracy: 97.81%\n",
            "Epoch [2/20], Loss: 0.0689, Train Accuracy: 98.07%, Validation Accuracy: 98.41%\n",
            "Epoch [3/20], Loss: 0.0196, Train Accuracy: 98.65%, Validation Accuracy: 98.32%\n",
            "Epoch [4/20], Loss: 0.0407, Train Accuracy: 98.87%, Validation Accuracy: 98.83%\n",
            "Epoch [5/20], Loss: 0.0159, Train Accuracy: 99.10%, Validation Accuracy: 98.93%\n",
            "Epoch [6/20], Loss: 0.0089, Train Accuracy: 99.24%, Validation Accuracy: 98.91%\n",
            "Epoch [7/20], Loss: 0.0005, Train Accuracy: 99.35%, Validation Accuracy: 99.10%\n",
            "Epoch [8/20], Loss: 0.0006, Train Accuracy: 99.47%, Validation Accuracy: 98.99%\n",
            "Epoch [9/20], Loss: 0.0219, Train Accuracy: 99.56%, Validation Accuracy: 99.03%\n",
            "Epoch [10/20], Loss: 0.0884, Train Accuracy: 99.65%, Validation Accuracy: 98.95%\n",
            "Epoch [11/20], Loss: 0.0011, Train Accuracy: 99.69%, Validation Accuracy: 99.18%\n",
            "Epoch [12/20], Loss: 0.0008, Train Accuracy: 99.77%, Validation Accuracy: 99.13%\n",
            "Epoch [13/20], Loss: 0.0015, Train Accuracy: 99.80%, Validation Accuracy: 98.96%\n",
            "Epoch [14/20], Loss: 0.0010, Train Accuracy: 99.85%, Validation Accuracy: 99.02%\n",
            "Epoch [15/20], Loss: 0.0009, Train Accuracy: 99.82%, Validation Accuracy: 99.22%\n",
            "Epoch [16/20], Loss: 0.0012, Train Accuracy: 99.91%, Validation Accuracy: 99.25%\n",
            "Epoch [17/20], Loss: 0.0032, Train Accuracy: 99.91%, Validation Accuracy: 99.18%\n",
            "Epoch [18/20], Loss: 0.0004, Train Accuracy: 99.96%, Validation Accuracy: 99.17%\n",
            "Epoch [19/20], Loss: 0.0011, Train Accuracy: 99.96%, Validation Accuracy: 99.19%\n",
            "Epoch [20/20], Loss: 0.0144, Train Accuracy: 99.97%, Validation Accuracy: 99.14%\n",
            "Epoch [1/20], Loss: 0.1684, Train Accuracy: 88.58%, Validation Accuracy: 97.20%\n",
            "Epoch [2/20], Loss: 0.0249, Train Accuracy: 98.00%, Validation Accuracy: 98.48%\n",
            "Epoch [3/20], Loss: 0.0196, Train Accuracy: 98.65%, Validation Accuracy: 98.87%\n",
            "Epoch [4/20], Loss: 0.0611, Train Accuracy: 98.95%, Validation Accuracy: 98.84%\n",
            "Epoch [5/20], Loss: 0.0350, Train Accuracy: 99.13%, Validation Accuracy: 98.95%\n",
            "Epoch [6/20], Loss: 0.0787, Train Accuracy: 99.31%, Validation Accuracy: 98.90%\n",
            "Epoch [7/20], Loss: 0.0181, Train Accuracy: 99.47%, Validation Accuracy: 99.07%\n",
            "Epoch [8/20], Loss: 0.0152, Train Accuracy: 99.53%, Validation Accuracy: 99.16%\n",
            "Epoch [9/20], Loss: 0.0068, Train Accuracy: 99.61%, Validation Accuracy: 99.04%\n",
            "Epoch [10/20], Loss: 0.0019, Train Accuracy: 99.68%, Validation Accuracy: 98.97%\n",
            "Epoch [11/20], Loss: 0.0086, Train Accuracy: 99.72%, Validation Accuracy: 99.20%\n",
            "Epoch [12/20], Loss: 0.0015, Train Accuracy: 99.79%, Validation Accuracy: 99.06%\n",
            "Epoch [13/20], Loss: 0.0016, Train Accuracy: 99.84%, Validation Accuracy: 99.23%\n",
            "Epoch [14/20], Loss: 0.0048, Train Accuracy: 99.88%, Validation Accuracy: 99.25%\n",
            "Epoch [15/20], Loss: 0.0005, Train Accuracy: 99.88%, Validation Accuracy: 99.06%\n",
            "Epoch [16/20], Loss: 0.0011, Train Accuracy: 99.91%, Validation Accuracy: 99.11%\n",
            "Epoch [17/20], Loss: 0.0056, Train Accuracy: 99.92%, Validation Accuracy: 99.12%\n",
            "Epoch [18/20], Loss: 0.0001, Train Accuracy: 99.96%, Validation Accuracy: 99.17%\n",
            "Epoch [19/20], Loss: 0.0010, Train Accuracy: 99.97%, Validation Accuracy: 99.13%\n",
            "Epoch [20/20], Loss: 0.0095, Train Accuracy: 99.98%, Validation Accuracy: 99.19%\n",
            "Epoch [1/20], Loss: 0.0853, Train Accuracy: 91.28%, Validation Accuracy: 97.34%\n",
            "Epoch [2/20], Loss: 0.1103, Train Accuracy: 97.40%, Validation Accuracy: 97.62%\n",
            "Epoch [3/20], Loss: 0.0609, Train Accuracy: 97.82%, Validation Accuracy: 98.01%\n",
            "Epoch [4/20], Loss: 0.0384, Train Accuracy: 97.93%, Validation Accuracy: 98.30%\n",
            "Epoch [5/20], Loss: 0.0519, Train Accuracy: 98.01%, Validation Accuracy: 97.89%\n",
            "Epoch [6/20], Loss: 0.0125, Train Accuracy: 98.03%, Validation Accuracy: 98.05%\n",
            "Epoch [7/20], Loss: 0.0440, Train Accuracy: 97.99%, Validation Accuracy: 97.88%\n",
            "Epoch [8/20], Loss: 0.1208, Train Accuracy: 98.04%, Validation Accuracy: 98.41%\n",
            "Epoch [9/20], Loss: 0.0403, Train Accuracy: 98.05%, Validation Accuracy: 98.09%\n",
            "Epoch [10/20], Loss: 0.0386, Train Accuracy: 98.10%, Validation Accuracy: 98.42%\n",
            "Epoch [11/20], Loss: 0.0764, Train Accuracy: 98.10%, Validation Accuracy: 97.88%\n",
            "Epoch [12/20], Loss: 0.1010, Train Accuracy: 98.19%, Validation Accuracy: 98.27%\n",
            "Epoch [13/20], Loss: 0.0721, Train Accuracy: 98.13%, Validation Accuracy: 98.41%\n",
            "Epoch [14/20], Loss: 0.0378, Train Accuracy: 98.10%, Validation Accuracy: 98.40%\n",
            "Epoch [15/20], Loss: 0.0373, Train Accuracy: 98.15%, Validation Accuracy: 98.35%\n",
            "Epoch [16/20], Loss: 0.0877, Train Accuracy: 98.06%, Validation Accuracy: 97.78%\n",
            "Epoch [17/20], Loss: 0.0332, Train Accuracy: 98.17%, Validation Accuracy: 98.03%\n",
            "Epoch [18/20], Loss: 0.1221, Train Accuracy: 98.08%, Validation Accuracy: 98.53%\n",
            "Epoch [19/20], Loss: 0.1016, Train Accuracy: 98.12%, Validation Accuracy: 97.64%\n",
            "Epoch [20/20], Loss: 0.0408, Train Accuracy: 98.16%, Validation Accuracy: 97.56%\n",
            "Epoch [1/20], Loss: 0.1887, Train Accuracy: 86.81%, Validation Accuracy: 97.51%\n",
            "Epoch [2/20], Loss: 0.1363, Train Accuracy: 96.45%, Validation Accuracy: 98.54%\n",
            "Epoch [3/20], Loss: 0.0931, Train Accuracy: 97.23%, Validation Accuracy: 98.91%\n",
            "Epoch [4/20], Loss: 0.0115, Train Accuracy: 97.74%, Validation Accuracy: 98.96%\n",
            "Epoch [5/20], Loss: 0.0412, Train Accuracy: 98.08%, Validation Accuracy: 99.07%\n",
            "Epoch [6/20], Loss: 0.1069, Train Accuracy: 98.18%, Validation Accuracy: 99.04%\n",
            "Epoch [7/20], Loss: 0.0428, Train Accuracy: 98.37%, Validation Accuracy: 99.11%\n",
            "Epoch [8/20], Loss: 0.0121, Train Accuracy: 98.45%, Validation Accuracy: 99.14%\n",
            "Epoch [9/20], Loss: 0.0436, Train Accuracy: 98.51%, Validation Accuracy: 99.23%\n",
            "Epoch [10/20], Loss: 0.0184, Train Accuracy: 98.64%, Validation Accuracy: 99.33%\n",
            "Epoch [11/20], Loss: 0.0599, Train Accuracy: 98.72%, Validation Accuracy: 99.20%\n",
            "Epoch [12/20], Loss: 0.0146, Train Accuracy: 98.77%, Validation Accuracy: 99.32%\n",
            "Epoch [13/20], Loss: 0.0189, Train Accuracy: 98.88%, Validation Accuracy: 99.22%\n",
            "Epoch [14/20], Loss: 0.0586, Train Accuracy: 98.92%, Validation Accuracy: 99.33%\n",
            "Epoch [15/20], Loss: 0.0681, Train Accuracy: 98.88%, Validation Accuracy: 99.23%\n",
            "Epoch [16/20], Loss: 0.0116, Train Accuracy: 98.95%, Validation Accuracy: 99.26%\n",
            "Epoch [17/20], Loss: 0.0564, Train Accuracy: 99.05%, Validation Accuracy: 99.31%\n",
            "Epoch [18/20], Loss: 0.0505, Train Accuracy: 99.03%, Validation Accuracy: 99.23%\n",
            "Epoch [19/20], Loss: 0.0127, Train Accuracy: 99.10%, Validation Accuracy: 99.29%\n",
            "Epoch [20/20], Loss: 0.0580, Train Accuracy: 99.06%, Validation Accuracy: 99.38%\n",
            "Epoch [1/20], Loss: 0.0819, Train Accuracy: 90.60%, Validation Accuracy: 97.68%\n",
            "Epoch [2/20], Loss: 0.0802, Train Accuracy: 97.89%, Validation Accuracy: 98.16%\n",
            "Epoch [3/20], Loss: 0.0238, Train Accuracy: 98.58%, Validation Accuracy: 98.38%\n",
            "Epoch [4/20], Loss: 0.0435, Train Accuracy: 98.84%, Validation Accuracy: 98.94%\n",
            "Epoch [5/20], Loss: 0.0347, Train Accuracy: 99.04%, Validation Accuracy: 98.89%\n",
            "Epoch [6/20], Loss: 0.0396, Train Accuracy: 99.24%, Validation Accuracy: 98.98%\n",
            "Epoch [7/20], Loss: 0.0175, Train Accuracy: 99.28%, Validation Accuracy: 98.96%\n",
            "Epoch [8/20], Loss: 0.0146, Train Accuracy: 99.43%, Validation Accuracy: 99.04%\n",
            "Epoch [9/20], Loss: 0.0130, Train Accuracy: 99.52%, Validation Accuracy: 99.13%\n",
            "Epoch [10/20], Loss: 0.0040, Train Accuracy: 99.61%, Validation Accuracy: 99.11%\n",
            "Epoch [11/20], Loss: 0.0206, Train Accuracy: 99.69%, Validation Accuracy: 99.16%\n",
            "Epoch [12/20], Loss: 0.0007, Train Accuracy: 99.74%, Validation Accuracy: 99.12%\n",
            "Epoch [13/20], Loss: 0.0021, Train Accuracy: 99.78%, Validation Accuracy: 99.16%\n",
            "Epoch [14/20], Loss: 0.0067, Train Accuracy: 99.80%, Validation Accuracy: 99.15%\n",
            "Epoch [15/20], Loss: 0.0005, Train Accuracy: 99.84%, Validation Accuracy: 99.16%\n",
            "Epoch [16/20], Loss: 0.0026, Train Accuracy: 99.92%, Validation Accuracy: 99.14%\n",
            "Epoch [17/20], Loss: 0.0006, Train Accuracy: 99.88%, Validation Accuracy: 99.13%\n",
            "Epoch [18/20], Loss: 0.0181, Train Accuracy: 99.93%, Validation Accuracy: 99.11%\n",
            "Epoch [19/20], Loss: 0.0051, Train Accuracy: 99.92%, Validation Accuracy: 99.14%\n",
            "Epoch [20/20], Loss: 0.0006, Train Accuracy: 99.95%, Validation Accuracy: 99.14%\n",
            "Epoch [1/20], Loss: 0.1343, Train Accuracy: 92.33%, Validation Accuracy: 97.56%\n",
            "Epoch [2/20], Loss: 0.0565, Train Accuracy: 97.83%, Validation Accuracy: 98.22%\n",
            "Epoch [3/20], Loss: 0.0381, Train Accuracy: 98.39%, Validation Accuracy: 98.36%\n",
            "Epoch [4/20], Loss: 0.0058, Train Accuracy: 98.70%, Validation Accuracy: 98.50%\n",
            "Epoch [5/20], Loss: 0.0184, Train Accuracy: 98.97%, Validation Accuracy: 98.38%\n",
            "Epoch [6/20], Loss: 0.0243, Train Accuracy: 99.11%, Validation Accuracy: 98.58%\n",
            "Epoch [7/20], Loss: 0.0051, Train Accuracy: 99.22%, Validation Accuracy: 98.67%\n",
            "Epoch [8/20], Loss: 0.0333, Train Accuracy: 99.41%, Validation Accuracy: 98.53%\n",
            "Epoch [9/20], Loss: 0.0036, Train Accuracy: 99.47%, Validation Accuracy: 98.77%\n",
            "Epoch [10/20], Loss: 0.0780, Train Accuracy: 99.53%, Validation Accuracy: 98.79%\n",
            "Epoch [11/20], Loss: 0.0065, Train Accuracy: 99.63%, Validation Accuracy: 98.83%\n",
            "Epoch [12/20], Loss: 0.0016, Train Accuracy: 99.71%, Validation Accuracy: 98.78%\n",
            "Epoch [13/20], Loss: 0.0005, Train Accuracy: 99.77%, Validation Accuracy: 98.88%\n",
            "Epoch [14/20], Loss: 0.0060, Train Accuracy: 99.79%, Validation Accuracy: 98.78%\n",
            "Epoch [15/20], Loss: 0.0037, Train Accuracy: 99.89%, Validation Accuracy: 98.76%\n",
            "Epoch [16/20], Loss: 0.0012, Train Accuracy: 99.89%, Validation Accuracy: 98.80%\n",
            "Epoch [17/20], Loss: 0.0002, Train Accuracy: 99.93%, Validation Accuracy: 98.93%\n",
            "Epoch [18/20], Loss: 0.0003, Train Accuracy: 99.94%, Validation Accuracy: 98.85%\n",
            "Epoch [19/20], Loss: 0.0003, Train Accuracy: 99.97%, Validation Accuracy: 98.79%\n",
            "Epoch [20/20], Loss: 0.0000, Train Accuracy: 99.97%, Validation Accuracy: 98.89%\n",
            "Epoch [1/20], Loss: 1.3554, Train Accuracy: 75.85%, Validation Accuracy: 85.18%\n",
            "Epoch [2/20], Loss: 1.2145, Train Accuracy: 83.62%, Validation Accuracy: 82.92%\n",
            "Epoch [3/20], Loss: 1.3099, Train Accuracy: 83.97%, Validation Accuracy: 85.05%\n",
            "Epoch [4/20], Loss: 1.0339, Train Accuracy: 84.03%, Validation Accuracy: 82.56%\n",
            "Epoch [5/20], Loss: 1.1680, Train Accuracy: 84.19%, Validation Accuracy: 83.15%\n",
            "Epoch [6/20], Loss: 1.1019, Train Accuracy: 83.92%, Validation Accuracy: 83.84%\n",
            "Epoch [7/20], Loss: 1.1095, Train Accuracy: 83.94%, Validation Accuracy: 85.68%\n",
            "Epoch [8/20], Loss: 1.3148, Train Accuracy: 83.73%, Validation Accuracy: 83.26%\n",
            "Epoch [9/20], Loss: 1.3948, Train Accuracy: 84.19%, Validation Accuracy: 84.93%\n",
            "Epoch [10/20], Loss: 1.2657, Train Accuracy: 83.75%, Validation Accuracy: 86.58%\n",
            "Epoch [11/20], Loss: 1.0500, Train Accuracy: 84.32%, Validation Accuracy: 84.85%\n",
            "Epoch [12/20], Loss: 1.1588, Train Accuracy: 83.71%, Validation Accuracy: 87.13%\n",
            "Epoch [13/20], Loss: 1.0529, Train Accuracy: 84.56%, Validation Accuracy: 86.51%\n",
            "Epoch [14/20], Loss: 1.1101, Train Accuracy: 84.70%, Validation Accuracy: 85.46%\n",
            "Epoch [15/20], Loss: 1.2122, Train Accuracy: 83.53%, Validation Accuracy: 84.85%\n",
            "Epoch [16/20], Loss: 1.0808, Train Accuracy: 83.65%, Validation Accuracy: 84.89%\n",
            "Epoch [17/20], Loss: 1.1276, Train Accuracy: 83.75%, Validation Accuracy: 83.67%\n",
            "Epoch [18/20], Loss: 1.1363, Train Accuracy: 83.75%, Validation Accuracy: 82.58%\n",
            "Epoch [19/20], Loss: 0.9872, Train Accuracy: 83.59%, Validation Accuracy: 85.88%\n",
            "Epoch [20/20], Loss: 1.0798, Train Accuracy: 83.64%, Validation Accuracy: 85.36%\n"
          ]
        }
      ]
    },
    {
      "cell_type": "code",
      "source": [
        "def plot_results(histories, title):\n",
        "    plt.figure(figsize=(14, 8))\n",
        "    for history in histories:\n",
        "        plt.plot(history['train_acc'], label=history['label'] + ' Train')\n",
        "        plt.plot(history['val_acc'], label=history['label'] + ' Val')\n",
        "    plt.title(title)\n",
        "    plt.xlabel('Epoch')\n",
        "    plt.ylabel('Accuracy')\n",
        "    plt.legend()\n",
        "    plt.show()\n",
        "\n",
        "plot_results(histories, 'Training and Validation Accuracy with Different Regularization Techniques')\n"
      ],
      "metadata": {
        "id": "wI2E6KzL1SBS",
        "outputId": "09c80c94-8bc8-45e1-c53d-46097105e8cc",
        "colab": {
          "base_uri": "https://localhost:8080/",
          "height": 718
        }
      },
      "execution_count": 37,
      "outputs": [
        {
          "output_type": "display_data",
          "data": {
            "text/plain": [
              "<Figure size 1400x800 with 1 Axes>"
            ],
            "image/png": "[encoded data removed]"
          },
          "metadata": {}
        }
      ]
    }
  ]
}